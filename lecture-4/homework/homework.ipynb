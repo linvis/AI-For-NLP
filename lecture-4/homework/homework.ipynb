{
 "cells": [
  {
   "cell_type": "markdown",
   "metadata": {},
   "source": [
    "## Part I Review the online programming."
   ]
  },
  {
   "cell_type": "code",
   "execution_count": 1,
   "metadata": {},
   "outputs": [],
   "source": [
    "from collections import defaultdict"
   ]
  },
  {
   "cell_type": "code",
   "execution_count": 2,
   "metadata": {},
   "outputs": [],
   "source": [
    "piece_price = [1, 5, 8, 9, 10, 17, 17, 20, 24, 30]"
   ]
  },
  {
   "cell_type": "code",
   "execution_count": 4,
   "metadata": {},
   "outputs": [
    {
     "data": {
      "text/plain": [
       "5"
      ]
     },
     "execution_count": 4,
     "metadata": {},
     "output_type": "execute_result"
    }
   ],
   "source": [
    "price = defaultdict(int)\n",
    "\n",
    "for i in range(len(piece_price)):\n",
    "    price[i + 1] = piece_price[i]\n",
    "    \n",
    "price[2]"
   ]
  },
  {
   "cell_type": "code",
   "execution_count": 5,
   "metadata": {},
   "outputs": [],
   "source": [
    "from functools import lru_cache"
   ]
  },
  {
   "cell_type": "code",
   "execution_count": 6,
   "metadata": {},
   "outputs": [],
   "source": [
    "def to_chunks(data):\n",
    "    chunks = []\n",
    "    \n",
    "    for i in data:\n",
    "        if isinstance(i, list):\n",
    "            sub_data = to_chunks(i)\n",
    "            for d in sub_data:\n",
    "                chunks.append(d)\n",
    "        else:\n",
    "            chunks.append(i)\n",
    "            \n",
    "    return chunks\n",
    "        "
   ]
  },
  {
   "cell_type": "code",
   "execution_count": 7,
   "metadata": {},
   "outputs": [
    {
     "data": {
      "text/plain": [
       "[2, 6, 10, 10, 10, 10, 10, 10]"
      ]
     },
     "execution_count": 7,
     "metadata": {},
     "output_type": "execute_result"
    }
   ],
   "source": [
    "to_chunks([2, [6, [10, [10, [10, [10, [10, 10]]]]]]])"
   ]
  },
  {
   "cell_type": "code",
   "execution_count": 8,
   "metadata": {},
   "outputs": [],
   "source": [
    "# put recursive and solution together\n",
    "@lru_cache(2*10000)\n",
    "def get_price(num):\n",
    " \n",
    "    max_price = price[num]\n",
    "    steps = num\n",
    "    # [price, steps]\n",
    "    for i in range(1, num):\n",
    "        left = get_price(i)\n",
    "        right = get_price(num - i)\n",
    "        if (max_price < left[0] + right[0]):\n",
    "            max_price = left[0] + right[0]\n",
    "            steps = to_chunks(left[1:] + right[1:])\n",
    "        \n",
    "    return [max_price, steps]"
   ]
  },
  {
   "cell_type": "code",
   "execution_count": 9,
   "metadata": {},
   "outputs": [
    {
     "data": {
      "text/plain": [
       "[73, [2, 3, 10, 10]]"
      ]
     },
     "execution_count": 9,
     "metadata": {},
     "output_type": "execute_result"
    }
   ],
   "source": [
    "get_price(25)"
   ]
  },
  {
   "cell_type": "markdown",
   "metadata": {},
   "source": [
    "## Part1-2: Finish the Solution Parse Part of Edit-Distance"
   ]
  },
  {
   "cell_type": "code",
   "execution_count": 10,
   "metadata": {},
   "outputs": [],
   "source": [
    "@lru_cache(maxsize=2**10)\n",
    "def edit_distance(str1, str2):\n",
    "    \n",
    "    if not len(str1):return len(str2)\n",
    "    \n",
    "    if not len(str2):return len(str1)\n",
    "    \n",
    "    tail1 = str1[-1]\n",
    "    tail2 = str2[-1]\n",
    "    \n",
    "    return min(edit_distance(str1[:-1], str2) + 1, # delete\n",
    "                   edit_distance(str1, str2[:-1]) + 1, # add\n",
    "                   edit_distance(str1[:-1], str2[:-1]) + (0 if tail1 == tail2 else 2)) # sub"
   ]
  },
  {
   "cell_type": "code",
   "execution_count": 11,
   "metadata": {},
   "outputs": [
    {
     "data": {
      "text/plain": [
       "3"
      ]
     },
     "execution_count": 11,
     "metadata": {},
     "output_type": "execute_result"
    }
   ],
   "source": [
    "edit_distance(\"ABCDE\", \"ABCCEF\")"
   ]
  },
  {
   "cell_type": "code",
   "execution_count": 12,
   "metadata": {},
   "outputs": [
    {
     "data": {
      "text/plain": [
       "2"
      ]
     },
     "execution_count": 12,
     "metadata": {},
     "output_type": "execute_result"
    }
   ],
   "source": [
    "edit_distance('ATCGGAA', 'ATCGGGA')"
   ]
  },
  {
   "cell_type": "code",
   "execution_count": 13,
   "metadata": {},
   "outputs": [],
   "source": [
    "solution = []"
   ]
  },
  {
   "cell_type": "code",
   "execution_count": 14,
   "metadata": {},
   "outputs": [],
   "source": [
    "@lru_cache(maxsize=2**10)\n",
    "def edit_distance_with_path(str1, str2):\n",
    "    \n",
    "    if not len(str1):return [len(str2), ' ']\n",
    "    \n",
    "    if not len(str2):return [len(str1), ' ']\n",
    "    \n",
    "    tail1 = str1[-1]\n",
    "    tail2 = str2[-1]\n",
    "     \n",
    "    _del = edit_distance_with_path(str1[:-1], str2)\n",
    "    _add = edit_distance_with_path(str1, str2[:-1])\n",
    "    _sub = edit_distance_with_path(str1[:-1], str2[:-1])\n",
    "    op_desc = {\n",
    "        \"del\":\" Del {}\".format(tail1),\n",
    "        \"add\":\" Add {}\".format(tail2),\n",
    "        \"sub0\":\"\",\n",
    "        \"sub2\":\" Sub {}=>{}\".format(tail1, tail2)\n",
    "    }\n",
    "    # [distance, operator]\n",
    "    operator = [\n",
    "        [_del[0] + 1, _del[1] + op_desc[\"del\"]],\n",
    "        [_add[0] + 1, _add[1] + op_desc[\"add\"]],  \n",
    "        [_sub[0] + (0 if tail1 == tail2 else 2), _sub[1] + op_desc[\"sub\" + ('0' if tail1 == tail2 else '2')]],\n",
    "    ]\n",
    "    min_op =  min(operator, key=lambda x : x[0])\n",
    "    return min_op"
   ]
  },
  {
   "cell_type": "code",
   "execution_count": 15,
   "metadata": {},
   "outputs": [
    {
     "data": {
      "text/plain": [
       "[3, '  Add C Del D Add F']"
      ]
     },
     "execution_count": 15,
     "metadata": {},
     "output_type": "execute_result"
    }
   ],
   "source": [
    "edit_distance_with_path(\"ABCDE\", \"ABCCEF\")"
   ]
  },
  {
   "cell_type": "code",
   "execution_count": 16,
   "metadata": {},
   "outputs": [
    {
     "data": {
      "text/plain": [
       "[2, '  Add G Del A']"
      ]
     },
     "execution_count": 16,
     "metadata": {},
     "output_type": "execute_result"
    }
   ],
   "source": [
    "edit_distance_with_path('ATCGGAA', 'ATCGGGA')"
   ]
  },
  {
   "cell_type": "markdown",
   "metadata": {},
   "source": [
    "## Part 2 Choose 1 - 2 books to keep reading:"
   ]
  },
  {
   "cell_type": "markdown",
   "metadata": {},
   "source": [
    "* 数学之美\n",
    "* Fluent Python"
   ]
  },
  {
   "cell_type": "markdown",
   "metadata": {},
   "source": [
    "## Part 3: Answer following questions:\n"
   ]
  },
  {
   "cell_type": "markdown",
   "metadata": {},
   "source": [
    "Why do we need dynamic programming? What's the difference of dynamic programming and previous talked search problme?\n",
    "\n",
    "Ans: 将复杂问题分解为多个子问题\n",
    "     动态规划涉及到状态转移，如何将复杂问题分解，找出复杂问题和子问题的关系，已达到减少运算的目的\n",
    "     搜索是一种递归操作，动态规划不仅仅是递归，动态规划在于分解复杂问题，减少运算。\n",
    "\n",
    "Why do we still need dynamic programming? Why not we train a machine learning to fit a function which could get the right answer based on inputs?\n",
    "\n",
    "Ans: 动态规划是一种解决问题的思想，适合轻量级的问题\n",
    "\n",
    "Can you catch up at least 3 problems which could solved by Dynamic Programming?\n",
    "\n",
    "Ans: 斐波那契数列，(图)最短路径，最长回文\n",
    "\n",
    "Can you catch up at least 3 problems wich could sloved by Edit Distance?\n",
    "\n",
    "Ans: 文本重复性检查，\n",
    "\n",
    "Please summarize the three main features of Dynamic Programming, and make a concise explain for each feature.\n",
    "\n",
    "Ans: 递归，查表，(子)问题的解决方案\n",
    "    \n",
    "    将问题分解为多个子问题(递归)，使用子问题的计算结果(查表)，按要求计算子问题(解决方案)\n",
    "\n",
    "What's the disadvantages of Dynamic Programming? (You may need search by yourself in Internet)\n",
    "\n",
    "Ans:  吃内存，递归可能会过深"
   ]
  },
  {
   "cell_type": "markdown",
   "metadata": {},
   "source": [
    "## (Optinal) Finish the k-person-salesman problem:"
   ]
  },
  {
   "cell_type": "code",
   "execution_count": 19,
   "metadata": {},
   "outputs": [],
   "source": [
    "import random\n",
    "import matplotlib.pylab as plt"
   ]
  },
  {
   "cell_type": "code",
   "execution_count": 20,
   "metadata": {},
   "outputs": [],
   "source": [
    "latitudes = [random.randint(-100, 100) for _ in range(20)]\n",
    "longitude = [random.randint(-100, 100) for _ in range(20)]"
   ]
  },
  {
   "cell_type": "code",
   "execution_count": 24,
   "metadata": {},
   "outputs": [
    {
     "data": {
      "text/plain": [
       "<matplotlib.collections.PathCollection at 0x1163666d8>"
      ]
     },
     "execution_count": 24,
     "metadata": {},
     "output_type": "execute_result"
    },
    {
     "data": {
      "image/png": "[encoded data removed]",
      "text/plain": [
       "<Figure size 432x288 with 1 Axes>"
      ]
     },
     "metadata": {
      "needs_background": "light"
     },
     "output_type": "display_data"
    }
   ],
   "source": [
    "plt.scatter(latitudes, longitude)"
   ]
  },
  {
   "cell_type": "code",
   "execution_count": 49,
   "metadata": {},
   "outputs": [
    {
     "data": {
      "text/plain": [
       "(68, 7)"
      ]
     },
     "execution_count": 49,
     "metadata": {},
     "output_type": "execute_result"
    }
   ],
   "source": [
    "coordinates = [(latitudes[i], longitude[i]) for i in range(len(latitudes))]\n",
    "coordinates[0]"
   ]
  },
  {
   "cell_type": "code",
   "execution_count": 36,
   "metadata": {},
   "outputs": [],
   "source": [
    "import numpy as np"
   ]
  },
  {
   "cell_type": "code",
   "execution_count": 43,
   "metadata": {},
   "outputs": [
    {
     "data": {
      "text/plain": [
       "2.8284271247461903"
      ]
     },
     "execution_count": 43,
     "metadata": {},
     "output_type": "execute_result"
    }
   ],
   "source": [
    "np.linalg.norm(np.array((1,2))-np.array((3,4)))"
   ]
  },
  {
   "cell_type": "code",
   "execution_count": 52,
   "metadata": {},
   "outputs": [],
   "source": [
    "#@lru_cache(maxsize=2**10)\n",
    "def shortest_distance(start, coordinates):\n",
    "    min_dis = float(\"inf\")\n",
    "    min_coor = start\n",
    "    coordinates.remove(start)\n",
    "    \n",
    "    if len(coordinates) == 0:\n",
    "        return 0\n",
    "    \n",
    "    for coor in coordinates:\n",
    "        dis = np.linalg.norm(np.array(start)-np.array(coor))\n",
    "        if dis < min_dis:\n",
    "            min_dis = dis\n",
    "            min_coor = coor\n",
    "            \n",
    "    min_dis += shortest_distance(min_coor, coordinates)\n",
    "    \n",
    "    return min_dis\n",
    "    "
   ]
  },
  {
   "cell_type": "code",
   "execution_count": 53,
   "metadata": {},
   "outputs": [
    {
     "data": {
      "text/plain": [
       "764.1774523259944"
      ]
     },
     "execution_count": 53,
     "metadata": {},
     "output_type": "execute_result"
    }
   ],
   "source": [
    "shortest_distance(coordinates[0], coordinates)"
   ]
  }
 ],
 "metadata": {
  "kernelspec": {
   "display_name": "Python 3",
   "language": "python",
   "name": "python3"
  },
  "language_info": {
   "codemirror_mode": {
    "name": "ipython",
    "version": 3
   },
   "file_extension": ".py",
   "mimetype": "text/x-python",
   "name": "python",
   "nbconvert_exporter": "python",
   "pygments_lexer": "ipython3",
   "version": "3.7.2"
  }
 },
 "nbformat": 4,
 "nbformat_minor": 2
}
