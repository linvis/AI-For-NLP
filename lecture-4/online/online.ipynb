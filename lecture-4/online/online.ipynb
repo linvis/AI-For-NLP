{
 "cells": [
  {
   "cell_type": "code",
   "execution_count": null,
   "metadata": {},
   "outputs": [],
   "source": [
    "from collections import defaultdict"
   ]
  },
  {
   "cell_type": "code",
   "execution_count": null,
   "metadata": {},
   "outputs": [],
   "source": [
    "piece_price = [1, 5, 8, 9, 10, 17, 17, 20, 24, 30]"
   ]
  },
  {
   "cell_type": "code",
   "execution_count": null,
   "metadata": {},
   "outputs": [],
   "source": [
    "price = defaultdict(int)\n",
    "\n",
    "for i in range(len(piece_price)):\n",
    "    price[i + 1] = piece_price[i]\n",
    "    \n",
    "price[2]"
   ]
  },
  {
   "cell_type": "code",
   "execution_count": 3,
   "metadata": {},
   "outputs": [],
   "source": [
    "from functools import lru_cache"
   ]
  },
  {
   "cell_type": "code",
   "execution_count": null,
   "metadata": {},
   "outputs": [],
   "source": [
    "def to_chunks(data):\n",
    "    chunks = []\n",
    "    \n",
    "    for i in data:\n",
    "        if isinstance(i, list):\n",
    "            sub_data = to_chunks(i)\n",
    "            for d in sub_data:\n",
    "                chunks.append(d)\n",
    "        else:\n",
    "            chunks.append(i)\n",
    "            \n",
    "    return chunks\n",
    "        "
   ]
  },
  {
   "cell_type": "code",
   "execution_count": null,
   "metadata": {},
   "outputs": [],
   "source": [
    "to_chunks([2, [6, [10, [10, [10, [10, [10, 10]]]]]]])"
   ]
  },
  {
   "cell_type": "code",
   "execution_count": null,
   "metadata": {},
   "outputs": [],
   "source": [
    "# put recursive and solution together\n",
    "@lru_cache(2*10000)\n",
    "def get_price(num):\n",
    " \n",
    "    max_price = price[num]\n",
    "    steps = num\n",
    "    \n",
    "    for i in range(1, num):\n",
    "        left = get_price(i)\n",
    "        right = get_price(num - i)\n",
    "        if (max_price < left[0] + right[0]):\n",
    "            max_price = left[0] + right[0]\n",
    "            steps = to_chunks(left[1:] + right[1:])\n",
    "        \n",
    "    return [max_price, steps]\n"
   ]
  },
  {
   "cell_type": "code",
   "execution_count": null,
   "metadata": {},
   "outputs": [],
   "source": [
    "get_price(5)"
   ]
  },
  {
   "cell_type": "markdown",
   "metadata": {},
   "source": [
    "## Edit distance"
   ]
  },
  {
   "cell_type": "code",
   "execution_count": 51,
   "metadata": {},
   "outputs": [],
   "source": [
    "@lru_cache(maxsize=2**10)\n",
    "def edit_distance(str1, str2):\n",
    "    \n",
    "    if not len(str1):return len(str2)\n",
    "    \n",
    "    if not len(str2):return len(str1)\n",
    "    \n",
    "    tail1 = str1[-1]\n",
    "    tail2 = str2[-1]\n",
    "    \n",
    "    return min(edit_distance(str1[:-1], str2) + 1, # delete\n",
    "                   edit_distance(str1, str2[:-1]) + 1, # add\n",
    "                   edit_distance(str1[:-1], str2[:-1]) + (0 if tail1 == tail2 else 2)) # sub"
   ]
  },
  {
   "cell_type": "code",
   "execution_count": 52,
   "metadata": {},
   "outputs": [
    {
     "data": {
      "text/plain": [
       "3"
      ]
     },
     "execution_count": 52,
     "metadata": {},
     "output_type": "execute_result"
    }
   ],
   "source": [
    "edit_distance(\"ABCDE\", \"ABCCEF\")"
   ]
  },
  {
   "cell_type": "code",
   "execution_count": 53,
   "metadata": {},
   "outputs": [
    {
     "data": {
      "text/plain": [
       "2"
      ]
     },
     "execution_count": 53,
     "metadata": {},
     "output_type": "execute_result"
    }
   ],
   "source": [
    "edit_distance('ATCGGAA', 'ATCGGGA')"
   ]
  },
  {
   "cell_type": "code",
   "execution_count": 20,
   "metadata": {},
   "outputs": [],
   "source": [
    "solution = []"
   ]
  },
  {
   "cell_type": "code",
   "execution_count": 65,
   "metadata": {},
   "outputs": [],
   "source": [
    "@lru_cache(maxsize=2**10)\n",
    "def edit_distance_with_path(str1, str2):\n",
    "    \n",
    "    if not len(str1):return [len(str2), ' ']\n",
    "    \n",
    "    if not len(str2):return [len(str1), ' ']\n",
    "    \n",
    "    tail1 = str1[-1]\n",
    "    tail2 = str2[-1]\n",
    "     \n",
    "    _del = edit_distance_with_path(str1[:-1], str2)\n",
    "    _add = edit_distance_with_path(str1, str2[:-1])\n",
    "    _sub = edit_distance_with_path(str1[:-1], str2[:-1])\n",
    "    op_desc = {\n",
    "        \"del\":\" Del {}\".format(tail1),\n",
    "        \"add\":\" Add {}\".format(tail2),\n",
    "        \"sub0\":\"\",\n",
    "        \"sub2\":\" Sub {}=>{}\".format(tail1, tail2)\n",
    "    }\n",
    "    operator = [\n",
    "        [_del[0] + 1, _del[1] + op_desc[\"del\"]],\n",
    "        [_add[0] + 1, _add[1] + op_desc[\"add\"]],  \n",
    "        [_sub[0] + (0 if tail1 == tail2 else 2), _sub[1] + op_desc[\"sub\" + ('0' if tail1 == tail2 else '2')]],\n",
    "    ]\n",
    "    min_op =  min(operator, key=lambda x : x[0])\n",
    "    return min_op"
   ]
  },
  {
   "cell_type": "code",
   "execution_count": 66,
   "metadata": {},
   "outputs": [
    {
     "data": {
      "text/plain": [
       "[3, '  Add C Del D Add F']"
      ]
     },
     "execution_count": 66,
     "metadata": {},
     "output_type": "execute_result"
    }
   ],
   "source": [
    "edit_distance_with_path(\"ABCDE\", \"ABCCEF\")"
   ]
  },
  {
   "cell_type": "code",
   "execution_count": 67,
   "metadata": {},
   "outputs": [
    {
     "data": {
      "text/plain": [
       "[2, '  Add G Del A']"
      ]
     },
     "execution_count": 67,
     "metadata": {},
     "output_type": "execute_result"
    }
   ],
   "source": [
    "edit_distance_with_path('ATCGGAA', 'ATCGGGA')"
   ]
  }
 ],
 "metadata": {
  "kernelspec": {
   "display_name": "Python 3",
   "language": "python",
   "name": "python3"
  },
  "language_info": {
   "codemirror_mode": {
    "name": "ipython",
    "version": 3
   },
   "file_extension": ".py",
   "mimetype": "text/x-python",
   "name": "python",
   "nbconvert_exporter": "python",
   "pygments_lexer": "ipython3",
   "version": "3.7.2"
  }
 },
 "nbformat": 4,
 "nbformat_minor": 2
}
