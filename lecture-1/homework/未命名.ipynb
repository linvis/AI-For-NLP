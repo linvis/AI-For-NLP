{
 "cells": [
  {
   "cell_type": "markdown",
   "metadata": {},
   "source": [
    " ## 2 Answers\n",
    " \n",
    " *2.1. what do you want to acquire in this course？*\n",
    " \n",
    " basis of AI for future career\n",
    " \n",
    " *2.2. what problems do you want to solve？*\n",
    " \n",
    " For now, I want to try another job.\n",
    " For future, maybe something like Jarvis?\n",
    " \n",
    "*2.3. what’s the advantages you have to finish you goal?*\n",
    " \n",
    " I have programming basis, like C, C++, and I know some python,\n",
    " it will help me learn how to program in AI\n",
    " \n",
    "*2.4. what’s the disadvantages you need to onvercome to finish you goal?*\n",
    " \n",
    " I am not good at OOD, data structure and algorithm\n",
    " \n",
    "*2.5. How will you plan to study in this course period?*\n",
    " \n",
    " Weekend, from morning to night\n",
    " and for working day, 2 or 3 night(I have other things to learn).\n",
    " So, that is a tough plan for me, and I hope I can keep it to the end.\n"
   ]
  },
  {
   "cell_type": "code",
   "execution_count": null,
   "metadata": {},
   "outputs": [],
   "source": []
  }
 ],
 "metadata": {
  "kernelspec": {
   "display_name": "Python 3",
   "language": "python",
   "name": "python3"
  },
  "language_info": {
   "codemirror_mode": {
    "name": "ipython",
    "version": 3
   },
   "file_extension": ".py",
   "mimetype": "text/x-python",
   "name": "python",
   "nbconvert_exporter": "python",
   "pygments_lexer": "ipython3",
   "version": "3.7.2"
  }
 },
 "nbformat": 4,
 "nbformat_minor": 2
}
