{
 "cells": [
  {
   "cell_type": "markdown",
   "metadata": {},
   "source": [
    "## 1 show a graph"
   ]
  },
  {
   "cell_type": "code",
   "execution_count": 297,
   "metadata": {},
   "outputs": [
    {
     "data": {
      "image/png": "[encoded data removed]",
      "text/plain": [
       "<Figure size 432x288 with 1 Axes>"
      ]
     },
     "metadata": {},
     "output_type": "display_data"
    }
   ],
   "source": [
    "import networkx as nx\n",
    "\n",
    "%matplotlib inline\n",
    "\n",
    "BEIJING, SHANGHAI, WUHAN, SHENZHEN, MANKOK, TOKYO, NEWYORK = [\n",
    "    \"beijing\", \"shanghai\", \"wuhan\", \"shenzhen\", \"mankok\", \"tokyo\", \"newyork\"\n",
    "]\n",
    "\n",
    "connect_node = {\n",
    "    BEIJING:[SHANGHAI, WUHAN, MANKOK],\n",
    "    SHANGHAI: [BEIJING, SHENZHEN, TOKYO],\n",
    "    WUHAN: [BEIJING, SHENZHEN],\n",
    "    SHENZHEN: [MANKOK, WUHAN, NEWYORK, SHANGHAI],\n",
    "    MANKOK: [BEIJING, SHENZHEN],\n",
    "    TOKYO: [SHANGHAI, NEWYORK],\n",
    "    NEWYORK: [TOKYO, SHENZHEN],\n",
    "}\n",
    "\n",
    "graph = connect_node\n",
    "\n",
    "g = nx.Graph(graph)\n",
    "nx.draw(g, with_labels=True)\n",
    "\n"
   ]
  },
  {
   "cell_type": "markdown",
   "metadata": {},
   "source": [
    "## 2 Navigation"
   ]
  },
  {
   "cell_type": "markdown",
   "metadata": {},
   "source": [
    "### My code"
   ]
  },
  {
   "cell_type": "code",
   "execution_count": 158,
   "metadata": {},
   "outputs": [],
   "source": [
    "def my_navigation(start, end, graph):\n",
    "    paths = [[start], ]\n",
    "    \n",
    "    \n",
    "    while (1) :\n",
    "        node = paths.pop(0)\n",
    "        path = node\n",
    "        \n",
    "        print(\"-------location %s\" % node)\n",
    "        \n",
    "        next_nodes = graph[node[-1]]\n",
    "        \n",
    "        for s in next_nodes:\n",
    "            print(\"looking for %s\" % s)\n",
    "            if s == end:\n",
    "                path.append(s)\n",
    "                return path     \n",
    "            else:\n",
    "                paths.append(path + [s])"
   ]
  },
  {
   "cell_type": "code",
   "execution_count": 170,
   "metadata": {},
   "outputs": [
    {
     "name": "stdout",
     "output_type": "stream",
     "text": [
      "[['beijing']]\n",
      "-------location beijing\n",
      "looking for shanghai\n",
      "looking for wuhan\n",
      "looking for mankok\n",
      "[['beijing', 'shanghai'], ['beijing', 'wuhan'], ['beijing', 'mankok']]\n",
      "-------location shanghai\n",
      "looking for beijing\n",
      "looking for shenzhen\n",
      "looking for tokyo\n"
     ]
    },
    {
     "data": {
      "text/plain": [
       "['beijing', 'shanghai', 'tokyo']"
      ]
     },
     "execution_count": 170,
     "metadata": {},
     "output_type": "execute_result"
    }
   ],
   "source": [
    "my_navigation(BEIJING, TOKYO, connect_node)"
   ]
  },
  {
   "cell_type": "markdown",
   "metadata": {},
   "source": [
    "## 3 the shortest nagivation"
   ]
  },
  {
   "cell_type": "markdown",
   "metadata": {},
   "source": [
    "### my code"
   ]
  },
  {
   "cell_type": "code",
   "execution_count": 178,
   "metadata": {},
   "outputs": [],
   "source": [
    "def my_navigation(start, end, graph):\n",
    "    pathes = [[start], ]\n",
    "    used_nodes = []\n",
    "    \n",
    "    # at first, I put `path = []` here, it is wrong, path should be refresh in every loop\n",
    "    \n",
    "    while (pathes) :\n",
    "        print(pathes)\n",
    "        path = pathes.pop()    # here should be pop(0), because sorted() had put smallest one in the head\n",
    "        \n",
    "        node = path[-1]\n",
    "        print(\"-------location %s\" % node)\n",
    "\n",
    "        if node in used_nodes: continue\n",
    "        \n",
    "        next_nodes = graph[node]\n",
    "        \n",
    "        for s in next_nodes:\n",
    "            print(\"looking for %s\" % s)\n",
    "            if s == end:\n",
    "                path.append(s)\n",
    "                return path     \n",
    "            pathes.append(path + [s])\n",
    "                \n",
    "        pathes = sorted(pathes, key=len)\n",
    "                \n",
    "        used_nodes.append(node)"
   ]
  },
  {
   "cell_type": "code",
   "execution_count": 179,
   "metadata": {},
   "outputs": [
    {
     "name": "stdout",
     "output_type": "stream",
     "text": [
      "[['beijing']]\n",
      "-------location beijing\n",
      "looking for shanghai\n",
      "looking for wuhan\n",
      "looking for mankok\n",
      "[['beijing', 'shanghai'], ['beijing', 'wuhan'], ['beijing', 'mankok']]\n",
      "-------location mankok\n",
      "looking for beijing\n",
      "looking for shenzhen\n",
      "[['beijing', 'shanghai'], ['beijing', 'wuhan'], ['beijing', 'mankok', 'beijing'], ['beijing', 'mankok', 'shenzhen']]\n",
      "-------location shenzhen\n",
      "looking for mankok\n",
      "looking for wuhan\n",
      "looking for newyork\n",
      "looking for shanghai\n",
      "[['beijing', 'shanghai'], ['beijing', 'wuhan'], ['beijing', 'mankok', 'beijing'], ['beijing', 'mankok', 'shenzhen', 'mankok'], ['beijing', 'mankok', 'shenzhen', 'wuhan'], ['beijing', 'mankok', 'shenzhen', 'newyork'], ['beijing', 'mankok', 'shenzhen', 'shanghai']]\n",
      "-------location shanghai\n",
      "looking for beijing\n",
      "looking for shenzhen\n",
      "looking for tokyo\n"
     ]
    },
    {
     "data": {
      "text/plain": [
       "['beijing', 'mankok', 'shenzhen', 'shanghai', 'tokyo']"
      ]
     },
     "execution_count": 179,
     "metadata": {},
     "output_type": "execute_result"
    }
   ],
   "source": [
    "my_navigation(BEIJING, TOKYO, connect_node)"
   ]
  },
  {
   "cell_type": "markdown",
   "metadata": {},
   "source": [
    "**Python强调面向对象的运算，而不是面向过程的运算**"
   ]
  },
  {
   "cell_type": "markdown",
   "metadata": {},
   "source": [
    "## 4 DFS"
   ]
  },
  {
   "cell_type": "markdown",
   "metadata": {},
   "source": [
    "这里我写的dfs\n",
    "它的本质是递归，因为是图，需要区分哪些点已经查询过了，所以需要额外多传一个参数"
   ]
  },
  {
   "cell_type": "code",
   "execution_count": 288,
   "metadata": {},
   "outputs": [],
   "source": [
    "def my_navigation_dfs(start, end, graph, used=None):\n",
    "    pathes = [[start], ]\n",
    "    if used == None:\n",
    "        used_nodes = []\n",
    "    else:\n",
    "        used_nodes = used\n",
    "    \n",
    "    while (pathes) :\n",
    "        print(pathes)\n",
    "        path = pathes.pop(0)\n",
    "        \n",
    "        node = path[-1]\n",
    "        print(\"-------location %s\" % node)\n",
    "    \n",
    "        used_nodes.append(node)\n",
    "        next_nodes = graph[node]\n",
    "        print(\"------next node %s\" % next_nodes)\n",
    "        for s in next_nodes:\n",
    "            print(\"looking for %s\" % s)\n",
    "            if s in used_nodes: continue\n",
    "            if s == end: return [s]\n",
    "            target = my_navigation_dfs(s, end, graph, used_nodes)\n",
    "            if target:\n",
    "                return [s] + target\n",
    "           \n",
    "        return None\n",
    "        #pathes = sorted(pathes, key=len)\n",
    "                \n",
    "        "
   ]
  },
  {
   "cell_type": "code",
   "execution_count": 298,
   "metadata": {},
   "outputs": [
    {
     "name": "stdout",
     "output_type": "stream",
     "text": [
      "[['beijing']]\n",
      "-------location beijing\n",
      "------next node ['shanghai', 'wuhan', 'mankok']\n",
      "looking for shanghai\n",
      "[['shanghai']]\n",
      "-------location shanghai\n",
      "------next node ['beijing', 'shenzhen', 'tokyo']\n",
      "looking for beijing\n",
      "looking for shenzhen\n",
      "[['shenzhen']]\n",
      "-------location shenzhen\n",
      "------next node ['mankok', 'wuhan', 'newyork', 'shanghai']\n",
      "looking for mankok\n",
      "[['mankok']]\n",
      "-------location mankok\n",
      "------next node ['beijing', 'shenzhen']\n",
      "looking for beijing\n",
      "looking for shenzhen\n",
      "looking for wuhan\n",
      "[['wuhan']]\n",
      "-------location wuhan\n",
      "------next node ['beijing', 'shenzhen']\n",
      "looking for beijing\n",
      "looking for shenzhen\n",
      "looking for newyork\n",
      "[['newyork']]\n",
      "-------location newyork\n",
      "------next node ['tokyo', 'shenzhen']\n",
      "looking for tokyo\n"
     ]
    },
    {
     "data": {
      "text/plain": [
       "['shanghai', 'shenzhen', 'newyork', 'tokyo']"
      ]
     },
     "execution_count": 298,
     "metadata": {},
     "output_type": "execute_result"
    }
   ],
   "source": [
    "my_navigation_dfs(BEIJING, TOKYO, connect_node)"
   ]
  },
  {
   "cell_type": "code",
   "execution_count": 217,
   "metadata": {},
   "outputs": [],
   "source": []
  }
 ],
 "metadata": {
  "kernelspec": {
   "display_name": "Python 3",
   "language": "python",
   "name": "python3"
  },
  "language_info": {
   "codemirror_mode": {
    "name": "ipython",
    "version": 3
   },
   "file_extension": ".py",
   "mimetype": "text/x-python",
   "name": "python",
   "nbconvert_exporter": "python",
   "pygments_lexer": "ipython3",
   "version": "3.7.1"
  }
 },
 "nbformat": 4,
 "nbformat_minor": 2
}
