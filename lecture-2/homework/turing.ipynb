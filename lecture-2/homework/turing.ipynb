{
 "cells": [
  {
   "cell_type": "code",
   "execution_count": 46,
   "metadata": {},
   "outputs": [
    {
     "data": {
      "text/plain": [
       "['ba', 'ab', 'ba', 'aa', 'ac', 'cb', 'bc', 'ca', 'ac', 'ca', 'ac']"
      ]
     },
     "execution_count": 46,
     "metadata": {},
     "output_type": "execute_result"
    }
   ],
   "source": [
    "#!pip install jieba\n",
    "import jieba\n",
    "from collections import Counter\n",
    "\n",
    "#text=\"你好你好这是一个简单的文本的的的测试\"\n",
    "text=\"ba ab ba aa ac cb bc ca ac ca ac\"\n",
    "\n",
    "#token = list(jieba.cut(text))\n",
    "token = text.split()\n",
    "token"
   ]
  },
  {
   "cell_type": "code",
   "execution_count": 71,
   "metadata": {},
   "outputs": [
    {
     "data": {
      "text/plain": [
       "Counter({'ba': 2, 'ab': 1, 'aa': 1, 'ac': 3, 'cb': 1, 'bc': 1, 'ca': 2})"
      ]
     },
     "execution_count": 71,
     "metadata": {},
     "output_type": "execute_result"
    }
   ],
   "source": [
    "words_count = Counter(token)\n",
    "words_count"
   ]
  },
  {
   "cell_type": "code",
   "execution_count": 67,
   "metadata": {},
   "outputs": [
    {
     "name": "stdout",
     "output_type": "stream",
     "text": [
      "ba 2\n",
      "ab 1\n",
      "aa 1\n",
      "ac 3\n",
      "cb 1\n",
      "bc 1\n",
      "ca 2\n",
      "{2: 2, 1: 4, 3: 1}\n",
      "11\n",
      "0.2727272727272727\n"
     ]
    }
   ],
   "source": [
    "Nr = {}\n",
    "N = 0\n",
    "\n",
    "def turing_good_get_Nr(r):    \n",
    "    for i in range(len(Nr)):\n",
    "        if r in Nr.keys():\n",
    "            return Nr[r]\n",
    "        else:\n",
    "            r = r + 1\n",
    "\n",
    "            \n",
    "def turing_good_prob(word):\n",
    "    global N\n",
    "    global Nr\n",
    "    if word in words_count.keys():\n",
    "        r = words_count[word]\n",
    "        if r == max(Nr.keys()):\n",
    "            return r / N\n",
    "        return (r + 1) * turing_good_get_Nr(r + 1) / (N * turing_good_get_Nr(r))\n",
    "    # word count is 0\n",
    "    else:\n",
    "        return (turing_good_get_Nr(1) / N)\n",
    "\n",
    "\n",
    "def turing_good_init(words):\n",
    "    global N\n",
    "    global Nr\n",
    "    for k, v in words.items():\n",
    "        print(k, v)\n",
    "        if v in Nr.keys():\n",
    "            Nr[v] = Nr[v] + 1\n",
    "        else:\n",
    "            Nr[v] = 1\n",
    "            \n",
    "    for k, v in Nr.items():\n",
    "        N = N + k * v\n",
    "        \n",
    "    print(Nr)\n",
    "    print(N)\n",
    "    \n",
    "\n",
    "turing_good_init(words_count)\n",
    "\n",
    "\n",
    "print(turing_good_prob(\"ac\"))"
   ]
  }
 ],
 "metadata": {
  "kernelspec": {
   "display_name": "Python 3",
   "language": "python",
   "name": "python3"
  },
  "language_info": {
   "codemirror_mode": {
    "name": "ipython",
    "version": 3
   },
   "file_extension": ".py",
   "mimetype": "text/x-python",
   "name": "python",
   "nbconvert_exporter": "python",
   "pygments_lexer": "ipython3",
   "version": "3.7.2"
  }
 },
 "nbformat": 4,
 "nbformat_minor": 2
}
