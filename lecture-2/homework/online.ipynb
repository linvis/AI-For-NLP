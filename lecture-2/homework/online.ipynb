{
 "cells": [
  {
   "cell_type": "code",
   "execution_count": 3,
   "metadata": {},
   "outputs": [],
   "source": [
    "import pandas as pd\n",
    "import jieba\n",
    "import chardet"
   ]
  },
  {
   "cell_type": "code",
   "execution_count": 4,
   "metadata": {},
   "outputs": [
    {
     "name": "stdout",
     "output_type": "stream",
     "text": [
      "/Users/shlin/wspace/github/AI-For-NLP/lecture-2/online\r\n"
     ]
    }
   ],
   "source": [
    "!pwd"
   ]
  },
  {
   "cell_type": "code",
   "execution_count": 5,
   "metadata": {},
   "outputs": [],
   "source": [
    "database = \"/Users/shlin/wspace/github/AI-For-NLP/lecture-2/online/datasource/sqlResult_1558435.csv\""
   ]
  },
  {
   "cell_type": "code",
   "execution_count": 160,
   "metadata": {},
   "outputs": [
    {
     "data": {
      "text/plain": [
       "['此外，自本周（6月12日）起，除小米手机6等15款机型外，其余机型已暂停更新发布（含开发版/体验版内测，稳定版暂不受影响），以确保工程师可以集中全部精力进行系统优化工作。有人猜测这也是将精力主要用到MIUI 9的研发之中。\\r\\nMIUI 8去年5月发布，距今已有一年有余，也是时候更新换代了。\\r\\n当然，关于MIUI 9的确切信息，我们还是等待官方消息。\\r\\n',\n",
       " '骁龙835作为唯一通过Windows 10桌面平台认证的ARM处理器，高通强调，不会因为只考虑性能而去屏蔽掉小核心。相反，他们正联手微软，找到一种适合桌面平台的、兼顾性能和功耗的完美方案。\\r\\n报道称，微软已经拿到了一些新的源码，以便Windows 10更好地理解big.little架构。\\r\\n资料显示，骁龙835作为一款集成了CPU、GPU、基带、蓝牙/Wi-Fi的SoC，比传统的Wintel方案可以节省至少30%的PCB空间。\\r\\n按计划，今年Q4，华硕、惠普、联想将首发骁龙835 Win10电脑，预计均是二合一形态的产品。\\r\\n当然，高通骁龙只是个开始，未来也许还能见到三星Exynos、联发科、华为麒麟、小米澎湃等进入Windows 10桌面平台。\\r\\n',\n",
       " '此前的一加3T搭载的是3400mAh电池，DashCharge快充规格为5V/4A。\\r\\n至于电池缩水，可能与刘作虎所说，一加手机5要做市面最轻薄大屏旗舰的设定有关。\\r\\n按照目前掌握的资料，一加手机5拥有5.5寸1080P三星AMOLED显示屏、6G/8GB RAM，64GB/128GB ROM，双1600万摄像头，备货量“惊喜”。\\r\\n根据京东泄露的信息，一加5起售价是xx99元，应该是在2799/2899/2999中的某个。\\r\\n',\n",
       " '这是6月18日在葡萄牙中部大佩德罗冈地区拍摄的被森林大火烧毁的汽车。新华社记者张立云摄\\r\\n',\n",
       " '（原标题：44岁女子跑深圳约会网友被拒，暴雨中裸身奔走……）\\r\\n@深圳交警微博称：昨日清晨交警发现有一女子赤裸上身，行走在南坪快速上，期间还起了轻生年头，一辅警发现后赶紧为其披上黄衣，并一路劝说她。\\r\\n那么事发时\\r\\n到底都发生了些什么呢？\\r\\n南都记者带您一起还原现场\\r\\n南都记者在龙岗大队坂田中队见到了辅警刘青（发现女生的辅警），一位外表高大帅气，说话略带些腼腆的90后青年。\\r\\n刘青介绍，6月16日早上7时36分，他正在环城南路附近值勤，接到中队关于一位女子裸身进入机动车可能有危险的警情，随后骑着小铁骑开始沿路寻找，大概花了十多分钟在南坪大道坂田出口往龙岗方向的逆行辅道上发现该女子。\\r\\n女子身上一丝不挂地逆车流而行，时走时停，时坐时躺，险象环生。刘青停好小铁骑，和另外一名巡防员追了上去，发现女子的情绪很低落，话不多，刘青尝试和女子交流，劝说女子离开，可女子并不愿意接受，继续缓慢地往南坪快速路的主干道上走去。\\r\\n此时路边上已经聚集了很市民围观，为了不刺激女子的情绪，刘青和巡防员一边盯着女子一边驱赶着围观的群众。\\r\\n现场还原\\r\\n从警方提供的一份视频了解到，16日早上7时25分，女子出现在坂雪岗大道与环城南路的监控视频中，此时女子还穿着白色的内裤，正沿着坂雪岗大道往南坪快速的方向缓慢地走着。\\r\\n当时正值上班高峰期，十字路口的车流已经排起了长队。当女子出现时，路上的市民纷纷驻足观望，不少车辆也放慢了速度，但女子并不为市民观望停下脚步，依然缓慢走着。当女子行进到十字路口中间时，一辆大货车挡住了镜头，但是当女子再次出现镜头时，可以发现女子已经没穿内裤了，全身裸露继续朝着南坪快速方向走去。记者发现，视频中女子周围并没有人尾随或者上前劝止的市民。\\r\\n一大清早路上看到这样的情况\\r\\n恐怕大家都没办法淡定\\r\\n面对这一情况\\r\\n刘青表示，“一开始根本不敢看她，心里挺别扭，感觉很尴尬”，但当刘青跟随女子上了南坪快速路主干道时，女子作出了让人意想不到的举动，她突然靠近护栏要从上面跳下去，刘青赶忙冲上去拉住了女子的手，将其控制住并远离护栏。碍于女子没有穿衣服，刘青递上衣服，女子没接受还把衣服扔到排水沟里，继续往前走，没办法刘青只能紧紧拉着她的一只手跟在后面。\\r\\n刘青一路上耐心地开导安慰她，但只听到她不断地重复着一句话“要是你也遭遇我的事，你也会这样的”，期间她还不时试图挣脱刘青的手要冲向护栏往下跳。\\r\\n就这样，我被牵着走了大概十多分钟，天突然下起了大暴雨，雨大的连眼睛都睁不开”刘青继续说着，瞬间他们就被雨透了，但女子依然不愿意接受刘青的帮助，就继续冒着大雨往前走。\\r\\n大概走了有四十分钟吧，女子突然停下来说“我想回家了”，然后女子也接受了刘青递过来的小黄衣，就出现了深圳微博上的照片，女子披着小黄衣，刘青小心翼翼地在旁边走着的场景。从南平快速下来后，刘青和巡防员将女子带到了附近的坂田派出所。\\r\\n那姑娘到底是遭遇了什么样的事情\\r\\n才会说\\r\\n“要是你也遭遇我的事，你也会这样”\\r\\n据警方透露，该女子姓陈，系湖北人，今年44岁，据家属反映其有精神病史。三天前，陈某从老家来深圳约会网友，但约会受挫导致情绪异常，女子遂产生轻生念头。\\r\\n目前\\r\\n陈某已经被送往深圳某精神病医院进行治疗\\r\\n大大君只希望姑娘能早点康复\\r\\n其实真爱的到来并不存在年龄的限制\\r\\n你们说呢？\\r\\n因善良的原因\\r\\n一众网友纷纷为\\r\\n交警暖男点ZAN\\r\\n@弓常yan桦：就想问这个小哥哥有女票吗\\r\\n@原谅我这一辈子浪荡不羁爱萨摩耶：有什么过不去的要轻生嘛？ 想想自己的家人。同时也感谢交警蜀黍\\r\\n@火心聆听心灵：点赞交警\\r\\n@中華云盾：警察……警察就是群众最需时申出援手\\r\\n@Tomchlee：蜀黍帅！\\r\\n@SJ-李赫海i：这个交警很暖有木有！\\r\\n男子迷奸网友拍418个视频 女方从20岁到50岁不等\\r\\n去年6月7号上午，淮安市涟水县公安局刑警大队突然接到了一个奇怪的报警电话，一名女子言语不清，声称自己遭到了侵害。女子、被侵害、言语不清，几个关键词令接到电话的民警瞬间紧张起来。\\r\\n']"
      ]
     },
     "execution_count": 160,
     "metadata": {},
     "output_type": "execute_result"
    }
   ],
   "source": [
    "dataframe = pd.read_csv(database, encoding='gb18030')\n",
    "all_contents = dataframe['content'].tolist()"
   ]
  },
  {
   "cell_type": "code",
   "execution_count": 161,
   "metadata": {},
   "outputs": [
    {
     "data": {
      "text/plain": [
       "'此外 自本周 6月12日 起 除小米手机6等15款机型外 其余机型已暂停更新发布 含开发版 体验版内测 稳定版暂不受影响 以确保工程师可以集中全部精力进行系统优化工作 有人猜测这也是将精力主要用到MIUI 9的研发之中 MIUI 8去年5月发布 距今已有一年有余 也是时候更新换代了 当然 关于MIUI 9的确切信息 我们还是等待官方消息'"
      ]
     },
     "execution_count": 161,
     "metadata": {},
     "output_type": "execute_result"
    }
   ],
   "source": [
    "import re\n",
    "test_string = \"此外，自本周（6月12日）起，除小米手机6等15款机型外，其余机型已暂停更新发布（含开发版/体验版内测，稳定版暂不受影响），以确保工程师可以集中全部精力进行系统优化工作。有人猜测这也是将精力主要用到MIUI 9的研发之中。\\r\\nMIUI 8去年5月发布，距今已有一年有余，也是时候更新换代了。\\r\\n当然，关于MIUI 9的确切信息，我们还是等待官方消息。\\r\\n'\"\n",
    "def remove_extra_char(string):\n",
    "    pattern = re.compile('[\\w|\\d]+') \n",
    "    string = pattern.findall(str(string))\n",
    "    return ' '.join(s for s in string)\n",
    "\n",
    "remove_extra_char(test_string)"
   ]
  },
  {
   "cell_type": "code",
   "execution_count": 162,
   "metadata": {},
   "outputs": [],
   "source": [
    "text = [remove_extra_char(t) for t in all_contents]\n",
    "text[:2]\n",
    "TEXT = ''.join(t for t in text )"
   ]
  },
  {
   "cell_type": "code",
   "execution_count": 163,
   "metadata": {},
   "outputs": [],
   "source": [
    "def cut(string):return list(jieba.cut(string))"
   ]
  },
  {
   "cell_type": "code",
   "execution_count": 164,
   "metadata": {},
   "outputs": [
    {
     "data": {
      "text/plain": [
       "['此外', ' ', '自', '本周', ' ', '6', '月', '12', '日', ' ']"
      ]
     },
     "execution_count": 164,
     "metadata": {},
     "output_type": "execute_result"
    }
   ],
   "source": [
    "#ALL_TOKEN = [cut(t) for t in TEXT]\n",
    "ALL_TOKEN = cut(TEXT)\n",
    "ALL_TOKEN[:10]"
   ]
  },
  {
   "cell_type": "code",
   "execution_count": 68,
   "metadata": {},
   "outputs": [
    {
     "data": {
      "text/plain": [
       "37412506"
      ]
     },
     "execution_count": 68,
     "metadata": {},
     "output_type": "execute_result"
    }
   ],
   "source": [
    "len(TEXT)"
   ]
  },
  {
   "cell_type": "code",
   "execution_count": 165,
   "metadata": {},
   "outputs": [
    {
     "data": {
      "text/plain": [
       "['此外', '自', '本周', '6', '月', '12', '日', '起', '除', '小米']"
      ]
     },
     "execution_count": 165,
     "metadata": {},
     "output_type": "execute_result"
    }
   ],
   "source": [
    "valid_tokens = [t for t in ALL_TOKEN if t.strip() and t != 'n']\n",
    "valid_tokens[:10]"
   ]
  },
  {
   "cell_type": "code",
   "execution_count": 70,
   "metadata": {},
   "outputs": [],
   "source": [
    "from collections import Counter"
   ]
  },
  {
   "cell_type": "code",
   "execution_count": 166,
   "metadata": {},
   "outputs": [
    {
     "data": {
      "text/plain": [
       "[('的', 703820),\n",
       " ('在', 264633),\n",
       " ('月', 189525),\n",
       " ('日', 169920),\n",
       " ('新华社', 142462),\n",
       " ('和', 134220),\n",
       " ('年', 123531),\n",
       " ('了', 121904),\n",
       " ('是', 100288),\n",
       " ('１', 88187)]"
      ]
     },
     "execution_count": 166,
     "metadata": {},
     "output_type": "execute_result"
    }
   ],
   "source": [
    "words_count = Counter(valid_tokens)\n",
    "words_count.most_common(10)"
   ]
  },
  {
   "cell_type": "markdown",
   "metadata": {},
   "source": [
    "## two gram"
   ]
  },
  {
   "cell_type": "code",
   "execution_count": 171,
   "metadata": {},
   "outputs": [
    {
     "data": {
      "text/plain": [
       "['此外自', '自本周', '本周6', '6月', '月12', '12日', '日起', '起除', '除小米', '小米手机']"
      ]
     },
     "execution_count": 171,
     "metadata": {},
     "output_type": "execute_result"
    }
   ],
   "source": [
    "_2_gram_tokens = [''.join(tokens[i:i + 2]) for i in range(len(tokens[:-2]))]\n",
    "_2_gram_tokens[:10]"
   ]
  },
  {
   "cell_type": "code",
   "execution_count": 172,
   "metadata": {},
   "outputs": [
    {
     "data": {
      "text/plain": [
       "17221783"
      ]
     },
     "execution_count": 172,
     "metadata": {},
     "output_type": "execute_result"
    }
   ],
   "source": [
    "len(two_gram_tokens)"
   ]
  },
  {
   "cell_type": "code",
   "execution_count": 173,
   "metadata": {},
   "outputs": [
    {
     "data": {
      "text/plain": [
       "[('2017年', 62341),\n",
       " ('外代二线', 61385),\n",
       " ('新华社照片', 50401),\n",
       " ('5月', 39814),\n",
       " ('4月', 36149),\n",
       " ('新华社记者', 30864),\n",
       " ('日在', 27207),\n",
       " ('２０', 27166),\n",
       " ('年5', 25438),\n",
       " ('年4', 23733)]"
      ]
     },
     "execution_count": 173,
     "metadata": {},
     "output_type": "execute_result"
    }
   ],
   "source": [
    "_2_gram_word_count = Counter(_2_gram_tokens)\n",
    "_2_gram_word_count.most_common(10)"
   ]
  },
  {
   "cell_type": "code",
   "execution_count": 174,
   "metadata": {},
   "outputs": [
    {
     "data": {
      "text/plain": [
       "17221783"
      ]
     },
     "execution_count": 174,
     "metadata": {},
     "output_type": "execute_result"
    }
   ],
   "source": [
    "_2_gram_sum_count = len(_2_gram_tokens)\n",
    "_2_gram_sum_count"
   ]
  },
  {
   "cell_type": "code",
   "execution_count": 175,
   "metadata": {},
   "outputs": [
    {
     "data": {
      "text/plain": [
       "1.8000459069772276e-06"
      ]
     },
     "execution_count": 175,
     "metadata": {},
     "output_type": "execute_result"
    }
   ],
   "source": [
    "def get_two_gram_prob(w1, w2):\n",
    "    #print(two_word)\n",
    "    if two_word_count[w1 + w2]:\n",
    "        return (two_word_count[w1 + w2] / two_word_sum_count)\n",
    "    else:\n",
    "        return 1 / two_word_sum_count\n",
    "    return prob\n",
    "get_two_gram_prob(\"去\", \"北京\")"
   ]
  },
  {
   "cell_type": "code",
   "execution_count": 177,
   "metadata": {},
   "outputs": [
    {
     "data": {
      "text/plain": [
       "4.957626688893839e-08"
      ]
     },
     "execution_count": 177,
     "metadata": {},
     "output_type": "execute_result"
    }
   ],
   "source": [
    "\n",
    "def two_gram_prob(sentence):\n",
    "    prob = 1\n",
    "    word = cut(sentence)\n",
    "    #print(word)\n",
    "    for i in range(len(word) - 1):\n",
    "        prob *= get_two_gram_prob(word[i], word[i + 1]) / one_gram_prob(word[i])\n",
    "    return prob\n",
    "#two_word_prob(\"去北京\")\n",
    "two_word_prob(\"你好这是一个测试\")"
   ]
  },
  {
   "cell_type": "code",
   "execution_count": 178,
   "metadata": {},
   "outputs": [],
   "source": [
    "grammar = \"\"\"\n",
    "sentence => noun_phrase verb_phrase \n",
    "noun_phrase => Article Adj* noun belong \n",
    "belong => de property\n",
    "de => 的\n",
    "property => 眼睛 | 裙子 | 胳膊 | 尾巴\n",
    "Adj* => null | Adj Adj*\n",
    "verb_phrase => verb noun_phrase\n",
    "Article =>  一个 | 这个\n",
    "noun =>   女人 |  篮球 | 桌子 | 小猫\n",
    "verb => 看着   |  坐在 |  听着 | 看见\n",
    "Adj =>   蓝色的 |  好看的 | 小小的\n",
    "\"\"\""
   ]
  },
  {
   "cell_type": "code",
   "execution_count": 180,
   "metadata": {},
   "outputs": [],
   "source": [
    "import random\n",
    "def parse_grammar(grammar_str, sep='=>'):\n",
    "    grammar = {}\n",
    "    for line in grammar_str.split('\\n'): \n",
    "        line = line.strip()\n",
    "        if not line: continue\n",
    "        \n",
    "        target, rules = line.split(sep)\n",
    "        \n",
    "        grammar[target.strip()] = [r.split() for r in rules.split('|')]\n",
    "    \n",
    "    return grammar\n",
    "\n",
    "\n",
    "def gene(grammar_parsed, target='sentence'):\n",
    "    if target not in grammar_parsed: return target\n",
    "    \n",
    "    rule = random.choice(grammar_parsed[target])\n",
    "    return ''.join(gene(grammar_parsed, target=r) for r in rule if r!='null')"
   ]
  },
  {
   "cell_type": "code",
   "execution_count": 203,
   "metadata": {},
   "outputs": [],
   "source": [
    "g = parse_grammar(grammar)\n",
    "random_generated = [gene(g) for _ in range(100)]"
   ]
  },
  {
   "cell_type": "code",
   "execution_count": 204,
   "metadata": {},
   "outputs": [
    {
     "data": {
      "text/plain": [
       "['一个女人的眼睛看见一个女人的尾巴',\n",
       " '一个桌子的胳膊看着这个女人的胳膊',\n",
       " '这个桌子的眼睛看见这个桌子的眼睛',\n",
       " '这个女人的裙子看着一个女人的裙子',\n",
       " '一个女人的尾巴看见这个小猫的裙子',\n",
       " '一个篮球的眼睛看见一个女人的胳膊',\n",
       " '这个女人的裙子坐在一个桌子的裙子',\n",
       " '一个桌子的尾巴看着这个篮球的眼睛',\n",
       " '这个篮球的眼睛坐在一个女人的尾巴',\n",
       " '这个桌子的眼睛看见一个篮球的眼睛',\n",
       " '这个篮球的眼睛看见一个桌子的眼睛',\n",
       " '这个小猫的裙子看见一个桌子的胳膊',\n",
       " '一个桌子的裙子坐在这个桌子的眼睛',\n",
       " '一个篮球的尾巴看见一个女人的尾巴',\n",
       " '一个桌子的眼睛看见一个篮球的眼睛',\n",
       " '一个篮球的尾巴看着这个篮球的眼睛',\n",
       " '这个小猫的尾巴看见这个篮球的胳膊',\n",
       " '一个女人的尾巴看见这个小小的小猫的裙子',\n",
       " '一个小猫的胳膊坐在这个女人的尾巴',\n",
       " '这个篮球的裙子看着这个小猫的尾巴',\n",
       " '一个小猫的眼睛看见这个桌子的裙子',\n",
       " '这个桌子的尾巴看见这个篮球的裙子',\n",
       " '一个小小的女人的尾巴看着这个小猫的裙子',\n",
       " '一个小小的女人的眼睛看见一个小猫的胳膊',\n",
       " '一个桌子的尾巴坐在这个篮球的眼睛',\n",
       " '这个篮球的尾巴看见这个篮球的胳膊',\n",
       " '一个小猫的胳膊坐在一个小猫的裙子',\n",
       " '一个女人的胳膊听着这个篮球的尾巴',\n",
       " '这个桌子的尾巴听着这个篮球的眼睛',\n",
       " '一个小猫的胳膊听着这个女人的裙子',\n",
       " '这个篮球的眼睛坐在这个篮球的胳膊',\n",
       " '一个小小的篮球的裙子坐在这个女人的尾巴',\n",
       " '这个桌子的裙子坐在一个小小的篮球的裙子',\n",
       " '一个小猫的裙子看着这个小小的篮球的裙子',\n",
       " '一个篮球的尾巴看着一个桌子的尾巴',\n",
       " '这个小小的小小的女人的裙子看着这个桌子的尾巴',\n",
       " '这个小小的桌子的眼睛听着这个桌子的胳膊',\n",
       " '这个篮球的裙子听着一个篮球的尾巴',\n",
       " '这个好看的桌子的尾巴看见一个女人的眼睛',\n",
       " '这个桌子的胳膊看见一个好看的女人的胳膊',\n",
       " '一个女人的裙子看见一个好看的篮球的胳膊',\n",
       " '这个小猫的胳膊看见一个好看的小猫的眼睛',\n",
       " '这个女人的眼睛看着一个蓝色的小猫的眼睛',\n",
       " '这个小小的小小的小猫的裙子坐在这个篮球的裙子',\n",
       " '一个女人的眼睛坐在一个蓝色的桌子的裙子',\n",
       " '一个小猫的胳膊看着这个蓝色的桌子的胳膊',\n",
       " '这个小小的蓝色的女人的胳膊看着这个篮球的裙子',\n",
       " '这个小小的小猫的胳膊坐在一个好看的桌子的眼睛',\n",
       " '一个小小的篮球的裙子看着这个蓝色的小猫的眼睛',\n",
       " '一个桌子的尾巴看见这个蓝色的小猫的裙子',\n",
       " '这个篮球的胳膊坐在这个蓝色的女人的裙子',\n",
       " '这个好看的桌子的裙子看着这个小小的小猫的胳膊',\n",
       " '一个蓝色的小猫的胳膊听着这个女人的胳膊',\n",
       " '一个好看的篮球的尾巴听着一个桌子的眼睛',\n",
       " '这个小小的女人的裙子听着一个好看的女人的裙子',\n",
       " '这个小猫的眼睛看着一个好看的篮球的尾巴',\n",
       " '这个蓝色的桌子的裙子看见一个篮球的裙子',\n",
       " '一个桌子的眼睛坐在这个好看的桌子的裙子',\n",
       " '一个桌子的裙子听着一个蓝色的小猫的胳膊',\n",
       " '这个好看的小猫的裙子听着一个篮球的胳膊',\n",
       " '一个小小的蓝色的小猫的尾巴听着这个小猫的胳膊',\n",
       " '这个篮球的尾巴听着这个小小的蓝色的女人的裙子',\n",
       " '一个女人的裙子看着一个蓝色的小小的小猫的胳膊',\n",
       " '一个女人的胳膊看见一个好看的蓝色的小猫的裙子',\n",
       " '这个小猫的裙子看见这个好看的蓝色的小猫的眼睛',\n",
       " '这个女人的胳膊坐在这个蓝色的蓝色的女人的裙子',\n",
       " '这个小小的小猫的眼睛听着这个小小的蓝色的篮球的胳膊',\n",
       " '这个小小的篮球的胳膊看着这个蓝色的蓝色的女人的眼睛',\n",
       " '这个桌子的胳膊听着一个好看的小小的桌子的尾巴',\n",
       " '一个好看的女人的裙子坐在一个好看的篮球的尾巴',\n",
       " '这个蓝色的女人的尾巴看见一个好看的桌子的裙子',\n",
       " '这个好看的蓝色的小猫的眼睛坐在这个桌子的裙子',\n",
       " '一个好看的篮球的裙子看见这个蓝色的小猫的尾巴',\n",
       " '这个好看的女人的眼睛听着一个好看的小猫的尾巴',\n",
       " '一个好看的小小的小猫的裙子听着一个篮球的裙子',\n",
       " '这个小小的蓝色的小猫的眼睛看见这个好看的小猫的裙子',\n",
       " '这个小小的女人的眼睛坐在这个好看的蓝色的桌子的裙子',\n",
       " '一个蓝色的好看的女人的尾巴坐在这个小猫的尾巴',\n",
       " '这个篮球的裙子听着这个好看的小小的小小的小猫的眼睛',\n",
       " '这个篮球的尾巴听着这个好看的蓝色的桌子的裙子',\n",
       " '一个篮球的眼睛坐在一个好看的蓝色的小小的女人的眼睛',\n",
       " '一个蓝色的蓝色的桌子的胳膊看见这个好看的女人的胳膊',\n",
       " '一个桌子的尾巴听着这个蓝色的小小的蓝色的女人的尾巴',\n",
       " '一个好看的好看的小猫的胳膊坐在这个蓝色的女人的眼睛',\n",
       " '这个蓝色的桌子的裙子看着这个好看的好看的女人的尾巴',\n",
       " '一个蓝色的好看的小小的小小的篮球的尾巴看着这个桌子的眼睛',\n",
       " '这个蓝色的好看的篮球的尾巴看见一个好看的桌子的胳膊',\n",
       " '一个桌子的裙子坐在一个蓝色的蓝色的好看的篮球的胳膊',\n",
       " '一个好看的好看的好看的桌子的裙子看见一个篮球的眼睛',\n",
       " '一个篮球的尾巴看见这个蓝色的蓝色的好看的篮球的裙子',\n",
       " '这个篮球的尾巴看着一个好看的好看的蓝色的小猫的尾巴',\n",
       " '这个好看的好看的小小的女人的尾巴看着这个好看的桌子的眼睛',\n",
       " '这个好看的蓝色的小小的桌子的眼睛听着一个蓝色的小猫的裙子',\n",
       " '这个蓝色的好看的小小的小小的好看的女人的裙子坐在这个小猫的眼睛',\n",
       " '一个蓝色的小小的小小的蓝色的蓝色的小猫的眼睛看见一个小小的小猫的眼睛',\n",
       " '这个蓝色的蓝色的好看的桌子的尾巴看着一个小小的小小的蓝色的小猫的裙子',\n",
       " '一个好看的好看的好看的篮球的眼睛看见这个蓝色的蓝色的女人的尾巴',\n",
       " '这个好看的桌子的尾巴看着一个蓝色的好看的小小的好看的桌子的尾巴',\n",
       " '一个蓝色的小小的好看的蓝色的蓝色的篮球的尾巴看着这个蓝色的篮球的尾巴',\n",
       " '一个小小的好看的好看的小小的小小的小小的小小的好看的蓝色的蓝色的篮球的胳膊听着一个好看的小小的小小的小小的好看的好看的小猫的胳膊']"
      ]
     },
     "execution_count": 204,
     "metadata": {},
     "output_type": "execute_result"
    }
   ],
   "source": [
    "sorted(random_generated, key=two_gram_prob, reverse=True)"
   ]
  }
 ],
 "metadata": {
  "kernelspec": {
   "display_name": "Python 3",
   "language": "python",
   "name": "python3"
  },
  "language_info": {
   "codemirror_mode": {
    "name": "ipython",
    "version": 3
   },
   "file_extension": ".py",
   "mimetype": "text/x-python",
   "name": "python",
   "nbconvert_exporter": "python",
   "pygments_lexer": "ipython3",
   "version": "3.7.2"
  }
 },
 "nbformat": 4,
 "nbformat_minor": 2
}
