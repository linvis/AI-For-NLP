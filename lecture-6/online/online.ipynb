{
 "cells": [
  {
   "cell_type": "code",
   "execution_count": 1,
   "metadata": {},
   "outputs": [],
   "source": [
    "import pandas as pd"
   ]
  },
  {
   "cell_type": "code",
   "execution_count": 14,
   "metadata": {},
   "outputs": [],
   "source": [
    "database = pd.read_csv(\"sqlResult_1558435.csv\", encoding='gb18030')"
   ]
  },
  {
   "cell_type": "code",
   "execution_count": 262,
   "metadata": {},
   "outputs": [],
   "source": [
    "contents = database['content']"
   ]
  },
  {
   "cell_type": "code",
   "execution_count": 46,
   "metadata": {
    "scrolled": true
   },
   "outputs": [
    {
     "data": {
      "text/plain": [
       "'骁龙835作为唯一通过Windows 10桌面平台认证的ARM处理器，高通强调，不会因为只考虑性能而去屏蔽掉小核心。相反，他们正联手微软，找到一种适合桌面平台的、兼顾性能和功耗的完美方案。\\r\\n报道称，微软已经拿到了一些新的源码，以便Windows 10更好地理解big.little架构。\\r\\n资料显示，骁龙835作为一款集成了CPU、GPU、基带、蓝牙/Wi-Fi的SoC，比传统的Wintel方案可以节省至少30%的PCB空间。\\r\\n按计划，今年Q4，华硕、惠普、联想将首发骁龙835 Win10电脑，预计均是二合一形态的产品。\\r\\n当然，高通骁龙只是个开始，未来也许还能见到三星Exynos、联发科、华为麒麟、小米澎湃等进入Windows 10桌面平台。\\r\\n'"
      ]
     },
     "execution_count": 46,
     "metadata": {},
     "output_type": "execute_result"
    }
   ],
   "source": [
    "contents[1]"
   ]
  },
  {
   "cell_type": "code",
   "execution_count": 47,
   "metadata": {},
   "outputs": [],
   "source": [
    "import re"
   ]
  },
  {
   "cell_type": "code",
   "execution_count": 60,
   "metadata": {},
   "outputs": [],
   "source": [
    "def cut(content):\n",
    "    return ''.join(re.compile(r'[\\w|\\d]+').findall(content))"
   ]
  },
  {
   "cell_type": "code",
   "execution_count": 112,
   "metadata": {},
   "outputs": [
    {
     "data": {
      "text/plain": [
       "'骁龙835作为唯一通过Windows10桌面平台认证的ARM处理器高通强调不会因为只考虑性能而去屏蔽掉小核心相反他们正联手微软找到一种适合桌面平台的兼顾性能和功耗的完美方案报道称微软已经拿到了一些新的源码以便Windows10更好地理解biglittle架构资料显示骁龙835作为一款集成了CPUGPU基带蓝牙WiFi的SoC比传统的Wintel方案可以节省至少30的PCB空间按计划今年Q4华硕惠普联想将首发骁龙835Win10电脑预计均是二合一形态的产品当然高通骁龙只是个开始未来也许还能见到三星Exynos联发科华为麒麟小米澎湃等进入Windows10桌面平台'"
      ]
     },
     "execution_count": 112,
     "metadata": {},
     "output_type": "execute_result"
    }
   ],
   "source": [
    "cut('骁龙835作为唯一通过Windows 10桌面平台认证的ARM处理器，高通强调，不会因为只考虑性能而去屏蔽掉小核心。相反，他们正联手微软，找到一种适合桌面平台的、兼顾性能和功耗的完美方案。\\r\\n报道称，微软已经拿到了一些新的源码，以便Windows 10更好地理解big.little架构。\\r\\n资料显示，骁龙835作为一款集成了CPU、GPU、基带、蓝牙/Wi-Fi的SoC，比传统的Wintel方案可以节省至少30%的PCB空间。\\r\\n按计划，今年Q4，华硕、惠普、联想将首发骁龙835 Win10电脑，预计均是二合一形态的产品。\\r\\n当然，高通骁龙只是个开始，未来也许还能见到三星Exynos、联发科、华为麒麟、小米澎湃等进入Windows 10桌面平台。\\r\\n')"
   ]
  },
  {
   "cell_type": "code",
   "execution_count": 122,
   "metadata": {},
   "outputs": [],
   "source": [
    "def get_tokens(contents):\n",
    "    tokens = []\n",
    "    for content in contents:\n",
    "        tokens.append([word for word in jieba.cut(cut(str(content)))])\n",
    "    return tokens"
   ]
  },
  {
   "cell_type": "code",
   "execution_count": 130,
   "metadata": {},
   "outputs": [],
   "source": [
    "all_tokens = get_tokens(contents)"
   ]
  },
  {
   "cell_type": "code",
   "execution_count": 131,
   "metadata": {},
   "outputs": [
    {
     "data": {
      "text/plain": [
       "89611"
      ]
     },
     "execution_count": 131,
     "metadata": {},
     "output_type": "execute_result"
    }
   ],
   "source": [
    "len(all_tokens)"
   ]
  },
  {
   "cell_type": "code",
   "execution_count": 132,
   "metadata": {},
   "outputs": [
    {
     "data": {
      "text/plain": [
       "[['此外',\n",
       "  '自',\n",
       "  '本周',\n",
       "  '6',\n",
       "  '月',\n",
       "  '12',\n",
       "  '日起',\n",
       "  '除',\n",
       "  '小米',\n",
       "  '手机',\n",
       "  '6',\n",
       "  '等',\n",
       "  '15',\n",
       "  '款',\n",
       "  '机型',\n",
       "  '外',\n",
       "  '其余',\n",
       "  '机型',\n",
       "  '已',\n",
       "  '暂停',\n",
       "  '更新',\n",
       "  '发布',\n",
       "  '含',\n",
       "  '开发',\n",
       "  '版',\n",
       "  '体验版',\n",
       "  '内测',\n",
       "  '稳定版',\n",
       "  '暂不受',\n",
       "  '影响',\n",
       "  '以',\n",
       "  '确保',\n",
       "  '工程师',\n",
       "  '可以',\n",
       "  '集中',\n",
       "  '全部',\n",
       "  '精力',\n",
       "  '进行',\n",
       "  '系统优化',\n",
       "  '工作',\n",
       "  '有人',\n",
       "  '猜测',\n",
       "  '这',\n",
       "  '也',\n",
       "  '是',\n",
       "  '将',\n",
       "  '精力',\n",
       "  '主要',\n",
       "  '用到',\n",
       "  'MIUI9',\n",
       "  '的',\n",
       "  '研发',\n",
       "  '之中',\n",
       "  'MIUI8',\n",
       "  '去年',\n",
       "  '5',\n",
       "  '月',\n",
       "  '发布',\n",
       "  '距今已有',\n",
       "  '一年',\n",
       "  '有余',\n",
       "  '也',\n",
       "  '是',\n",
       "  '时候',\n",
       "  '更新换代',\n",
       "  '了',\n",
       "  '当然',\n",
       "  '关于',\n",
       "  'MIUI9',\n",
       "  '的',\n",
       "  '确切',\n",
       "  '信息',\n",
       "  '我们',\n",
       "  '还是',\n",
       "  '等待',\n",
       "  '官方消息'],\n",
       " ['骁龙',\n",
       "  '835',\n",
       "  '作为',\n",
       "  '唯一',\n",
       "  '通过',\n",
       "  'Windows10',\n",
       "  '桌面',\n",
       "  '平台',\n",
       "  '认证',\n",
       "  '的',\n",
       "  'ARM',\n",
       "  '处理器',\n",
       "  '高通',\n",
       "  '强调',\n",
       "  '不会',\n",
       "  '因为',\n",
       "  '只',\n",
       "  '考虑',\n",
       "  '性能',\n",
       "  '而',\n",
       "  '去',\n",
       "  '屏蔽掉',\n",
       "  '小',\n",
       "  '核心',\n",
       "  '相反',\n",
       "  '他们',\n",
       "  '正',\n",
       "  '联手',\n",
       "  '微软',\n",
       "  '找到',\n",
       "  '一种',\n",
       "  '适合',\n",
       "  '桌面',\n",
       "  '平台',\n",
       "  '的',\n",
       "  '兼顾',\n",
       "  '性能',\n",
       "  '和',\n",
       "  '功耗',\n",
       "  '的',\n",
       "  '完美',\n",
       "  '方案',\n",
       "  '报道',\n",
       "  '称',\n",
       "  '微软',\n",
       "  '已经',\n",
       "  '拿到',\n",
       "  '了',\n",
       "  '一些',\n",
       "  '新',\n",
       "  '的',\n",
       "  '源码',\n",
       "  '以便',\n",
       "  'Windows10',\n",
       "  '更好',\n",
       "  '地',\n",
       "  '理解',\n",
       "  'biglittle',\n",
       "  '架构',\n",
       "  '资料',\n",
       "  '显示',\n",
       "  '骁龙',\n",
       "  '835',\n",
       "  '作为',\n",
       "  '一款',\n",
       "  '集成',\n",
       "  '了',\n",
       "  'CPUGPU',\n",
       "  '基带',\n",
       "  '蓝牙',\n",
       "  'WiFi',\n",
       "  '的',\n",
       "  'SoC',\n",
       "  '比',\n",
       "  '传统',\n",
       "  '的',\n",
       "  'Wintel',\n",
       "  '方案',\n",
       "  '可以',\n",
       "  '节省',\n",
       "  '至少',\n",
       "  '30',\n",
       "  '的',\n",
       "  'PCB',\n",
       "  '空间',\n",
       "  '按计划',\n",
       "  '今年',\n",
       "  'Q4',\n",
       "  '华硕',\n",
       "  '惠普',\n",
       "  '联想',\n",
       "  '将',\n",
       "  '首发',\n",
       "  '骁龙',\n",
       "  '835Win10',\n",
       "  '电脑',\n",
       "  '预计',\n",
       "  '均',\n",
       "  '是',\n",
       "  '二合一',\n",
       "  '形态',\n",
       "  '的',\n",
       "  '产品',\n",
       "  '当然',\n",
       "  '高通',\n",
       "  '骁龙',\n",
       "  '只是',\n",
       "  '个',\n",
       "  '开始',\n",
       "  '未来',\n",
       "  '也许',\n",
       "  '还',\n",
       "  '能',\n",
       "  '见到',\n",
       "  '三星',\n",
       "  'Exynos',\n",
       "  '联发科',\n",
       "  '华为',\n",
       "  '麒麟',\n",
       "  '小米',\n",
       "  '澎湃',\n",
       "  '等',\n",
       "  '进入',\n",
       "  'Windows10',\n",
       "  '桌面',\n",
       "  '平台']]"
      ]
     },
     "execution_count": 132,
     "metadata": {},
     "output_type": "execute_result"
    }
   ],
   "source": [
    "all_tokens[:2]"
   ]
  },
  {
   "cell_type": "code",
   "execution_count": 133,
   "metadata": {},
   "outputs": [],
   "source": [
    "from gensim.models import Word2Vec"
   ]
  },
  {
   "cell_type": "code",
   "execution_count": 134,
   "metadata": {},
   "outputs": [],
   "source": [
    "sentence = [list(token) for token in all_tokens]"
   ]
  },
  {
   "cell_type": "code",
   "execution_count": 135,
   "metadata": {},
   "outputs": [],
   "source": [
    "model = Word2Vec(all_tokens, workers=8)"
   ]
  },
  {
   "cell_type": "code",
   "execution_count": 138,
   "metadata": {},
   "outputs": [
    {
     "name": "stderr",
     "output_type": "stream",
     "text": [
      "/usr/local/lib/python3.7/site-packages/ipykernel_launcher.py:1: DeprecationWarning: Call to deprecated `most_similar` (Method will be removed in 4.0.0, use self.wv.most_similar() instead).\n",
      "  \"\"\"Entry point for launching an IPython kernel.\n"
     ]
    },
    {
     "data": {
      "text/plain": [
       "[('表示', 0.863144040107727),\n",
       " ('认为', 0.7961944937705994),\n",
       " ('指出', 0.7779885530471802),\n",
       " ('告诉', 0.7507252097129822),\n",
       " ('说完', 0.7255903482437134),\n",
       " ('看来', 0.7144650220870972),\n",
       " ('坦言', 0.7001689672470093),\n",
       " ('介绍', 0.6765984296798706),\n",
       " ('明说', 0.6720010042190552),\n",
       " ('称', 0.6367825865745544)]"
      ]
     },
     "execution_count": 138,
     "metadata": {},
     "output_type": "execute_result"
    }
   ],
   "source": [
    "model.most_similar(\"说\")"
   ]
  },
  {
   "cell_type": "code",
   "execution_count": 139,
   "metadata": {},
   "outputs": [],
   "source": [
    "from collections import defaultdict"
   ]
  },
  {
   "cell_type": "markdown",
   "metadata": {},
   "source": [
    "## More Data, Better Results"
   ]
  },
  {
   "cell_type": "code",
   "execution_count": 147,
   "metadata": {},
   "outputs": [],
   "source": [
    "def traverse(init_word, model, count):\n",
    "    \n",
    "    relate_word = [init_word]\n",
    "    seen = defaultdict(int)\n",
    "    \n",
    "    while(len(seen) < count):\n",
    "    \n",
    "        node = relate_word.pop(0)\n",
    "        \n",
    "        relate_word += [word for word, _ in model.most_similar(node)]\n",
    "        \n",
    "        seen[node] += 1\n",
    "        \n",
    "    return sorted(seen.items(), key=lambda kv: kv[1], reverse=True)"
   ]
  },
  {
   "cell_type": "code",
   "execution_count": 149,
   "metadata": {},
   "outputs": [
    {
     "name": "stderr",
     "output_type": "stream",
     "text": [
      "/usr/local/lib/python3.7/site-packages/ipykernel_launcher.py:10: DeprecationWarning: Call to deprecated `most_similar` (Method will be removed in 4.0.0, use self.wv.most_similar() instead).\n",
      "  # Remove the CWD from sys.path while we load stuff.\n"
     ]
    },
    {
     "data": {
      "text/plain": [
       "[('说', 23),\n",
       " ('表示', 21),\n",
       " ('坦言', 20),\n",
       " ('认为', 19),\n",
       " ('指出', 15),\n",
       " ('告诉', 14),\n",
       " ('看来', 14),\n",
       " ('明说', 11),\n",
       " ('称', 11),\n",
       " ('透露', 10),\n",
       " ('说完', 9),\n",
       " ('介绍', 8),\n",
       " ('强调', 7),\n",
       " ('所说', 7),\n",
       " ('建议', 6),\n",
       " ('普遍认为', 5),\n",
       " ('提到', 4),\n",
       " ('说道', 3),\n",
       " ('眼中', 3),\n",
       " ('留意到', 2),\n",
       " ('见到', 2),\n",
       " ('问', 2),\n",
       " ('文说', 2),\n",
       " ('直言', 2),\n",
       " ('了解', 2),\n",
       " ('获悉', 2),\n",
       " ('还称', 2),\n",
       " ('中称', 2),\n",
       " ('称该', 2),\n",
       " ('声称', 2),\n",
       " ('中说', 2),\n",
       " ('地说', 1),\n",
       " ('称赞', 1),\n",
       " ('德说', 1),\n",
       " ('祁', 1),\n",
       " ('刘', 1),\n",
       " ('国利', 1),\n",
       " ('农艺师', 1),\n",
       " ('永康', 1),\n",
       " ('志军', 1),\n",
       " ('董', 1),\n",
       " ('重申', 1),\n",
       " ('特别强调', 1),\n",
       " ('敦促', 1),\n",
       " ('呼吁', 1),\n",
       " ('知情', 1),\n",
       " ('推测', 1),\n",
       " ('披露', 1),\n",
       " ('证实', 1),\n",
       " ('猜测', 1)]"
      ]
     },
     "execution_count": 149,
     "metadata": {},
     "output_type": "execute_result"
    }
   ],
   "source": [
    "traverse(\"说\", model, 50)"
   ]
  },
  {
   "cell_type": "markdown",
   "metadata": {},
   "source": [
    "## TFIDF Key words"
   ]
  },
  {
   "cell_type": "code",
   "execution_count": 162,
   "metadata": {},
   "outputs": [],
   "source": [
    "def get_tf(word, document):\n",
    "    return sum(1 for w in document if w == word)"
   ]
  },
  {
   "cell_type": "code",
   "execution_count": 163,
   "metadata": {},
   "outputs": [
    {
     "data": {
      "text/plain": [
       "['此外',\n",
       " '自',\n",
       " '本周',\n",
       " '6',\n",
       " '月',\n",
       " '12',\n",
       " '日起',\n",
       " '除',\n",
       " '小米',\n",
       " '手机',\n",
       " '6',\n",
       " '等',\n",
       " '15',\n",
       " '款',\n",
       " '机型',\n",
       " '外',\n",
       " '其余',\n",
       " '机型',\n",
       " '已',\n",
       " '暂停',\n",
       " '更新',\n",
       " '发布',\n",
       " '含',\n",
       " '开发',\n",
       " '版',\n",
       " '体验版',\n",
       " '内测',\n",
       " '稳定版',\n",
       " '暂不受',\n",
       " '影响',\n",
       " '以',\n",
       " '确保',\n",
       " '工程师',\n",
       " '可以',\n",
       " '集中',\n",
       " '全部',\n",
       " '精力',\n",
       " '进行',\n",
       " '系统优化',\n",
       " '工作',\n",
       " '有人',\n",
       " '猜测',\n",
       " '这',\n",
       " '也',\n",
       " '是',\n",
       " '将',\n",
       " '精力',\n",
       " '主要',\n",
       " '用到',\n",
       " 'MIUI9',\n",
       " '的',\n",
       " '研发',\n",
       " '之中',\n",
       " 'MIUI8',\n",
       " '去年',\n",
       " '5',\n",
       " '月',\n",
       " '发布',\n",
       " '距今已有',\n",
       " '一年',\n",
       " '有余',\n",
       " '也',\n",
       " '是',\n",
       " '时候',\n",
       " '更新换代',\n",
       " '了',\n",
       " '当然',\n",
       " '关于',\n",
       " 'MIUI9',\n",
       " '的',\n",
       " '确切',\n",
       " '信息',\n",
       " '我们',\n",
       " '还是',\n",
       " '等待',\n",
       " '官方消息']"
      ]
     },
     "execution_count": 163,
     "metadata": {},
     "output_type": "execute_result"
    }
   ],
   "source": [
    "all_tokens[0]"
   ]
  },
  {
   "cell_type": "code",
   "execution_count": 166,
   "metadata": {},
   "outputs": [
    {
     "data": {
      "text/plain": [
       "2"
      ]
     },
     "execution_count": 166,
     "metadata": {},
     "output_type": "execute_result"
    }
   ],
   "source": [
    "get_tf(\"的\",all_tokens[0])"
   ]
  },
  {
   "cell_type": "code",
   "execution_count": 167,
   "metadata": {},
   "outputs": [],
   "source": [
    "import math"
   ]
  },
  {
   "cell_type": "code",
   "execution_count": 169,
   "metadata": {},
   "outputs": [],
   "source": [
    "def get_idf(word, documents):\n",
    "    count = sum(1 for doc in documents if word in doc)\n",
    "    return math.log10(len(documents) / count)"
   ]
  },
  {
   "cell_type": "code",
   "execution_count": 172,
   "metadata": {},
   "outputs": [
    {
     "data": {
      "text/plain": [
       "2.9655895895262288"
      ]
     },
     "execution_count": 172,
     "metadata": {},
     "output_type": "execute_result"
    }
   ],
   "source": [
    "get_idf(\"小米\",all_tokens)"
   ]
  },
  {
   "cell_type": "code",
   "execution_count": 174,
   "metadata": {},
   "outputs": [
    {
     "data": {
      "text/plain": [
       "0.10539364348661012"
      ]
     },
     "execution_count": 174,
     "metadata": {},
     "output_type": "execute_result"
    }
   ],
   "source": [
    "get_idf(\"的\",all_tokens)"
   ]
  },
  {
   "cell_type": "code",
   "execution_count": 175,
   "metadata": {},
   "outputs": [],
   "source": [
    "def get_tfidf(word, document, documents):\n",
    "    return get_tf(word, document) * get_idf(word, documents)"
   ]
  },
  {
   "cell_type": "code",
   "execution_count": 177,
   "metadata": {},
   "outputs": [
    {
     "data": {
      "text/plain": [
       "2.9655895895262288"
      ]
     },
     "execution_count": 177,
     "metadata": {},
     "output_type": "execute_result"
    }
   ],
   "source": [
    "get_tfidf(\"小米\",all_tokens[0], all_tokens)"
   ]
  },
  {
   "cell_type": "code",
   "execution_count": 179,
   "metadata": {},
   "outputs": [
    {
     "data": {
      "text/plain": [
       "0.21078728697322024"
      ]
     },
     "execution_count": 179,
     "metadata": {},
     "output_type": "execute_result"
    }
   ],
   "source": [
    "get_tfidf(\"的\",all_tokens[0], all_tokens)"
   ]
  },
  {
   "cell_type": "code",
   "execution_count": 185,
   "metadata": {},
   "outputs": [],
   "source": [
    "def get_key_words(document, all_documents):\n",
    "    key_words = [(word, get_tfidf(word, document, all_documents))\n",
    "                for word in document]\n",
    "    return sorted(key_words, key=lambda x: x[1], reverse=True)"
   ]
  },
  {
   "cell_type": "code",
   "execution_count": 188,
   "metadata": {},
   "outputs": [
    {
     "data": {
      "text/plain": [
       "[('MIUI9', 9.904722647584947),\n",
       " ('MIUI9', 9.904722647584947),\n",
       " ('机型', 5.922270496199958),\n",
       " ('机型', 5.922270496199958),\n",
       " ('精力', 5.177498687800658),\n",
       " ('精力', 5.177498687800658),\n",
       " ('体验版', 4.9523613237924735),\n",
       " ('稳定版', 4.9523613237924735),\n",
       " ('暂不受', 4.9523613237924735),\n",
       " ('系统优化', 4.9523613237924735)]"
      ]
     },
     "execution_count": 188,
     "metadata": {},
     "output_type": "execute_result"
    }
   ],
   "source": [
    "get_key_words(all_tokens[0], all_tokens)[:10]"
   ]
  },
  {
   "cell_type": "markdown",
   "metadata": {},
   "source": [
    "# Wordcloud"
   ]
  },
  {
   "cell_type": "code",
   "execution_count": 191,
   "metadata": {},
   "outputs": [],
   "source": [
    "import wordcloud"
   ]
  },
  {
   "cell_type": "code",
   "execution_count": 193,
   "metadata": {},
   "outputs": [],
   "source": [
    "wc = wordcloud.WordCloud(\"/Users/shlin/wspace/github/AI-For-NLP/lecture-6/online/SourceHanSerifSC-Regular.otf\")"
   ]
  },
  {
   "cell_type": "code",
   "execution_count": 213,
   "metadata": {},
   "outputs": [],
   "source": [
    "import matplotlib.pyplot as plt\n",
    "%matplotlib inline"
   ]
  },
  {
   "cell_type": "code",
   "execution_count": 205,
   "metadata": {},
   "outputs": [],
   "source": [
    "text = get_key_words(all_tokens[0], all_tokens)[:10]"
   ]
  },
  {
   "cell_type": "code",
   "execution_count": 206,
   "metadata": {},
   "outputs": [
    {
     "data": {
      "text/plain": [
       "[('MIUI9', 9.904722647584947),\n",
       " ('MIUI9', 9.904722647584947),\n",
       " ('机型', 5.922270496199958),\n",
       " ('机型', 5.922270496199958),\n",
       " ('精力', 5.177498687800658),\n",
       " ('精力', 5.177498687800658),\n",
       " ('体验版', 4.9523613237924735),\n",
       " ('稳定版', 4.9523613237924735),\n",
       " ('暂不受', 4.9523613237924735),\n",
       " ('系统优化', 4.9523613237924735)]"
      ]
     },
     "execution_count": 206,
     "metadata": {},
     "output_type": "execute_result"
    }
   ],
   "source": [
    "text"
   ]
  },
  {
   "cell_type": "code",
   "execution_count": 207,
   "metadata": {},
   "outputs": [],
   "source": [
    "text_dict = {word:score for word, score in text}"
   ]
  },
  {
   "cell_type": "code",
   "execution_count": 209,
   "metadata": {},
   "outputs": [
    {
     "data": {
      "text/plain": [
       "{'MIUI9': 9.904722647584947,\n",
       " '机型': 5.922270496199958,\n",
       " '精力': 5.177498687800658,\n",
       " '体验版': 4.9523613237924735,\n",
       " '稳定版': 4.9523613237924735,\n",
       " '暂不受': 4.9523613237924735,\n",
       " '系统优化': 4.9523613237924735}"
      ]
     },
     "execution_count": 209,
     "metadata": {},
     "output_type": "execute_result"
    }
   ],
   "source": [
    "text_dict"
   ]
  },
  {
   "cell_type": "code",
   "execution_count": 215,
   "metadata": {},
   "outputs": [
    {
     "data": {
      "text/plain": [
       "<matplotlib.image.AxesImage at 0x189e97ef0>"
      ]
     },
     "execution_count": 215,
     "metadata": {},
     "output_type": "execute_result"
    },
    {
     "data": {
      "image/png": "[encoded data removed]",
      "text/plain": [
       "<Figure size 432x288 with 1 Axes>"
      ]
     },
     "metadata": {
      "needs_background": "light"
     },
     "output_type": "display_data"
    }
   ],
   "source": [
    "plt.imshow(wc.generate_from_frequencies(text_dict))"
   ]
  },
  {
   "cell_type": "markdown",
   "metadata": {},
   "source": [
    "## TFIDF Vectorizezd"
   ]
  },
  {
   "cell_type": "code",
   "execution_count": 218,
   "metadata": {},
   "outputs": [],
   "source": [
    "from sklearn.feature_extraction.text import TfidfVectorizer"
   ]
  },
  {
   "cell_type": "code",
   "execution_count": 225,
   "metadata": {},
   "outputs": [],
   "source": [
    "vectorizer = TfidfVectorizer(max_features=10000)"
   ]
  },
  {
   "cell_type": "code",
   "execution_count": 231,
   "metadata": {},
   "outputs": [],
   "source": [
    "corpus = [\n",
    "     'This is the first document.',\n",
    "     'This document is the second document.',\n",
    "     'And this is the third one.',\n",
    "     'Is this the first document?',\n",
    " ]"
   ]
  },
  {
   "cell_type": "code",
   "execution_count": 249,
   "metadata": {},
   "outputs": [],
   "source": [
    "def get_corpus(contents):\n",
    "    return [' '.join(jieba.cut(cut(str(content)))) for content in contents]"
   ]
  },
  {
   "cell_type": "code",
   "execution_count": 250,
   "metadata": {},
   "outputs": [
    {
     "data": {
      "text/plain": [
       "0    此外，自本周（6月12日）起，除小米手机6等15款机型外，其余机型已暂停更新发布（含开发版/...\n",
       "1    骁龙835作为唯一通过Windows 10桌面平台认证的ARM处理器，高通强调，不会因为只考...\n",
       "Name: content, dtype: object"
      ]
     },
     "execution_count": 250,
     "metadata": {},
     "output_type": "execute_result"
    }
   ],
   "source": [
    "contents[:2]"
   ]
  },
  {
   "cell_type": "code",
   "execution_count": 442,
   "metadata": {},
   "outputs": [],
   "source": [
    "corpus = get_corpus(contents)"
   ]
  },
  {
   "cell_type": "code",
   "execution_count": 404,
   "metadata": {},
   "outputs": [
    {
     "data": {
      "text/plain": [
       "['此外 自 本周 6 月 12 日起 除 小米 手机 6 等 15 款 机型 外 其余 机型 已 暂停 更新 发布 含 开发 版 体验版 内测 稳定版 暂不受 影响 以 确保 工程师 可以 集中 全部 精力 进行 系统优化 工作 有人 猜测 这 也 是 将 精力 主要 用到 MIUI9 的 研发 之中 MIUI8 去年 5 月 发布 距今已有 一年 有余 也 是 时候 更新换代 了 当然 关于 MIUI9 的 确切 信息 我们 还是 等待 官方消息',\n",
       " '骁龙 835 作为 唯一 通过 Windows10 桌面 平台 认证 的 ARM 处理器 高通 强调 不会 因为 只 考虑 性能 而 去 屏蔽掉 小 核心 相反 他们 正 联手 微软 找到 一种 适合 桌面 平台 的 兼顾 性能 和 功耗 的 完美 方案 报道 称 微软 已经 拿到 了 一些 新 的 源码 以便 Windows10 更好 地 理解 biglittle 架构 资料 显示 骁龙 835 作为 一款 集成 了 CPUGPU 基带 蓝牙 WiFi 的 SoC 比 传统 的 Wintel 方案 可以 节省 至少 30 的 PCB 空间 按计划 今年 Q4 华硕 惠普 联想 将 首发 骁龙 835Win10 电脑 预计 均 是 二合一 形态 的 产品 当然 高通 骁龙 只是 个 开始 未来 也许 还 能 见到 三星 Exynos 联发科 华为 麒麟 小米 澎湃 等 进入 Windows10 桌面 平台']"
      ]
     },
     "execution_count": 404,
     "metadata": {},
     "output_type": "execute_result"
    }
   ],
   "source": [
    "corpus[:2]"
   ]
  },
  {
   "cell_type": "code",
   "execution_count": 253,
   "metadata": {},
   "outputs": [],
   "source": [
    "X = vectorizer.fit_transform(corpus)"
   ]
  },
  {
   "cell_type": "code",
   "execution_count": 255,
   "metadata": {},
   "outputs": [
    {
     "data": {
      "text/plain": [
       "(89611, 10000)"
      ]
     },
     "execution_count": 255,
     "metadata": {},
     "output_type": "execute_result"
    }
   ],
   "source": [
    "X.shape"
   ]
  },
  {
   "cell_type": "code",
   "execution_count": 267,
   "metadata": {},
   "outputs": [
    {
     "data": {
      "text/plain": [
       "{'此外': 6209,\n",
       " '本周': 5900,\n",
       " '12': 32,\n",
       " '日起': 5633,\n",
       " '小米': 4001,\n",
       " '手机': 4893,\n",
       " '15': 46,\n",
       " '其余': 1844,\n",
       " '暂停': 5754,\n",
       " '更新': 5774,\n",
       " '发布': 2633,\n",
       " '开发': 4429,\n",
       " '影响': 4557,\n",
       " '确保': 7354,\n",
       " '工程师': 4163,\n",
       " '可以': 2731,\n",
       " '集中': 9612,\n",
       " '全部': 1748,\n",
       " '精力': 7689,\n",
       " '进行': 9112,\n",
       " '工作': 4145,\n",
       " '有人': 5820,\n",
       " '猜测': 6902,\n",
       " '主要': 937,\n",
       " '研发': 7335,\n",
       " '之中': 959,\n",
       " '去年': 2548,\n",
       " '一年': 329,\n",
       " '时候': 5650,\n",
       " '当然': 4534,\n",
       " '关于': 1822,\n",
       " '信息': 1560,\n",
       " '我们': 4826,\n",
       " '还是': 9058,\n",
       " '等待': 7626,\n",
       " '作为': 1456,\n",
       " '唯一': 2965,\n",
       " '通过': 9221,\n",
       " '平台': 4288,\n",
       " '认证': 8560,\n",
       " '强调': 4510,\n",
       " '不会': 574,\n",
       " '因为': 3043,\n",
       " '考虑': 8007,\n",
       " '性能': 4668,\n",
       " '核心': 6079,\n",
       " '相反': 7230,\n",
       " '他们': 1265,\n",
       " '联手': 8045,\n",
       " '微软': 4604,\n",
       " '找到': 4966,\n",
       " '一种': 374,\n",
       " '适合': 9164,\n",
       " '兼顾': 1865,\n",
       " '完美': 3803,\n",
       " '方案': 5561,\n",
       " '报道': 5039,\n",
       " '已经': 4188,\n",
       " '拿到': 5115,\n",
       " '一些': 281,\n",
       " '以便': 1280,\n",
       " '更好': 5771,\n",
       " '理解': 6989,\n",
       " '架构': 6035,\n",
       " '资料': 8794,\n",
       " '显示': 5723,\n",
       " '一款': 361,\n",
       " '集成': 9618,\n",
       " '传统': 1374,\n",
       " '节省': 8212,\n",
       " '至少': 8147,\n",
       " '30': 102,\n",
       " '空间': 7515,\n",
       " '按计划': 5144,\n",
       " '今年': 1238,\n",
       " '联想': 8044,\n",
       " '首发': 9811,\n",
       " '电脑': 7088,\n",
       " '预计': 9731,\n",
       " '形态': 4542,\n",
       " '产品': 1156,\n",
       " '只是': 2725,\n",
       " '开始': 4435,\n",
       " '未来': 5894,\n",
       " '也许': 1003,\n",
       " '见到': 8483,\n",
       " '三星': 474,\n",
       " '华为': 2403,\n",
       " '澎湃': 6729,\n",
       " '进入': 9096,\n",
       " '此前': 6206,\n",
       " '搭载': 5264,\n",
       " '电池': 7084,\n",
       " '规格': 8501,\n",
       " '至于': 8144,\n",
       " '可能': 2738,\n",
       " '所说': 4883,\n",
       " '设定': 8595,\n",
       " '有关': 5823,\n",
       " '按照': 5142,\n",
       " '目前': 7206,\n",
       " '掌握': 5174,\n",
       " '拥有': 5102,\n",
       " '55': 137,\n",
       " '摄像头': 5268,\n",
       " '惊喜': 4742,\n",
       " '根据': 6086,\n",
       " '京东': 1166,\n",
       " '泄露': 6432,\n",
       " '售价': 2963,\n",
       " '应该': 4376,\n",
       " '某个': 6038,\n",
       " '这是': 9080,\n",
       " '18': 54,\n",
       " '葡萄牙': 8334,\n",
       " '中部': 882,\n",
       " '地区': 3173,\n",
       " '拍摄': 5083,\n",
       " '森林': 6132,\n",
       " '汽车': 6381,\n",
       " '新华社': 5517,\n",
       " '记者': 8578,\n",
       " '标题': 6066,\n",
       " '44': 124,\n",
       " '女子': 3641,\n",
       " '深圳': 6607,\n",
       " '网友': 7913,\n",
       " '暴雨': 5762,\n",
       " '交警': 1141,\n",
       " '昨日': 5715,\n",
       " '清晨': 6635,\n",
       " '发现': 2647,\n",
       " '行走': 8397,\n",
       " '快速': 4650,\n",
       " '期间': 5887,\n",
       " '赶紧': 8850,\n",
       " '一路': 396,\n",
       " '那么': 9271,\n",
       " '事发': 1043,\n",
       " '到底': 2140,\n",
       " '发生': 2649,\n",
       " '什么': 1230,\n",
       " '一起': 395,\n",
       " '还原': 9057,\n",
       " '现场': 6950,\n",
       " '大队': 3531,\n",
       " '中队': 887,\n",
       " '女生': 3649,\n",
       " '一位': 287,\n",
       " '高大': 9908,\n",
       " '说话': 8674,\n",
       " '90': 178,\n",
       " '青年': 9652,\n",
       " '介绍': 1246,\n",
       " '16': 49,\n",
       " '早上': 5638,\n",
       " '36': 112,\n",
       " '正在': 6192,\n",
       " '附近': 9531,\n",
       " '接到': 5193,\n",
       " '机动车': 5935,\n",
       " '危险': 2501,\n",
       " '随后': 9583,\n",
       " '寻找': 3957,\n",
       " '大概': 3490,\n",
       " '大道': 3525,\n",
       " '出口': 1993,\n",
       " '方向': 5559,\n",
       " '身上': 8920,\n",
       " '另外': 2720,\n",
       " '一名': 304,\n",
       " '情绪': 4738,\n",
       " '尝试': 4024,\n",
       " '交流': 1136,\n",
       " '离开': 7416,\n",
       " '愿意': 4786,\n",
       " '接受': 5195,\n",
       " '继续': 7855,\n",
       " '缓慢': 7886,\n",
       " '此时': 6211,\n",
       " '路边': 8909,\n",
       " '聚集': 8061,\n",
       " '市民': 4223,\n",
       " '为了': 901,\n",
       " '刺激': 2164,\n",
       " '一边': 402,\n",
       " '群众': 7976,\n",
       " '警方': 8544,\n",
       " '提供': 5227,\n",
       " '一份': 285,\n",
       " '视频': 8516,\n",
       " '了解': 1025,\n",
       " '25': 94,\n",
       " '出现': 2015,\n",
       " '监控': 7186,\n",
       " '穿着': 7520,\n",
       " '白色': 7161,\n",
       " '沿着': 6427,\n",
       " '当时': 4531,\n",
       " '正值': 6191,\n",
       " '上班': 523,\n",
       " '高峰期': 9917,\n",
       " '路上': 8903,\n",
       " '纷纷': 7760,\n",
       " '观望': 8492,\n",
       " '不少': 597,\n",
       " '车辆': 8942,\n",
       " '速度': 9225,\n",
       " '脚步': 8094,\n",
       " '依然': 1498,\n",
       " '行进': 8398,\n",
       " '中间': 885,\n",
       " '一辆': 400,\n",
       " '货车': 8756,\n",
       " '镜头': 9435,\n",
       " '但是': 1399,\n",
       " '朝着': 5872,\n",
       " '周围': 2902,\n",
       " '没有': 6400,\n",
       " '或者': 4834,\n",
       " '看到': 7261,\n",
       " '这样': 9082,\n",
       " '情况': 4732,\n",
       " '恐怕': 4702,\n",
       " '大家': 3471,\n",
       " '办法': 2219,\n",
       " '面对': 9677,\n",
       " '这一': 9061,\n",
       " '表示': 8425,\n",
       " '根本': 6087,\n",
       " '不敢': 607,\n",
       " '心里': 4630,\n",
       " '感觉': 4782,\n",
       " '尴尬': 4043,\n",
       " '跟随': 8897,\n",
       " '作出': 1457,\n",
       " '举动': 944,\n",
       " '突然': 7528,\n",
       " '靠近': 9669,\n",
       " '上面': 538,\n",
       " '控制': 5205,\n",
       " '远离': 9117,\n",
       " '衣服': 8409,\n",
       " '只能': 2727,\n",
       " '紧紧': 7718,\n",
       " '一只': 300,\n",
       " '后面': 2859,\n",
       " '一路上': 397,\n",
       " '耐心': 8016,\n",
       " '听到': 2872,\n",
       " '不断': 608,\n",
       " '重复': 9342,\n",
       " '一句': 299,\n",
       " '要是': 8477,\n",
       " '遭遇': 9259,\n",
       " '不时': 612,\n",
       " '试图': 8633,\n",
       " '大暴雨': 3485,\n",
       " '眼睛': 7287,\n",
       " '瞬间': 7305,\n",
       " '帮助': 4258,\n",
       " '大雨': 3533,\n",
       " '来说': 6002,\n",
       " '回家': 3027,\n",
       " '然后': 6799,\n",
       " '照片': 6806,\n",
       " '旁边': 5571,\n",
       " '场景': 3206,\n",
       " '下来': 551,\n",
       " '带到': 4245,\n",
       " '派出所': 6498,\n",
       " '姑娘': 3688,\n",
       " '什么样': 1231,\n",
       " '事情': 1048,\n",
       " '透露': 9191,\n",
       " '湖北': 6676,\n",
       " '家属': 3903,\n",
       " '反映': 2611,\n",
       " '三天': 469,\n",
       " '陈某': 9540,\n",
       " '老家': 7987,\n",
       " '导致': 3964,\n",
       " '异常': 4469,\n",
       " '产生': 1161,\n",
       " '送往': 9162,\n",
       " '医院': 2368,\n",
       " '治疗': 6424,\n",
       " '大大': 3463,\n",
       " '希望': 4242,\n",
       " '康复': 4391,\n",
       " '其实': 1846,\n",
       " '到来': 2142,\n",
       " '存在': 3729,\n",
       " '年龄': 4326,\n",
       " '限制': 9561,\n",
       " '你们': 1469,\n",
       " '原因': 2532,\n",
       " '这个': 9062,\n",
       " '哥哥': 2949,\n",
       " '一辈子': 401,\n",
       " '自己': 8114,\n",
       " '家人': 3898,\n",
       " '同时': 2827,\n",
       " '感谢': 4783,\n",
       " '聆听': 8021,\n",
       " '心灵': 4625,\n",
       " '点赞': 6772,\n",
       " '警察': 8540,\n",
       " '就是': 4034,\n",
       " '男子': 7100,\n",
       " '20': 61,\n",
       " '50': 130,\n",
       " '上午': 494,\n",
       " '公安局': 1773,\n",
       " '一个': 274,\n",
       " '报警': 5038,\n",
       " '电话': 7093,\n",
       " '声称': 3326,\n",
       " '遭到': 9257,\n",
       " '侵害': 1506,\n",
       " '几个': 1969,\n",
       " '关键词': 1835,\n",
       " '民警': 6308,\n",
       " '紧张': 7715,\n",
       " '起来': 8853,\n",
       " '受到': 2677,\n",
       " 'a股': 193,\n",
       " '纳入': 7753,\n",
       " 'msci': 206,\n",
       " '指数': 5135,\n",
       " '利好': 2123,\n",
       " '消息': 6577,\n",
       " '市场': 4211,\n",
       " '周三': 2898,\n",
       " '再度': 1883,\n",
       " '上演': 522,\n",
       " '行情': 8390,\n",
       " '表现': 8424,\n",
       " '尾盘': 4058,\n",
       " '跳水': 8913,\n",
       " '之后': 964,\n",
       " '金融': 9383,\n",
       " '板块': 6010,\n",
       " '状态': 6889,\n",
       " '分析': 2051,\n",
       " '人士': 1191,\n",
       " '认为': 8554,\n",
       " '受益': 2685,\n",
       " '估值': 1394,\n",
       " '资金': 8804,\n",
       " '青睐': 9660,\n",
       " '存量': 3732,\n",
       " '博弈': 2462,\n",
       " '格局': 6090,\n",
       " '风格': 9771,\n",
       " '震荡': 9641,\n",
       " '延续': 4398,\n",
       " '流动性': 6505,\n",
       " '改善': 5349,\n",
       " '经济': 7802,\n",
       " '预期': 9725,\n",
       " '有助于': 5828,\n",
       " '支撑': 5316,\n",
       " '大盘': 3504,\n",
       " '逐步': 9194,\n",
       " '再现': 1885,\n",
       " '未能': 5897,\n",
       " '上行': 529,\n",
       " '态势': 4656,\n",
       " '两市': 740,\n",
       " '成交': 4800,\n",
       " '小幅': 3990,\n",
       " '29': 101,\n",
       " '一级': 382,\n",
       " '行业': 8382,\n",
       " '收盘': 5337,\n",
       " '银行': 9415,\n",
       " '两个': 717,\n",
       " '分别': 2038,\n",
       " '上涨': 518,\n",
       " '180': 55,\n",
       " '二级': 1068,\n",
       " '来看': 5998,\n",
       " '涨幅': 6594,\n",
       " '最高': 5810,\n",
       " '达到': 9003,\n",
       " '信托': 1566,\n",
       " '及其': 2578,\n",
       " '保险': 1550,\n",
       " '证券': 8608,\n",
       " '成分股': 4806,\n",
       " '中共': 784,\n",
       " '21': 89,\n",
       " '其中': 1842,\n",
       " '最大': 5797,\n",
       " '贵阳': 8784,\n",
       " '超过': 8868,\n",
       " '150': 47,\n",
       " '17': 51,\n",
       " '个股': 773,\n",
       " '中国': 798,\n",
       " '居前': 4070,\n",
       " '两名': 726,\n",
       " '新华': 5516,\n",
       " '券商': 2163,\n",
       " '下跌': 560,\n",
       " '近期': 9048,\n",
       " '宣布': 3887,\n",
       " '2018': 83,\n",
       " '新兴': 5511,\n",
       " '群体': 7977,\n",
       " '团队': 3055,\n",
       " '指出': 5125,\n",
       " '最新': 5802,\n",
       " '包含': 2304,\n",
       " '市值': 4208,\n",
       " '互联互通': 1085,\n",
       " '交易': 1128,\n",
       " '股票': 8073,\n",
       " '以及': 1284,\n",
       " '停牌': 1618,\n",
       " '标的': 6062,\n",
       " '由于': 7058,\n",
       " '很多': 4576,\n",
       " '权重': 5954,\n",
       " '05': 5,\n",
       " '上升': 493,\n",
       " '消费': 6580,\n",
       " '涵盖': 6595,\n",
       " '大部分': 3526,\n",
       " '动态': 2265,\n",
       " '加入': 2228,\n",
       " '增加': 3300,\n",
       " '其他': 1843,\n",
       " '尽管': 4056,\n",
       " '事件': 1036,\n",
       " '短期': 7317,\n",
       " '有所': 5833,\n",
       " '中长期': 884,\n",
       " '海外': 6545,\n",
       " '增量': 3314,\n",
       " '升温': 2388,\n",
       " '短期内': 7318,\n",
       " '不能': 625,\n",
       " '有效': 5834,\n",
       " '放大': 5371,\n",
       " '情景': 4737,\n",
       " '难以': 9595,\n",
       " '持续': 5119,\n",
       " '改变': 5348,\n",
       " '并未': 4333,\n",
       " '引起': 4477,\n",
       " '热情': 6782,\n",
       " '成交量': 4801,\n",
       " '较为': 8974,\n",
       " '较大': 8975,\n",
       " '变化': 2693,\n",
       " '成长': 4825,\n",
       " '全天': 1727,\n",
       " '低迷': 1410,\n",
       " '表明': 8422,\n",
       " '很少': 4579,\n",
       " '不同': 589,\n",
       " '之间': 977,\n",
       " '使得': 1474,\n",
       " '突破': 7529,\n",
       " '中期': 854,\n",
       " '依旧': 1494,\n",
       " '维持': 7865,\n",
       " '虽然': 8366,\n",
       " '至今': 8145,\n",
       " '智能手机': 5753,\n",
       " '无法': 5590,\n",
       " '完全': 3796,\n",
       " '并于': 4330,\n",
       " '2013': 76,\n",
       " '退出': 9157,\n",
       " '月份': 5813,\n",
       " '官方': 3811,\n",
       " '回归': 3029,\n",
       " '很快': 4581,\n",
       " '登场': 7148,\n",
       " '登陆': 7153,\n",
       " '近日': 9047,\n",
       " '型号': 3231,\n",
       " '神秘': 7391,\n",
       " '悄然': 4718,\n",
       " '相关': 7229,\n",
       " '这款': 9084,\n",
       " '并非': 4336,\n",
       " '定位': 3818,\n",
       " '配备': 9309,\n",
       " '最受': 5794,\n",
       " '芯片': 8222,\n",
       " '之一': 956,\n",
       " '采用': 9320,\n",
       " '14': 43,\n",
       " '工艺': 4167,\n",
       " '设计': 8601,\n",
       " '当前': 4521,\n",
       " '只有': 2726,\n",
       " '上市': 504,\n",
       " '销售': 9421,\n",
       " '改进': 5356,\n",
       " '明显': 5688,\n",
       " '所以': 4875,\n",
       " '放在': 5370,\n",
       " '变成': 2695,\n",
       " '高端': 9936,\n",
       " '不过': 635,\n",
       " '签署': 7641,\n",
       " '协议': 2422,\n",
       " '时间': 5673,\n",
       " '既然': 5604,\n",
       " '测试': 6518,\n",
       " '说明': 8672,\n",
       " '只要': 2728,\n",
       " '时期': 5657,\n",
       " '新品': 5521,\n",
       " '之前': 963,\n",
       " '曝光': 5764,\n",
       " '竞争': 7544,\n",
       " '优势': 1335,\n",
       " '全面': 1751,\n",
       " '推出': 5210,\n",
       " '全球': 1737,\n",
       " '首款': 9827,\n",
       " '多达': 3430,\n",
       " '28': 100,\n",
       " '媒体': 3714,\n",
       " '沟通': 6396,\n",
       " '会上': 1348,\n",
       " '各位': 2774,\n",
       " '时代': 5648,\n",
       " '成为': 4799,\n",
       " '沙漠': 6393,\n",
       " '有利': 5824,\n",
       " '消化': 6575,\n",
       " '开盘': 4454,\n",
       " '上证': 530,\n",
       " '带动': 4246,\n",
       " '一度': 331,\n",
       " '60': 143,\n",
       " '120': 33,\n",
       " '均线': 3211,\n",
       " '万达': 453,\n",
       " '电影': 7080,\n",
       " '绝大多数': 7844,\n",
       " '大幅': 3479,\n",
       " '各大': 2778,\n",
       " '全线': 1742,\n",
       " '不见': 630,\n",
       " '不可': 586,\n",
       " '短线': 7321,\n",
       " '策略': 7631,\n",
       " '题材': 9759,\n",
       " '为主': 900,\n",
       " '区域': 2350,\n",
       " '调整': 8691,\n",
       " '压力': 2521,\n",
       " '仍然': 1247,\n",
       " '突出': 7523,\n",
       " '再次': 1884,\n",
       " '大跌': 3521,\n",
       " '处于': 3328,\n",
       " '底部': 4379,\n",
       " '低位': 1406,\n",
       " '反复': 2602,\n",
       " '夯实': 3578,\n",
       " '蓝筹股': 8352,\n",
       " '承压': 4970,\n",
       " '后期': 2854,\n",
       " '需要': 9638,\n",
       " '接力': 5194,\n",
       " '走向': 8836,\n",
       " '今日': 1243,\n",
       " '要闻': 8480,\n",
       " '央行': 3576,\n",
       " '上海': 513,\n",
       " '总部': 4695,\n",
       " '债券': 1593,\n",
       " '北向': 2329,\n",
       " '境外': 3295,\n",
       " '投资者': 5010,\n",
       " '准入': 1953,\n",
       " '备案': 3343,\n",
       " '业务': 687,\n",
       " '指引': 5130,\n",
       " '我国': 4828,\n",
       " '信用': 1567,\n",
       " '法规': 6454,\n",
       " '标准': 6054,\n",
       " '研究': 7336,\n",
       " '加快': 2238,\n",
       " '推进': 5219,\n",
       " '房地产': 4868,\n",
       " '研究院': 7342,\n",
       " '房贷利率': 4873,\n",
       " '楼市': 6136,\n",
       " '报告': 5030,\n",
       " '许多': 8588,\n",
       " '城市': 3242,\n",
       " '个人': 766,\n",
       " '利率': 2130,\n",
       " '程度': 7485,\n",
       " '水污染': 6337,\n",
       " '修正案': 1575,\n",
       " '草案': 8275,\n",
       " '二审': 1059,\n",
       " '更大': 5770,\n",
       " '力度': 2209,\n",
       " '保护': 1538,\n",
       " '环境': 6935,\n",
       " '结算': 7836,\n",
       " '开展': 4438,\n",
       " '一人': 282,\n",
       " '多户': 3413,\n",
       " '通知': 9210,\n",
       " '启动': 2876,\n",
       " '同一': 2818,\n",
       " '以上': 1277,\n",
       " '账户': 8750,\n",
       " '文件': 5461,\n",
       " '要求': 8478,\n",
       " '23': 92,\n",
       " '日后': 5610,\n",
       " '交易日': 1133,\n",
       " '26': 97,\n",
       " '确认': 7359,\n",
       " '十三': 2370,\n",
       " '金融市场': 9387,\n",
       " '2000': 63,\n",
       " '万亿': 426,\n",
       " '宏观': 3805,\n",
       " '稳定': 7492,\n",
       " '双重': 2599,\n",
       " '因素': 3048,\n",
       " '鼓舞': 9989,\n",
       " '国际': 3122,\n",
       " '基金': 3274,\n",
       " '经理': 7811,\n",
       " '2017': 81,\n",
       " '下半年': 543,\n",
       " '股市': 8070,\n",
       " '有望': 5837,\n",
       " '十年': 2380,\n",
       " '增长': 3315,\n",
       " '创新': 2101,\n",
       " '驱动': 9869,\n",
       " '回顾': 3042,\n",
       " '早盘': 5647,\n",
       " '回落': 3038,\n",
       " '走势': 8835,\n",
       " '盘面': 7197,\n",
       " '300': 103,\n",
       " '盘中': 7196,\n",
       " '新高': 5555,\n",
       " '分化': 2039,\n",
       " '相当': 7236,\n",
       " '跌幅': 8888,\n",
       " '创业板': 2092,\n",
       " '400': 119,\n",
       " '品种': 2935,\n",
       " '计算': 8551,\n",
       " '涨停': 6593,\n",
       " '不足': 634,\n",
       " '亿元': 1224,\n",
       " '800': 168,\n",
       " '数据': 5441,\n",
       " '共有': 1816,\n",
       " '主力': 915,\n",
       " '流出': 6503,\n",
       " '一日': 345,\n",
       " '61': 146,\n",
       " '57': 139,\n",
       " '13': 39,\n",
       " '介入': 1245,\n",
       " '医药': 2367,\n",
       " '制造': 2159,\n",
       " '雄安': 9605,\n",
       " '新区': 5515,\n",
       " '更是': 5775,\n",
       " '高达': 9945,\n",
       " '技术': 4980,\n",
       " '临近': 896,\n",
       " '半个': 2395,\n",
       " '小时': 3995,\n",
       " '高位': 9900,\n",
       " '留下': 7114,\n",
       " '以来': 1288,\n",
       " '每次': 6259,\n",
       " '回调': 3039,\n",
       " '相对': 7234,\n",
       " '位置': 1403,\n",
       " '即使': 2502,\n",
       " '乏力': 986,\n",
       " '总体': 4672,\n",
       " '打破': 4923,\n",
       " '攻克': 5360,\n",
       " '当日': 4530,\n",
       " '上方': 508,\n",
       " '触及': 8532,\n",
       " '无疑': 5593,\n",
       " '心理': 4626,\n",
       " '负面影响': 8731,\n",
       " '分钟': 2066,\n",
       " '级别': 7741,\n",
       " '形成': 4543,\n",
       " '一旦': 346,\n",
       " '意味着': 4758,\n",
       " '如此': 3678,\n",
       " '引发': 4472,\n",
       " '综合': 7873,\n",
       " '处在': 3331,\n",
       " '区间': 2352,\n",
       " '脆弱': 8092,\n",
       " '心态': 4622,\n",
       " '碎片': 7361,\n",
       " '模糊': 6152,\n",
       " '热点': 6785,\n",
       " '赚钱': 8810,\n",
       " '效应': 5403,\n",
       " '以下': 1278,\n",
       " '首先': 9810,\n",
       " '长期': 9448,\n",
       " '人气': 1213,\n",
       " '最近': 5808,\n",
       " '一段时间': 364,\n",
       " '整体': 5451,\n",
       " '走高': 8847,\n",
       " '基础': 3269,\n",
       " '弹性': 4495,\n",
       " '制约': 2155,\n",
       " '绝对': 7846,\n",
       " '大面积': 3535,\n",
       " '与此同时': 641,\n",
       " '现在': 6949,\n",
       " '非常': 9664,\n",
       " '频繁': 9755,\n",
       " '今天': 1237,\n",
       " '明天': 5684,\n",
       " '就要': 4038,\n",
       " '打击': 4913,\n",
       " '积极性': 7472,\n",
       " '其次': 1847,\n",
       " '反弹': 2608,\n",
       " '重要': 9357,\n",
       " '拉升': 5060,\n",
       " '这种': 9087,\n",
       " '大涨': 3496,\n",
       " '似乎': 1398,\n",
       " '一直': 373,\n",
       " '吸引': 2884,\n",
       " '加码': 2250,\n",
       " '中小': 832,\n",
       " '面临': 9670,\n",
       " '强大': 4504,\n",
       " '午后': 2393,\n",
       " '复星': 3349,\n",
       " '收复': 5332,\n",
       " '投资': 5008,\n",
       " '建议': 4416,\n",
       " '始终': 3685,\n",
       " '缺乏': 7905,\n",
       " '支持': 5312,\n",
       " '背景': 8080,\n",
       " '后续': 2857,\n",
       " '跟上': 8893,\n",
       " '活跃': 6495,\n",
       " '降低': 9548,\n",
       " '配置': 9311,\n",
       " '加大': 2232,\n",
       " '促使': 1518,\n",
       " '能否': 8088,\n",
       " '真正': 7279,\n",
       " '观察': 8489,\n",
       " '基于': 3254,\n",
       " '组合': 7775,\n",
       " '因此': 3046,\n",
       " '股指': 8071,\n",
       " '下方': 549,\n",
       " '获得': 8296,\n",
       " '操作': 5302,\n",
       " '粤港澳': 7685,\n",
       " '大湾': 3498,\n",
       " '论坛': 8590,\n",
       " '腾讯': 8104,\n",
       " '人工智能': 1197,\n",
       " '百度': 7169,\n",
       " '举办': 943,\n",
       " 'ai': 190,\n",
       " '开发者': 4432,\n",
       " '大会': 3441,\n",
       " '亚马逊': 1115,\n",
       " '代表': 1272,\n",
       " '互联网': 1086,\n",
       " '巨头': 4177,\n",
       " '一致': 389,\n",
       " '看好': 7262,\n",
       " '发展': 2625,\n",
       " '产业': 1148,\n",
       " '叠加': 2703,\n",
       " '政策': 5392,\n",
       " '扶持': 4959,\n",
       " '一个月': 277,\n",
       " '三次': 478,\n",
       " '加之': 2225,\n",
       " '下周': 547,\n",
       " '月末': 5816,\n",
       " '值得': 1598,\n",
       " '做好': 1610,\n",
       " '应对': 4370,\n",
       " '月初': 5814,\n",
       " '为首': 908,\n",
       " '模式': 6148,\n",
       " '保持': 1541,\n",
       " '随着': 9587,\n",
       " '带来': 4251,\n",
       " '刷新': 2162,\n",
       " '高点': 9933,\n",
       " '降温': 9552,\n",
       " '加剧': 2230,\n",
       " '现象': 6958,\n",
       " '必须': 4634,\n",
       " '重视': 9360,\n",
       " '红利': 7728,\n",
       " '军工': 1893,\n",
       " '上周': 499,\n",
       " '王者': 6921,\n",
       " '荣耀': 8278,\n",
       " '类似': 7681,\n",
       " '来自': 5999,\n",
       " '比较': 6277,\n",
       " '敏感': 5409,\n",
       " '半年': 2400,\n",
       " '容易': 3914,\n",
       " '实际上': 3855,\n",
       " '美联储': 7971,\n",
       " '加息': 2239,\n",
       " '行为': 8384,\n",
       " '货币政策': 8752,\n",
       " '开启': 4433,\n",
       " '流行': 6510,\n",
       " '很难': 4583,\n",
       " '中性': 843,\n",
       " '常态': 4269,\n",
       " '基本面': 3267,\n",
       " '阶段': 9504,\n",
       " '一段': 363,\n",
       " '高速': 9947,\n",
       " '增速': 3313,\n",
       " '下滑': 554,\n",
       " '而是': 8013,\n",
       " '周期': 2905,\n",
       " '适度': 9167,\n",
       " '供给': 1490,\n",
       " '结构性': 7831,\n",
       " '改革': 5358,\n",
       " '决定': 1942,\n",
       " '运行': 9038,\n",
       " '之下': 958,\n",
       " '前期': 2179,\n",
       " '单纯': 2433,\n",
       " '依托': 1492,\n",
       " '能够': 8089,\n",
       " '担忧': 5055,\n",
       " '尤其': 4026,\n",
       " '越来越': 8871,\n",
       " '甚至': 7012,\n",
       " '排除': 5183,\n",
       " '选择': 9180,\n",
       " '伴随': 1397,\n",
       " '谨慎': 8713,\n",
       " '气氛': 6316,\n",
       " '对于': 3935,\n",
       " '梳理': 6114,\n",
       " '警惕': 8542,\n",
       " '兑现': 1685,\n",
       " '利润': 2127,\n",
       " '重新': 9350,\n",
       " '机会': 5931,\n",
       " '阻力': 9506,\n",
       " '密集': 3925,\n",
       " '及时': 2579,\n",
       " '毕竟': 6285,\n",
       " '通道': 9222,\n",
       " '扭转': 4955,\n",
       " '暂时': 5756,\n",
       " '持有': 5118,\n",
       " '主板': 931,\n",
       " '终于': 7792,\n",
       " '遗憾': 9253,\n",
       " '之际': 978,\n",
       " '结局': 7828,\n",
       " '周五': 2900,\n",
       " '怎样': 4660,\n",
       " '登记': 7152,\n",
       " '托管': 4932,\n",
       " '实施细则': 3844,\n",
       " '实施': 3842,\n",
       " '发改委': 2641,\n",
       " '抓紧': 4993,\n",
       " '制定': 2149,\n",
       " '出台': 1994,\n",
       " '价格': 1299,\n",
       " '监管': 7193,\n",
       " '规则': 8498,\n",
       " '社部': 7381,\n",
       " '月底': 5815,\n",
       " '基本': 3264,\n",
       " '实现': 3848,\n",
       " '跨省': 8901,\n",
       " '异地': 4468,\n",
       " '就医': 4033,\n",
       " '直接': 7217,\n",
       " '成品油': 4811,\n",
       " '年内': 4310,\n",
       " '下调': 559,\n",
       " '降幅': 9550,\n",
       " '元吨': 1641,\n",
       " '国防': 3119,\n",
       " '科工': 7438,\n",
       " '混改': 6627,\n",
       " '资产': 8792,\n",
       " '证券化': 8609,\n",
       " '进程': 9110,\n",
       " '广电总局': 4357,\n",
       " '微博': 4600,\n",
       " '网站': 7921,\n",
       " '关停': 1823,\n",
       " '视听': 8510,\n",
       " '节目': 8211,\n",
       " '欧美': 6182,\n",
       " '稳健': 7491,\n",
       " '国内': 3074,\n",
       " '形式': 4541,\n",
       " '整理': 5455,\n",
       " '1800': 56,\n",
       " '相比': 7240,\n",
       " '显得': 5720,\n",
       " '弱势': 4493,\n",
       " '转换': 8957,\n",
       " '随时': 9585,\n",
       " '第一': 7567,\n",
       " '第二': 7594,\n",
       " '实质性': 3852,\n",
       " '低开': 1407,\n",
       " '可能性': 2739,\n",
       " '防止': 9489,\n",
       " '极为': 6011,\n",
       " '过程': 9020,\n",
       " '确定': 7355,\n",
       " '将会': 3972,\n",
       " '愈发': 4755,\n",
       " '寻求': 3958,\n",
       " '不大': 592,\n",
       " '加上': 2224,\n",
       " '业绩': 690,\n",
       " '最好': 5798,\n",
       " '执行': 4944,\n",
       " '坚持': 3222,\n",
       " '一次': 358,\n",
       " '证明': 8612,\n",
       " '关注': 1829,\n",
       " '观点': 8494,\n",
       " '正确': 6200,\n",
       " '确实': 7356,\n",
       " '健康': 1624,\n",
       " '结果': 7833,\n",
       " '一点': 368,\n",
       " '还要': 9060,\n",
       " '武汉': 6228,\n",
       " '原来': 2539,\n",
       " '每天': 6252,\n",
       " '记得': 8576,\n",
       " '光谷': 1668,\n",
       " '一件': 284,\n",
       " '大事': 3438,\n",
       " '朋友圈': 5851,\n",
       " '广场': 4349,\n",
       " '大量': 3529,\n",
       " '被捕': 8437,\n",
       " '不够': 591,\n",
       " '这些': 9064,\n",
       " '不是': 615,\n",
       " '诈骗': 8626,\n",
       " '团伙': 3050,\n",
       " '接近': 5203,\n",
       " '犯罪团伙': 6886,\n",
       " '以为': 1279,\n",
       " '数字': 5437,\n",
       " '庞大': 4381,\n",
       " '还有': 9059,\n",
       " '震惊': 9639,\n",
       " '通报': 9207,\n",
       " '10': 9,\n",
       " '抓获': 4994,\n",
       " '嫌疑人': 3718,\n",
       " '而且': 8011,\n",
       " '令人': 1276,\n",
       " ...}"
      ]
     },
     "execution_count": 267,
     "metadata": {},
     "output_type": "execute_result"
    }
   ],
   "source": [
    "vectorizer.vocabulary_"
   ]
  },
  {
   "cell_type": "code",
   "execution_count": 269,
   "metadata": {},
   "outputs": [
    {
     "data": {
      "text/plain": [
       "array([0., 0., 0., ..., 0., 0., 0.])"
      ]
     },
     "execution_count": 269,
     "metadata": {},
     "output_type": "execute_result"
    }
   ],
   "source": [
    "X[0].toarray()[0]"
   ]
  },
  {
   "cell_type": "code",
   "execution_count": 271,
   "metadata": {},
   "outputs": [],
   "source": [
    "from pandas import np"
   ]
  },
  {
   "cell_type": "code",
   "execution_count": 272,
   "metadata": {},
   "outputs": [
    {
     "data": {
      "text/plain": [
       "(array([0, 0, 0, 0, 0, 0, 0, 0, 0, 0, 0, 0, 0, 0, 0, 0, 0, 0, 0, 0, 0, 0,\n",
       "        0, 0, 0, 0, 0, 0, 0, 0, 0, 0, 0, 0, 0]),\n",
       " array([  32,   46,  329,  937,  959, 1560, 1748, 1822, 1844, 2548, 2633,\n",
       "        2731, 4001, 4145, 4163, 4429, 4534, 4557, 4826, 4893, 5633, 5650,\n",
       "        5754, 5774, 5820, 5900, 6209, 6902, 7335, 7354, 7626, 7689, 9058,\n",
       "        9112, 9612]))"
      ]
     },
     "execution_count": 272,
     "metadata": {},
     "output_type": "execute_result"
    }
   ],
   "source": [
    "np.where(X[0].toarray())"
   ]
  },
  {
   "cell_type": "code",
   "execution_count": 274,
   "metadata": {},
   "outputs": [],
   "source": [
    "from scipy.spatial.distance import cosine"
   ]
  },
  {
   "cell_type": "code",
   "execution_count": 276,
   "metadata": {},
   "outputs": [],
   "source": [
    "def distance(v1, v2):\n",
    "    return cosine(v1, v2)"
   ]
  },
  {
   "cell_type": "code",
   "execution_count": 278,
   "metadata": {},
   "outputs": [
    {
     "data": {
      "text/plain": [
       "0.9329498987349365"
      ]
     },
     "execution_count": 278,
     "metadata": {},
     "output_type": "execute_result"
    }
   ],
   "source": [
    "distance(X[0].toarray(), X[1].toarray())"
   ]
  },
  {
   "cell_type": "markdown",
   "metadata": {},
   "source": [
    "## Build Search Engine"
   ]
  },
  {
   "cell_type": "code",
   "execution_count": 482,
   "metadata": {},
   "outputs": [],
   "source": [
    "transpose_x = X.transpose().toarray()"
   ]
  },
  {
   "cell_type": "code",
   "execution_count": 483,
   "metadata": {},
   "outputs": [
    {
     "data": {
      "text/plain": [
       "(10000, 89611)"
      ]
     },
     "execution_count": 483,
     "metadata": {},
     "output_type": "execute_result"
    }
   ],
   "source": [
    "transpose_x.shape"
   ]
  },
  {
   "cell_type": "code",
   "execution_count": 484,
   "metadata": {},
   "outputs": [
    {
     "data": {
      "text/plain": [
       "4001"
      ]
     },
     "execution_count": 484,
     "metadata": {},
     "output_type": "execute_result"
    }
   ],
   "source": [
    "vectorizer.vocabulary_[\"小米\"]"
   ]
  },
  {
   "cell_type": "code",
   "execution_count": 493,
   "metadata": {},
   "outputs": [
    {
     "data": {
      "text/plain": [
       "array([    0,     1,    91,   244,   249,   276,   440,   447,   465,\n",
       "         471,  1079,  1128,  1131,  1171,  1197,  1344,  1378,  1409,\n",
       "        2003,  2126,  2540,  3227,  3427,  3430,  3561,  3574,  3639,\n",
       "        4068,  4730,  4836,  5185,  5217,  5467,  5612,  5811,  5863,\n",
       "        5978,  6916,  7195,  7338,  7805,  7861,  7990,  8067, 10629,\n",
       "       10973, 13775, 13792, 15109, 19006, 20433, 21656, 27828, 28077,\n",
       "       35239, 37420, 37503, 41554, 41802, 42731, 43031, 45952, 49996,\n",
       "       49999, 50171, 50314, 50566, 50599, 50628, 52384, 52654, 55711,\n",
       "       55792, 56545, 56546, 56683, 57473, 58311, 60682, 63096, 63113,\n",
       "       66308, 66642, 66918, 67133, 69906, 70786, 71842, 71968, 71970,\n",
       "       74776, 77249, 77320, 77750, 79451, 81583, 81753])"
      ]
     },
     "execution_count": 493,
     "metadata": {},
     "output_type": "execute_result"
    }
   ],
   "source": [
    "np.where(transpose_x[4001])[0]"
   ]
  },
  {
   "cell_type": "code",
   "execution_count": 451,
   "metadata": {},
   "outputs": [
    {
     "data": {
      "text/plain": [
       "(array([4001, 4893]),)"
      ]
     },
     "execution_count": 451,
     "metadata": {},
     "output_type": "execute_result"
    }
   ],
   "source": [
    "np.where(vectorizer.transform([\"手机 小米\"]).toarray()[0])"
   ]
  },
  {
   "cell_type": "code",
   "execution_count": 488,
   "metadata": {},
   "outputs": [],
   "source": [
    "from operator import and_\n",
    "from functools import reduce"
   ]
  },
  {
   "cell_type": "code",
   "execution_count": 491,
   "metadata": {},
   "outputs": [
    {
     "data": {
      "text/plain": [
       "{1}"
      ]
     },
     "execution_count": 491,
     "metadata": {},
     "output_type": "execute_result"
    }
   ],
   "source": [
    "reduce(and_, [{1,2,3}, {1,5,6}])"
   ]
  },
  {
   "cell_type": "code",
   "execution_count": 557,
   "metadata": {},
   "outputs": [],
   "source": [
    "def simple_searcher(words):\n",
    "    key_words = words.split()\n",
    "    \n",
    "    query_vec = vectorizer.transform([' '.join(key for key in key_words)]).toarray()[0]\n",
    "    \n",
    "    document_id = [\n",
    "        set(np.where(transpose_x[_id])[0]) for _id in np.where(query_vec)[0]\n",
    "    ]\n",
    "\n",
    "    target_id = reduce(and_, document_id)\n",
    "    \n",
    "    target_id = sorted(target_id, key=lambda x: distance(query_vec, X[x].toarray()))\n",
    "    \n",
    "    return target_id"
   ]
  },
  {
   "cell_type": "code",
   "execution_count": 558,
   "metadata": {},
   "outputs": [
    {
     "data": {
      "text/plain": [
       "[52384,\n",
       " 471,\n",
       " 5978,\n",
       " 1344,\n",
       " 1378,\n",
       " 71842,\n",
       " 69906,\n",
       " 50628,\n",
       " 70786,\n",
       " 56683,\n",
       " 49999,\n",
       " 440,\n",
       " 1409,\n",
       " 55711,\n",
       " 63096,\n",
       " 0,\n",
       " 63113,\n",
       " 2540,\n",
       " 37420,\n",
       " 91,\n",
       " 37503,\n",
       " 50599,\n",
       " 56545,\n",
       " 447,\n",
       " 58311,\n",
       " 3227,\n",
       " 10629,\n",
       " 276,\n",
       " 35239,\n",
       " 5185,\n",
       " 4836,\n",
       " 5811,\n",
       " 5612,\n",
       " 4730,\n",
       " 465,\n",
       " 66918,\n",
       " 3430,\n",
       " 8067,\n",
       " 55792,\n",
       " 7805]"
      ]
     },
     "execution_count": 558,
     "metadata": {},
     "output_type": "execute_result"
    }
   ],
   "source": [
    "simple_searcher(\"手机 小米\")"
   ]
  },
  {
   "cell_type": "code",
   "execution_count": 560,
   "metadata": {},
   "outputs": [
    {
     "data": {
      "text/plain": [
       "'\\u3000\\u3000新华社北京５月６日电特写：通民心\\u3000天涯近咫尺——“一带一路”加速小米“通商”路\\\\n\\u3000\\u3000新华社记者邹多为\\u3000刘海燕\\\\n\\u3000\\u3000“我已经从资深‘米粉’变成‘米工’了！”２８岁的俄罗斯小伙儿德罗兹多夫·叶夫根尼美滋滋地说，“小米的产品在俄罗斯越来越受欢迎。”\\\\n\\u3000\\u3000“每到节日我们店都得多备货，因为小米已成为迪拜很多‘米粉’节日送礼的第一选择。”迪拜阿尔瓦斯尔小米专营店销售顾问穆罕默德·里亚兹不仅自己使用小米手机，身边很多人也在他的影响下成为“米粉”。\\\\n\\u3000\\u3000“电池很耐用，在睡觉关机的情况下，平均３天充一次电就行了。”去年年底购入红米３Ｓ手机的波兰青年奥斯卡·格鲁什琴斯基希望小米尽快提高在波兰的知名度，这样自己的手机更新换代和售后服务就能更完善了。\\\\n\\u3000\\u3000“米粉”是对小米科技公司产品忠实拥趸的网络热称。近年来，随着小米国际化步伐的展开，海外“米粉”群体不断壮大。在小米产品已经进入的２０多个国家里，越来越多的人开始知道中国品牌小米，使用小米产品，甚至成为“米粉”。\\\\n\\u3000\\u3000“一带一路”倡议成为小米国际化步伐的加速器。由于“一带一路”沿线国家的消费者偏好与小米的产品和技术乃至商业模式比较契合，小米的国际化迎来大发展。\\\\n\\u3000\\u3000“无论对于企业还是海外消费者，‘一带一路’离我们都非常近，”小米董事长雷军接受新华社记者采访时说，“中国企业征战全球最有力的武器，不是低成本，而是有技术、有设计、体验好的高性价比。产品打动人心，距离就不成问题了。”\\\\n\\u3000\\u3000刚刚携３款智能手机在俄罗斯进行官方首秀的小米公司高级副总裁王翔不禁发出感慨：“我们已经感受到海外‘米粉’的巨大支持。”\\\\n\\u3000\\u3000作为资深“米粉”的叶夫根尼６年前在朋友推荐下开始尝试小米交互系统ＭＩＵＩ，从此便爱上了这个系统，还慢慢变成了“米粉”。\\\\n\\u3000\\u3000叶夫根尼当年就自发创立ＭＩＵＩ俄罗斯粉丝论坛，一年后该论坛成为小米俄罗斯官方的ＭＩＵＩ粉丝站。目前，论坛已有１１万注册粉丝，每日浏览量达７万人次。\\\\n\\u3000\\u3000“我虽然没有去过中国，但用了中国产品后，我感觉中国离我很近。”如今已是小米俄罗斯分销伙伴ＲＤＣ正式员工的叶夫根尼看着电脑屏幕上打开的小米论坛网站说。\\\\n\\u3000\\u3000随着企业国际化战线的不断延伸，如何有效对接海外需求，实现共同发展，成为“走出去”企业亮相新拓市场的第一张名片。\\\\n\\u3000\\u3000阿联酋是中东地区经济和金融中心。面对阿联酋多元化的消费者层次，小米积极调整营销战略，既推出性价比高的“千元机”，也主打黑科技感强的高端手机，并实现了线上线下联动销售，进驻阿联酋电信专营店和家乐福超市。\\\\n\\u3000\\u3000迪拜阿尔瓦斯尔小米专营店面积很大，橙红色ＭＩ字ＬＯＧＯ背景板格外醒目。专营店经理伊卜提萨姆·鲁巴娅指着陈列柜中的小米产品说，在迪拜市场上既有价格亲民的红米３，也有时尚高端的小米ＭＩＸ。阿联酋小米手机用户从学生到商务人士，群体逐渐扩大。“作为手机经销商，接触了中国产品，让我对中国制造很有信心。”\\\\n\\u3000\\u3000“一带一路”倡议希望通过与沿线各国加强对接合作，实现共同发展。小米则把自身发展融入国家倡议，将市场需求与产品设计结合、本土制造与当地销售结合，不仅提升品牌国际竞争力，更努力打造科技企业“走出去”的升级版。\\\\n\\u3000\\u3000今年２月，小米在印尼实现本地化生产。通过与３家印尼当地企业合作，小米满足了政策规定，成功获得在印尼销售４Ｇ手机的许可。“印尼制造”使小米实现了从单纯产品贸易向实业投资、技术转移、人员培训与生产合作转变。“这是更高层次的互利双赢。”雷军说。\\\\n\\u3000\\u3000回顾海外市场发展历程，小米也像很多“走出去”的科技企业一样，遭遇过种种挫折。雷军曾坦言：全球化急不得，一着急里面就全是坑。\\\\n\\u3000\\u3000因专利侵权而全面禁售、因认证失败而未能如期推出产品、因法律障碍而试水受阻，这些都是小米海外遭遇过的“坑”。\\\\n\\u3000\\u3000对此，雷军认为，中国科创企业“走出去”要“道”“术”并举，除了要注重生产、销售和市场，更要关注技术突破、领先和创新。\\\\n\\u3000\\u3000科技企业“走出去”首先要掌握技术的主动权。一方面要加快专利技术的研发和申请，同时自主研发要向核心技术方向渗透。另一方面，与世界巨头达成产权交叉授权也是科技企业快速走上国际舞台的有效途径。小米已与高通、微软等科技公司达成多项技术许可协议。“这是在一步一步跟世界游戏规则接轨。”雷军说。\\\\n\\u3000\\u3000尽管挑战不断，但走在“一带一路”沿线，小米并不孤单。一大批中国科技企业在完成国内布局的同时，也有国际布局的需求。科技企业“走出去”带着高新技术和先进生产力，是对前期传统产业“走出去”的有益补充，也有效对接了“一带一路”沿线市场的需求，两者结合，深耕市场的同时实现价值共享、互利共赢。（参与记者：李震、石中玉、安晓萌）（完）'"
      ]
     },
     "execution_count": 560,
     "metadata": {},
     "output_type": "execute_result"
    }
   ],
   "source": [
    "contents[52384]"
   ]
  },
  {
   "cell_type": "markdown",
   "metadata": {},
   "source": [
    "## PageRank"
   ]
  },
  {
   "cell_type": "code",
   "execution_count": 563,
   "metadata": {},
   "outputs": [],
   "source": [
    "import networkx as nx"
   ]
  },
  {
   "cell_type": "code",
   "execution_count": 566,
   "metadata": {},
   "outputs": [],
   "source": [
    "import random\n",
    "from string import ascii_uppercase"
   ]
  },
  {
   "cell_type": "code",
   "execution_count": 567,
   "metadata": {},
   "outputs": [
    {
     "data": {
      "text/plain": [
       "'ABCDEFGHIJKLMNOPQRSTUVWXYZ'"
      ]
     },
     "execution_count": 567,
     "metadata": {},
     "output_type": "execute_result"
    }
   ],
   "source": [
    "ascii_uppercase"
   ]
  },
  {
   "cell_type": "code",
   "execution_count": 600,
   "metadata": {},
   "outputs": [],
   "source": [
    "def generate_website():\n",
    "    site = ''.join(random.choice(ascii_uppercase) for i in range(random.randint(1, 10))) \\\n",
    "            + random.choice(['.com', '.cn'])\n",
    "    return site"
   ]
  },
  {
   "cell_type": "code",
   "execution_count": 602,
   "metadata": {},
   "outputs": [
    {
     "data": {
      "text/plain": [
       "'E.cn'"
      ]
     },
     "execution_count": 602,
     "metadata": {},
     "output_type": "execute_result"
    }
   ],
   "source": [
    "generate_website()"
   ]
  },
  {
   "cell_type": "code",
   "execution_count": 604,
   "metadata": {},
   "outputs": [],
   "source": [
    "websites = [generate_website() for _ in range(25)]"
   ]
  },
  {
   "cell_type": "code",
   "execution_count": 606,
   "metadata": {},
   "outputs": [
    {
     "data": {
      "text/plain": [
       "['P.com',\n",
       " 'DAHHANTWH.com',\n",
       " 'DQWO.cn',\n",
       " 'F.com',\n",
       " 'GPLIJ.cn',\n",
       " 'MNGRUMJLBX.cn',\n",
       " 'IZBYKUZI.cn',\n",
       " 'J.cn',\n",
       " 'TFEZXPWTUD.com',\n",
       " 'I.cn',\n",
       " 'FTLFVCOGJD.cn',\n",
       " 'YWTXW.cn',\n",
       " 'GQZIFIXG.cn',\n",
       " 'NYORF.com',\n",
       " 'KNBVEFKIQ.cn',\n",
       " 'APHY.com',\n",
       " 'ZHDNFKC.com',\n",
       " 'TCLXVMPIKW.cn',\n",
       " 'MUEARAEYJ.cn',\n",
       " 'JMUUXHI.com',\n",
       " 'KY.cn',\n",
       " 'UTJ.cn',\n",
       " 'ALFZIQTVSG.cn',\n",
       " 'NSFPHV.cn',\n",
       " 'X.cn']"
      ]
     },
     "execution_count": 606,
     "metadata": {},
     "output_type": "execute_result"
    }
   ],
   "source": [
    "websites"
   ]
  },
  {
   "cell_type": "code",
   "execution_count": 608,
   "metadata": {},
   "outputs": [
    {
     "data": {
      "text/plain": [
       "['TFEZXPWTUD.com',\n",
       " 'J.cn',\n",
       " 'F.com',\n",
       " 'DAHHANTWH.com',\n",
       " 'GQZIFIXG.cn',\n",
       " 'YWTXW.cn',\n",
       " 'MUEARAEYJ.cn',\n",
       " 'P.com',\n",
       " 'NSFPHV.cn',\n",
       " 'IZBYKUZI.cn']"
      ]
     },
     "execution_count": 608,
     "metadata": {},
     "output_type": "execute_result"
    }
   ],
   "source": [
    "random.sample(websites, 10)"
   ]
  },
  {
   "cell_type": "code",
   "execution_count": 610,
   "metadata": {},
   "outputs": [],
   "source": [
    "website_connection = {\n",
    "    websites[0]: random.sample(websites, 9),\n",
    "    websites[1]: random.sample(websites, 4),\n",
    "    websites[3]: random.sample(websites, 2),\n",
    "    websites[4]: random.sample(websites, 8),\n",
    "    websites[5]: random.sample(websites, 3),\n",
    "}"
   ]
  },
  {
   "cell_type": "code",
   "execution_count": 613,
   "metadata": {},
   "outputs": [],
   "source": [
    "website_network = nx.graph.Graph(website_connection)"
   ]
  },
  {
   "cell_type": "code",
   "execution_count": 615,
   "metadata": {},
   "outputs": [
    {
     "data": {
      "image/png": "[encoded data removed]",
      "text/plain": [
       "<Figure size 864x864 with 1 Axes>"
      ]
     },
     "metadata": {
      "needs_background": "light"
     },
     "output_type": "display_data"
    }
   ],
   "source": [
    "plt.figure(3,figsize=(12,12))\n",
    "nx.draw_networkx(website_network, font_size=10)"
   ]
  },
  {
   "cell_type": "code",
   "execution_count": 616,
   "metadata": {},
   "outputs": [
    {
     "data": {
      "text/plain": [
       "[('P.com', 0.17595101279528236),\n",
       " ('GPLIJ.cn', 0.14668457208918742),\n",
       " ('DAHHANTWH.com', 0.0802764466934757),\n",
       " ('F.com', 0.06276778639062316),\n",
       " ('MNGRUMJLBX.cn', 0.06138330161759792),\n",
       " ('APHY.com', 0.05876157996252837),\n",
       " ('UTJ.cn', 0.0575954946621136),\n",
       " ('MUEARAEYJ.cn', 0.0423435906025848),\n",
       " ('NSFPHV.cn', 0.0423435906025848),\n",
       " ('YWTXW.cn', 0.040536775956006285),\n",
       " ('I.cn', 0.040536775956006285),\n",
       " ('ALFZIQTVSG.cn', 0.040536775956006285),\n",
       " ('DQWO.cn', 0.026117435329350677),\n",
       " ('X.cn', 0.025392052039440647),\n",
       " ('GQZIFIXG.cn', 0.024951350028935906),\n",
       " ('TFEZXPWTUD.com', 0.024951350028935906),\n",
       " ('FTLFVCOGJD.cn', 0.024951350028935906),\n",
       " ('IZBYKUZI.cn', 0.023918759260403714)]"
      ]
     },
     "execution_count": 616,
     "metadata": {},
     "output_type": "execute_result"
    }
   ],
   "source": [
    "sorted(nx.pagerank(website_network).items(),key=lambda x: x[1], reverse=True)"
   ]
  }
 ],
 "metadata": {
  "kernelspec": {
   "display_name": "Python 3",
   "language": "python",
   "name": "python3"
  },
  "language_info": {
   "codemirror_mode": {
    "name": "ipython",
    "version": 3
   },
   "file_extension": ".py",
   "mimetype": "text/x-python",
   "name": "python",
   "nbconvert_exporter": "python",
   "pygments_lexer": "ipython3",
   "version": "3.7.1"
  }
 },
 "nbformat": 4,
 "nbformat_minor": 2
}
