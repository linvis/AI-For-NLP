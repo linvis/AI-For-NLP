{
 "cells": [
  {
   "cell_type": "markdown",
   "metadata": {},
   "source": [
    "## Homework"
   ]
  },
  {
   "cell_type": "markdown",
   "metadata": {},
   "source": [
    "### 1. Re-code the titanic machine learning\n",
    "see lecture-3/online/online.ipynb"
   ]
  },
  {
   "cell_type": "markdown",
   "metadata": {},
   "source": [
    "### 2. Answer following questions:"
   ]
  },
  {
   "cell_type": "markdown",
   "metadata": {},
   "source": [
    "1. Why we need machine learning methods instead of creating a complicated formula?\n",
    "\n",
    "Ans: 当拟合变得复杂后，通过机器学习，让机器帮助拟合可以极大提高效率\n",
    "\n",
    "2. Wha't's the disadvantages of the 1st Random Choosen methods in our course?\n",
    "\n",
    "Ans:  拟合的效率是随机的，而且一般来说，计算机的随机是伪随机，这意味着效率会降低\n",
    "\n",
    "3. Is the 2nd method supervised direction better than 1st one? What's the disadvantages of the 2nd supversied directin method?\n",
    "\n",
    "Ans:  理论上，是比1更好的，它降低了随机的复杂度，将复杂的随机转化为简单的随机，并由简单的随机确定拟合的方向\n",
    "\n",
    "弊端：它还是存在随机问题，对于direction，是没办法确定的\n",
    "\n",
    "4. Why do we use Derivative / Gredient to fit a target function?\n",
    "\n",
    "Ans: 消灭随机，提高效率\n",
    "\n",
    "5. In the words 'Gredient Descent', what's the Gredient and what's the Descent?\n",
    "\n",
    "Ans: Gredient-导数，Descent-下降步长\n",
    "\n",
    "6. What's the advantages of the 3rd gradient descent method compared to the previous methods?\n",
    "\n",
    "Ans: 方向在一开始就是确定的，没有随机的引入，高效\n",
    "\n",
    "7. Using the simple words to describe: What's the machine leanring.\n",
    "Ans:"
   ]
  }
 ],
 "metadata": {
  "kernelspec": {
   "display_name": "Python 3",
   "language": "python",
   "name": "python3"
  },
  "language_info": {
   "codemirror_mode": {
    "name": "ipython",
    "version": 3
   },
   "file_extension": ".py",
   "mimetype": "text/x-python",
   "name": "python",
   "nbconvert_exporter": "python",
   "pygments_lexer": "ipython3",
   "version": "3.7.2"
  }
 },
 "nbformat": 4,
 "nbformat_minor": 2
}
