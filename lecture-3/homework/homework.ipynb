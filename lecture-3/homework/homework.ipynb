{
 "cells": [
  {
   "cell_type": "markdown",
   "metadata": {},
   "source": [
    "## Homework"
   ]
  },
  {
   "cell_type": "markdown",
   "metadata": {},
   "source": [
    "### 1. Re-code the titanic machine learning\n",
    "see lecture-3/online/online.ipynb"
   ]
  },
  {
   "cell_type": "markdown",
   "metadata": {},
   "source": [
    "### 2. Answer following questions:"
   ]
  },
  {
   "cell_type": "markdown",
   "metadata": {},
   "source": [
    "*1. Why we need machine learning methods instead of creating a complicated formula?*\n",
    "\n",
    "Ans: 当拟合变得复杂后，通过机器学习，让机器帮助拟合可以极大提高效率\n",
    "\n",
    "*2. Wha't's the disadvantages of the 1st Random Choosen methods in our course?*\n",
    "\n",
    "Ans:  拟合的效率是随机的，而且一般来说，计算机的随机是伪随机，这意味着效率会降低\n",
    "\n",
    "*3. Is the 2nd method supervised direction better than 1st one? What's the disadvantages of the 2nd supversied directin method?*\n",
    "\n",
    "Ans:  理论上，是比1更好的，它降低了随机的复杂度，将复杂的随机转化为简单的随机，并由简单的随机确定拟合的方向\n",
    "\n",
    "弊端：它还是存在随机问题，对于direction，是没办法确定的\n",
    "\n",
    "*4. Why do we use Derivative / Gredient to fit a target function?*\n",
    "\n",
    "Ans: 消灭随机，提高效率\n",
    "\n",
    "*5. In the words 'Gredient Descent', what's the Gredient and what's the Descent?*\n",
    "\n",
    "Ans: Gredient-导数，Descent-下降步长\n",
    "\n",
    "*6. What's the advantages of the 3rd gradient descent method compared to the previous methods?*\n",
    "\n",
    "Ans: 方向在一开始就是确定的，没有随机的引入，高效简洁\n",
    "\n",
    "*7. Using the simple words to describe: What's the machine leanring.*\n",
    "\n",
    "Ans: 给定一组数据，机器自己拟合出符合数据分布的函数"
   ]
  },
  {
   "cell_type": "markdown",
   "metadata": {},
   "source": [
    "### 3. Finish the search problem"
   ]
  },
  {
   "cell_type": "markdown",
   "metadata": {},
   "source": [
    "see  lecture-3/homework/beijing-subway/search.py"
   ]
  },
  {
   "cell_type": "markdown",
   "metadata": {},
   "source": [
    "testing(baidu map had same result):\n",
    "\n",
    "print(\"----------less stations transfer-----------\")  \n",
    "print(navigation('霍营', '亮马桥', graph, len))  \n",
    "print(\"----------less distances-----------\")  \n",
    "print(navigation('霍营', '亮马桥', graph, less_distance))  \n",
    "print(\"----------less lines transfer-----------\")  \n",
    "print(navigation('霍营', '亮马桥', graph, less_lines))  \n",
    "print(\"----------less lines transfer and less distance-----------\")  \n",
    "print(navigation('霍营', '亮马桥', graph, less_lines, less_distance))  \n",
    "\n",
    "----------less stations transfer-----------  \n",
    "sum distance 20.197000000000003   \n",
    "sum lines (2, ['13号线', '10号线'])  \n",
    "['霍营', '立水桥', '北苑', '望京西', '芍药居', '太阳宫', '三元桥', '亮马桥']  \n",
    "----------less distances-----------  \n",
    "sum distance 19.316  \n",
    "sum lines (3, ['13号线', '5号线', '10号线'])    \n",
    "['霍营', '立水桥', '立水桥南', '北苑路北', '大屯路东', '惠新西街北口', '惠新西街南口', '芍药居', '太阳宫', '三元桥', '亮马桥']  \n",
    "----------less lines transfer-----------  \n",
    "sum distance 20.197000000000003  \n",
    "sum lines (2, ['13号线', '10号线'])  \n",
    "['霍营', '立水桥', '北苑', '望京西', '芍药居', '太阳宫', '三元桥', '亮马桥']  \n",
    "----------less lines transfer and less distance-----------  \n",
    "sum distance 20.197000000000003  \n",
    "sum lines (2, ['13号线', '10号线'])  \n",
    "['霍营', '立水桥', '北苑', '望京西', '芍药居', '太阳宫', '三元桥', '亮马桥']  "
   ]
  }
 ],
 "metadata": {
  "kernelspec": {
   "display_name": "Python 3",
   "language": "python",
   "name": "python3"
  },
  "language_info": {
   "codemirror_mode": {
    "name": "ipython",
    "version": 3
   },
   "file_extension": ".py",
   "mimetype": "text/x-python",
   "name": "python",
   "nbconvert_exporter": "python",
   "pygments_lexer": "ipython3",
   "version": "3.7.2"
  }
 },
 "nbformat": 4,
 "nbformat_minor": 2
}
