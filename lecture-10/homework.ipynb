{
 "cells": [
  {
   "cell_type": "code",
   "execution_count": 476,
   "metadata": {},
   "outputs": [],
   "source": [
    "import pandas as pd\n",
    "import re\n",
    "import jieba\n",
    "from sklearn.feature_extraction.text import TfidfVectorizer\n",
    "import numpy as np\n",
    "from sklearn.model_selection import train_test_split\n",
    "from sklearn.metrics import precision_score\n",
    "from sklearn.metrics import recall_score\n",
    "from sklearn.metrics import roc_auc_score\n",
    "from sklearn.metrics.pairwise import cosine_similarity\n",
    "from sklearn.decomposition import PCA"
   ]
  },
  {
   "cell_type": "code",
   "execution_count": 477,
   "metadata": {},
   "outputs": [],
   "source": [
    "news = pd.read_csv('sqlResult_1558435.csv', encoding='gb18030')"
   ]
  },
  {
   "cell_type": "code",
   "execution_count": 478,
   "metadata": {},
   "outputs": [
    {
     "data": {
      "text/html": [
       "<div>\n",
       "<style scoped>\n",
       "    .dataframe tbody tr th:only-of-type {\n",
       "        vertical-align: middle;\n",
       "    }\n",
       "\n",
       "    .dataframe tbody tr th {\n",
       "        vertical-align: top;\n",
       "    }\n",
       "\n",
       "    .dataframe thead th {\n",
       "        text-align: right;\n",
       "    }\n",
       "</style>\n",
       "<table border=\"1\" class=\"dataframe\">\n",
       "  <thead>\n",
       "    <tr style=\"text-align: right;\">\n",
       "      <th></th>\n",
       "      <th>id</th>\n",
       "      <th>author</th>\n",
       "      <th>source</th>\n",
       "      <th>content</th>\n",
       "      <th>feature</th>\n",
       "      <th>title</th>\n",
       "      <th>url</th>\n",
       "    </tr>\n",
       "  </thead>\n",
       "  <tbody>\n",
       "    <tr>\n",
       "      <th>0</th>\n",
       "      <td>89617</td>\n",
       "      <td>NaN</td>\n",
       "      <td>快科技@http://www.kkj.cn/</td>\n",
       "      <td>此外，自本周（6月12日）起，除小米手机6等15款机型外，其余机型已暂停更新发布（含开发版/...</td>\n",
       "      <td>{\"type\":\"科技\",\"site\":\"cnbeta\",\"commentNum\":\"37\"...</td>\n",
       "      <td>小米MIUI 9首批机型曝光：共计15款</td>\n",
       "      <td>http://www.cnbeta.com/articles/tech/623597.htm</td>\n",
       "    </tr>\n",
       "    <tr>\n",
       "      <th>1</th>\n",
       "      <td>89616</td>\n",
       "      <td>NaN</td>\n",
       "      <td>快科技@http://www.kkj.cn/</td>\n",
       "      <td>骁龙835作为唯一通过Windows 10桌面平台认证的ARM处理器，高通强调，不会因为只考...</td>\n",
       "      <td>{\"type\":\"科技\",\"site\":\"cnbeta\",\"commentNum\":\"15\"...</td>\n",
       "      <td>骁龙835在Windows 10上的性能表现有望改善</td>\n",
       "      <td>http://www.cnbeta.com/articles/tech/623599.htm</td>\n",
       "    </tr>\n",
       "    <tr>\n",
       "      <th>2</th>\n",
       "      <td>89615</td>\n",
       "      <td>NaN</td>\n",
       "      <td>快科技@http://www.kkj.cn/</td>\n",
       "      <td>此前的一加3T搭载的是3400mAh电池，DashCharge快充规格为5V/4A。\\r\\n...</td>\n",
       "      <td>{\"type\":\"科技\",\"site\":\"cnbeta\",\"commentNum\":\"18\"...</td>\n",
       "      <td>一加手机5细节曝光：3300mAh、充半小时用1天</td>\n",
       "      <td>http://www.cnbeta.com/articles/tech/623601.htm</td>\n",
       "    </tr>\n",
       "    <tr>\n",
       "      <th>3</th>\n",
       "      <td>89614</td>\n",
       "      <td>NaN</td>\n",
       "      <td>新华社</td>\n",
       "      <td>这是6月18日在葡萄牙中部大佩德罗冈地区拍摄的被森林大火烧毁的汽车。新华社记者张立云摄\\r\\n</td>\n",
       "      <td>{\"type\":\"国际新闻\",\"site\":\"环球\",\"commentNum\":\"0\",\"j...</td>\n",
       "      <td>葡森林火灾造成至少62人死亡 政府宣布进入紧急状态（组图）</td>\n",
       "      <td>http://world.huanqiu.com/hot/2017-06/10866126....</td>\n",
       "    </tr>\n",
       "    <tr>\n",
       "      <th>4</th>\n",
       "      <td>89613</td>\n",
       "      <td>胡淑丽_MN7479</td>\n",
       "      <td>深圳大件事</td>\n",
       "      <td>（原标题：44岁女子跑深圳约会网友被拒，暴雨中裸身奔走……）\\r\\n@深圳交警微博称：昨日清...</td>\n",
       "      <td>{\"type\":\"新闻\",\"site\":\"网易热门\",\"commentNum\":\"978\",...</td>\n",
       "      <td>44岁女子约网友被拒暴雨中裸奔 交警为其披衣相随</td>\n",
       "      <td>http://news.163.com/17/0618/00/CN617P3Q0001875...</td>\n",
       "    </tr>\n",
       "  </tbody>\n",
       "</table>\n",
       "</div>"
      ],
      "text/plain": [
       "      id      author                  source  \\\n",
       "0  89617         NaN  快科技@http://www.kkj.cn/   \n",
       "1  89616         NaN  快科技@http://www.kkj.cn/   \n",
       "2  89615         NaN  快科技@http://www.kkj.cn/   \n",
       "3  89614         NaN                     新华社   \n",
       "4  89613  胡淑丽_MN7479                   深圳大件事   \n",
       "\n",
       "                                             content  \\\n",
       "0  此外，自本周（6月12日）起，除小米手机6等15款机型外，其余机型已暂停更新发布（含开发版/...   \n",
       "1  骁龙835作为唯一通过Windows 10桌面平台认证的ARM处理器，高通强调，不会因为只考...   \n",
       "2  此前的一加3T搭载的是3400mAh电池，DashCharge快充规格为5V/4A。\\r\\n...   \n",
       "3    这是6月18日在葡萄牙中部大佩德罗冈地区拍摄的被森林大火烧毁的汽车。新华社记者张立云摄\\r\\n   \n",
       "4  （原标题：44岁女子跑深圳约会网友被拒，暴雨中裸身奔走……）\\r\\n@深圳交警微博称：昨日清...   \n",
       "\n",
       "                                             feature  \\\n",
       "0  {\"type\":\"科技\",\"site\":\"cnbeta\",\"commentNum\":\"37\"...   \n",
       "1  {\"type\":\"科技\",\"site\":\"cnbeta\",\"commentNum\":\"15\"...   \n",
       "2  {\"type\":\"科技\",\"site\":\"cnbeta\",\"commentNum\":\"18\"...   \n",
       "3  {\"type\":\"国际新闻\",\"site\":\"环球\",\"commentNum\":\"0\",\"j...   \n",
       "4  {\"type\":\"新闻\",\"site\":\"网易热门\",\"commentNum\":\"978\",...   \n",
       "\n",
       "                           title  \\\n",
       "0           小米MIUI 9首批机型曝光：共计15款   \n",
       "1     骁龙835在Windows 10上的性能表现有望改善   \n",
       "2      一加手机5细节曝光：3300mAh、充半小时用1天   \n",
       "3  葡森林火灾造成至少62人死亡 政府宣布进入紧急状态（组图）   \n",
       "4       44岁女子约网友被拒暴雨中裸奔 交警为其披衣相随   \n",
       "\n",
       "                                                 url  \n",
       "0     http://www.cnbeta.com/articles/tech/623597.htm  \n",
       "1     http://www.cnbeta.com/articles/tech/623599.htm  \n",
       "2     http://www.cnbeta.com/articles/tech/623601.htm  \n",
       "3  http://world.huanqiu.com/hot/2017-06/10866126....  \n",
       "4  http://news.163.com/17/0618/00/CN617P3Q0001875...  "
      ]
     },
     "execution_count": 478,
     "metadata": {},
     "output_type": "execute_result"
    }
   ],
   "source": [
    "news = news.dropna(subset=['content', 'source'])\n",
    "news[:5]"
   ]
  },
  {
   "cell_type": "code",
   "execution_count": 479,
   "metadata": {},
   "outputs": [],
   "source": [
    "news = news.sample(5000)"
   ]
  },
  {
   "cell_type": "code",
   "execution_count": 480,
   "metadata": {},
   "outputs": [
    {
     "data": {
      "text/html": [
       "<div>\n",
       "<style scoped>\n",
       "    .dataframe tbody tr th:only-of-type {\n",
       "        vertical-align: middle;\n",
       "    }\n",
       "\n",
       "    .dataframe tbody tr th {\n",
       "        vertical-align: top;\n",
       "    }\n",
       "\n",
       "    .dataframe thead th {\n",
       "        text-align: right;\n",
       "    }\n",
       "</style>\n",
       "<table border=\"1\" class=\"dataframe\">\n",
       "  <thead>\n",
       "    <tr style=\"text-align: right;\">\n",
       "      <th></th>\n",
       "      <th>id</th>\n",
       "      <th>author</th>\n",
       "      <th>source</th>\n",
       "      <th>content</th>\n",
       "      <th>feature</th>\n",
       "      <th>title</th>\n",
       "      <th>url</th>\n",
       "      <th>xinhua</th>\n",
       "    </tr>\n",
       "  </thead>\n",
       "  <tbody>\n",
       "    <tr>\n",
       "      <th>13411</th>\n",
       "      <td>76201</td>\n",
       "      <td>倪元锦</td>\n",
       "      <td>新华社</td>\n",
       "      <td>新华社北京４月３日电记者３日下午从北京市环保局获悉，３日１５时起北京市空气重污染黄色预警...</td>\n",
       "      <td>{\"type\":\"天气环保\",\"site\":\"新华社\",\"url\":\"http://home...</td>\n",
       "      <td>（新华简讯）京津冀空气污染加重　北京升级为“橙色预警”</td>\n",
       "      <td>http://home.xinhua-news.com/gdsdetailxhsnew/17...</td>\n",
       "      <td>1</td>\n",
       "    </tr>\n",
       "    <tr>\n",
       "      <th>76426</th>\n",
       "      <td>13186</td>\n",
       "      <td>zhanglixin</td>\n",
       "      <td>新华社</td>\n",
       "      <td>新华社台北5月26日电（记者章利新马玉洁）台湾女作家林奕含自杀案引发岛内各界挞伐“狼师”，呼...</td>\n",
       "      <td>{\"type\":\"政治法律\",\"site\":\"新华社\",\"url\":\"http://home...</td>\n",
       "      <td>（港澳台）增订“狼师条款”  台湾规定补习班实行实名制</td>\n",
       "      <td>http://home.xinhua-news.com/gdsdetailxhsnew/21...</td>\n",
       "      <td>1</td>\n",
       "    </tr>\n",
       "    <tr>\n",
       "      <th>75666</th>\n",
       "      <td>13946</td>\n",
       "      <td>美联</td>\n",
       "      <td>新华社</td>\n",
       "      <td>新华社照片，美联，2017年5月26日\\n（体育）（6）篮球——NBA东部决赛：骑士队获东部...</td>\n",
       "      <td>{\"type\":\"体育\",\"site\":\"新华社\",\"url\":\"http://home.x...</td>\n",
       "      <td>（体育）（6）篮球——NBA东部决赛：骑士队获东部冠军</td>\n",
       "      <td>http://home.xinhua-news.com/gdsdetailxhsnew/21...</td>\n",
       "      <td>1</td>\n",
       "    </tr>\n",
       "    <tr>\n",
       "      <th>9867</th>\n",
       "      <td>79750</td>\n",
       "      <td>周扬</td>\n",
       "      <td>环球时报</td>\n",
       "      <td>资料图\\r\\n　　【环球时报综合报道】“我从未向美国寻求帮助”，菲律宾总统杜特尔特11日否认...</td>\n",
       "      <td>{\"type\":\"军事\",\"site\":\"环球\",\"commentNum\":\"2\",\"joi...</td>\n",
       "      <td>美特种兵介入菲反恐战事 杜特尔特却否认求援</td>\n",
       "      <td>http://mil.huanqiu.com/world/2017-06/10821486....</td>\n",
       "      <td>0</td>\n",
       "    </tr>\n",
       "    <tr>\n",
       "      <th>4613</th>\n",
       "      <td>85004</td>\n",
       "      <td>NaN</td>\n",
       "      <td>中国新闻网</td>\n",
       "      <td>中新网南宁6月23日电(记者 林艳华)为深入实施高校招生阳光工程，进一步推动考试招生工作公开...</td>\n",
       "      <td>{\"type\":\"社会滚动供wifi\",\"site\":\"参考消息\",\"commentNum\"...</td>\n",
       "      <td>6月23日至24日广西考生可申请高考统考成绩复核</td>\n",
       "      <td>http://www.cankaoxiaoxi.com/society/rollwifi/2...</td>\n",
       "      <td>0</td>\n",
       "    </tr>\n",
       "  </tbody>\n",
       "</table>\n",
       "</div>"
      ],
      "text/plain": [
       "          id      author source  \\\n",
       "13411  76201         倪元锦    新华社   \n",
       "76426  13186  zhanglixin    新华社   \n",
       "75666  13946          美联    新华社   \n",
       "9867   79750          周扬   环球时报   \n",
       "4613   85004         NaN  中国新闻网   \n",
       "\n",
       "                                                 content  \\\n",
       "13411  　　新华社北京４月３日电记者３日下午从北京市环保局获悉，３日１５时起北京市空气重污染黄色预警...   \n",
       "76426  新华社台北5月26日电（记者章利新马玉洁）台湾女作家林奕含自杀案引发岛内各界挞伐“狼师”，呼...   \n",
       "75666  新华社照片，美联，2017年5月26日\\n（体育）（6）篮球——NBA东部决赛：骑士队获东部...   \n",
       "9867   资料图\\r\\n　　【环球时报综合报道】“我从未向美国寻求帮助”，菲律宾总统杜特尔特11日否认...   \n",
       "4613   中新网南宁6月23日电(记者 林艳华)为深入实施高校招生阳光工程，进一步推动考试招生工作公开...   \n",
       "\n",
       "                                                 feature  \\\n",
       "13411  {\"type\":\"天气环保\",\"site\":\"新华社\",\"url\":\"http://home...   \n",
       "76426  {\"type\":\"政治法律\",\"site\":\"新华社\",\"url\":\"http://home...   \n",
       "75666  {\"type\":\"体育\",\"site\":\"新华社\",\"url\":\"http://home.x...   \n",
       "9867   {\"type\":\"军事\",\"site\":\"环球\",\"commentNum\":\"2\",\"joi...   \n",
       "4613   {\"type\":\"社会滚动供wifi\",\"site\":\"参考消息\",\"commentNum\"...   \n",
       "\n",
       "                             title  \\\n",
       "13411  （新华简讯）京津冀空气污染加重　北京升级为“橙色预警”   \n",
       "76426  （港澳台）增订“狼师条款”  台湾规定补习班实行实名制   \n",
       "75666  （体育）（6）篮球——NBA东部决赛：骑士队获东部冠军   \n",
       "9867         美特种兵介入菲反恐战事 杜特尔特却否认求援   \n",
       "4613      6月23日至24日广西考生可申请高考统考成绩复核   \n",
       "\n",
       "                                                     url  xinhua  \n",
       "13411  http://home.xinhua-news.com/gdsdetailxhsnew/17...       1  \n",
       "76426  http://home.xinhua-news.com/gdsdetailxhsnew/21...       1  \n",
       "75666  http://home.xinhua-news.com/gdsdetailxhsnew/21...       1  \n",
       "9867   http://mil.huanqiu.com/world/2017-06/10821486....       0  \n",
       "4613   http://www.cankaoxiaoxi.com/society/rollwifi/2...       0  "
      ]
     },
     "execution_count": 480,
     "metadata": {},
     "output_type": "execute_result"
    }
   ],
   "source": [
    "news['xinhua'] = np.where(news['source'].str.contains('新华'), 1, 0)\n",
    "news[:5]"
   ]
  },
  {
   "cell_type": "code",
   "execution_count": 481,
   "metadata": {},
   "outputs": [],
   "source": [
    "y = news['xinhua'].tolist()\n",
    "y = np.array(y)"
   ]
  },
  {
   "cell_type": "code",
   "execution_count": 482,
   "metadata": {},
   "outputs": [
    {
     "data": {
      "text/plain": [
       "array([1, 1, 1, ..., 0, 1, 1])"
      ]
     },
     "execution_count": 482,
     "metadata": {},
     "output_type": "execute_result"
    }
   ],
   "source": [
    "np.where(news['source'].str.contains('新华'), 1, 0)"
   ]
  },
  {
   "cell_type": "code",
   "execution_count": 483,
   "metadata": {},
   "outputs": [
    {
     "data": {
      "text/plain": [
       "460"
      ]
     },
     "execution_count": 483,
     "metadata": {},
     "output_type": "execute_result"
    }
   ],
   "source": [
    "len(news[news['xinhua']==0])"
   ]
  },
  {
   "cell_type": "code",
   "execution_count": 484,
   "metadata": {},
   "outputs": [],
   "source": [
    "sample = news['content'].tolist()"
   ]
  },
  {
   "cell_type": "code",
   "execution_count": 485,
   "metadata": {},
   "outputs": [
    {
     "data": {
      "text/plain": [
       "'新华社 北京 ４ 月 ３ 日电 记者 ３ 日 下午 从 北京市 环保局 获悉 ３ 日 １ ５ 时起 北京市 空气 重 污染 黄色 预警 升级 为 橙色 预警 n 北京市 环保 监测中心 数据 显示 ４ 日 北京市 仍 受弱 气压 场 控制 风力 较弱 湿度 较大 回暖 明显 整体 大气 扩散 条件 不利 预计 空气质量 达到 ５ 级 重度 污染 ５ 日至 ７ 日 北京 受弱 东北 高压 影响 扩散 条件 改善 ７ 日 夜间 至 ８ 日受 较 强冷空气 影响 本次 污染 过程 结束 完'"
      ]
     },
     "execution_count": 485,
     "metadata": {},
     "output_type": "execute_result"
    }
   ],
   "source": [
    "a = ''.join(re.findall(re.compile('\\w|\\d'), sample[0]))\n",
    "b = ' '.join(jieba.cut(a))\n",
    "b"
   ]
  },
  {
   "cell_type": "code",
   "execution_count": 486,
   "metadata": {},
   "outputs": [],
   "source": [
    "def cut(content):\n",
    "    def remove_extra_char(content):\n",
    "        content =  [''.join(re.findall(re.compile('\\w|\\d'), con)) for con in content]\n",
    "        return content\n",
    "    \n",
    "    content = remove_extra_char(content)\n",
    "    \n",
    "    jieba.enable_parallel(4)\n",
    "    \n",
    "    return [' '.join(jieba.cut(con)) for con in content]"
   ]
  },
  {
   "cell_type": "code",
   "execution_count": 487,
   "metadata": {},
   "outputs": [
    {
     "data": {
      "text/plain": [
       "['新华社 北京 ４ 月 ３ 日电 记者 ３ 日 下午 从 北京市 环保局 获悉 ３ 日 １ ５ 时起 北京市 空气 重 污染 黄色 预警 升级 为 橙色 预警 n 北京市 环保 监测中心 数据 显示 ４ 日 北京市 仍 受弱 气压 场 控制 风力 较弱 湿度 较大 回暖 明显 整体 大气 扩散 条件 不利 预计 空气质量 达到 ５ 级 重度 污染 ５ 日至 ７ 日 北京 受弱 东北 高压 影响 扩散 条件 改善 ７ 日 夜间 至 ８ 日受 较 强冷空气 影响 本次 污染 过程 结束 完',\n",
       " '新华社 台北 5 月 26 日电 记者 章利新 马玉洁 台湾 女作家 林奕含 自杀 案 引发 岛内 各界 挞伐 狼师 呼吁 实施 补习班 老师 实名制 台 立法机构 26 日三读 修正 通过 补习 及 进修 教育 相关 规定 条文 增订 狼师 条款 规定 未来 补习班 负责人 与 员工 老师 执行 业务 或 对外 招生 时应 揭露 真实 姓名 n 新 通过 的 条文 规定 补习班 对外 进行 招生 书面 契约 广告 或 宣传 涉及 负责人 教职员工 姓名 时除 立案 名称 外 都 应 揭露 其 真实 姓名 n 条文 明确规定 短期 补习班 的 教职员工 若 有性 侵害 性骚扰 性 剥削 经 判刑 确定 或 通缉 在案 者 以及 有性 侵害 行为 或 情节 重大 的 性骚扰 性霸凌 损害 儿少 权益 行为 经 当地 教育 主管部门 查证 属实 者 应予 解聘 或 解雇 负责人 如果 有 涉及 性骚扰 性霸 凌性 侵害 等 情节 当地 教育 主管部门 应 废止 补习班 立案 n 条文 规定 补习班 聘雇 教职员工 前应 向 当地 教育 主管部门 查询 员工 有没有 性骚扰 等 记录 补习班 人员 知道 负责人 及 教职员工 对 学生 有性 侵害 等 行为 时除 依规 通报 外 也 应 通知 当地 教育 主管部门 若 补习班 未依 规定 通报 可处 负责人 新台币 5 万元 以上 25 万元 以下 罚款 并 按次 处罚 必要 时 并 令 其 停止 招生 或 废止 补习班 立案 n 根据 条文 外籍 教师 必须 缴交 所 持 护照 国家 的 行为 良好 证明 否则 不能 被 聘用 另外 台 卫生 福利 管理 部门 应 建立 曾犯 性骚扰 性 侵害 等 罪者 的 数据库 并 协助 各地 各级 教育 主管部门 办理 查询 n ２ ６ 岁 的 台湾 女作家 林奕含 不久前 自杀身亡 其 父母 发表声明 称 女儿 多年 前 曾 遭 补习班 老师 诱奸 造成 身心 创伤 事件 引发 台湾 社会 舆论哗然 各界 在 呼吁 严惩 狼师 的 同时 也 反思 补习班 管理 乱象 完',\n",
       " '新华社 照片 美联 2017 年 5 月 26 日 n 体育 6 篮球 NBA 东部 决赛 骑士队 获 东部 冠军 n5 月 25 日 骑士队 球员 凯文 乐福前 左 在 比赛 中 上篮 n 当日 在 20162017 赛季 NBA 季后赛 东部 决赛 第五场 比赛 中 克利夫兰 骑士队 客场 以 135 比 102 战胜 波士顿 凯尔特人 队 从而 以 4 比 1 的 总比分 夺得 东部 冠军 并 晋级 总决赛 n 新华社 美联',\n",
       " '资料 图 环球时报 综合 报道 我 从未 向 美国 寻求 帮助 菲律宾 总统 杜特 尔特 11 日 否认 他 了解 美军 在 菲律宾 军队 与 南部 城市 马拉维 的 极端主义 组织 的 战斗 中 提供援助 称 美国 特种兵 到达 前才 知道 此事 前一天 美国 驻 菲律宾 大使馆 和 菲律宾 军方 确认 美军 特种部队 为菲 军警 在 马拉维 的 反恐 作战 提供 了 后勤 和 技术支持 这次 美军 对菲 的 军事 支持 是 在 美菲 关系 交恶 和 紧张 数月 之后 发生 的 此前 由于 华盛顿 对菲 反毒 斗争 频频 指责 杜特 尔特 曾 数次 威胁 要 把 美军 赶 出 菲律宾 德国 新闻 电视台 11 日称 此次 美军 介入 帮助 菲 反恐 战争 标志 着 美菲 关系 的 转折 不过 中国社科院 东南亚 研究 中心 主任 许利平 11 日 接受 环球时报 记者 采访 时 认为 美军 在 反恐 作战 中 帮助 菲律宾 只是 美菲 同盟 框架 下 一次 正常 的 选择 并 没有 偏离 杜特 尔特 总体 的 外交政策 与此同时 更令 国际 社会 关注 的 是 大批 IS 等 外国 恐怖分子 被 发现 参与 马拉维 的 战事 尽管 菲 军方 声称 将 于 12 日 收复 马拉维 但 菲律宾 商报 称 人们 仍 担忧 伊斯兰 国 IS 等 极端 组织 正在 东南亚 获得 立足点 路透社 11 日称 杜特 尔特 在 接受 媒体 采访 时 表示 他 不 知道 美军 在 马拉维 的 反恐 战斗 中 提供 了 援助 杜特 尔特 当天 在 距 马拉维 约 100 公里 的 卡尔 加延 德奥 罗 举行 了 新闻 发布会 他称 从未 向 美国 提出 这样 的 要求 当 被 问及 何时 知道 美军 援助 时 他 表示 直到 美国 特种兵 到达 前才 知道 此 前一天 菲 军方 承认 美军 提供 了 技术 援助 但 未 参加 实战 而 美国 驻 菲律宾 大使馆 则 称 美军 是 应 菲律宾 政府 要求 才 介入 的 报道 称 是否是 亲 美的 菲 军方 越过 总统 向 美军 求援 目前 不得而知 美联社 称 在 菲律宾 政府军 9 日 对 马拉维 的 军事行动 中 该社 记者 拍摄 到 一架 美国 海军 P3 猎户座 巡逻机 在 马拉维 空中 盘旋 的 照片 这架 侦察机 飞行高度 比菲 军方 的 武装 直升机 高 它 引导 菲 武装 直升机 向 恐怖分子 阵地 发射 火箭弹 报道 称 美军 侦察机 为 菲律宾 部队 提供 情报侦察 从而 证实 美军 介入 菲律宾 的 反恐 作战 美军 向 菲律宾 部队 提供 的 只是 后勤 和 技术支持 而 不是 派遣 地面部队 华盛顿邮报 10 日 援引 美国 驻 菲律宾 大使馆 发言人 当天 的话 称应 菲律宾 政府 请求 美军 特种部队 正在 帮助 菲 武装部队 在 马拉维 进行 的 战斗 美国大使馆 10 日 的 声明 称 美国 是 菲律宾 一个 值得 自豪 的 盟友 我们 将 继续 与 菲律宾 一道 合作 应对 两国 所 共同 面临 的 和平 和 安全 威胁 包括 反恐 议题 美国有线电视新闻网 CNN 称 美国大使馆 和 五角大楼 官员 都 表示 由于 安全 原因 他们 无法 给出 美军 特种部队 对菲 支持 的 具体 细节 不过 五角大楼 称 美军 多年 来 一直 应 菲律宾 各届 政府 的 请求 在 菲 南部 提供 支持 和 帮助 在 任何 特定 时间 内 对 菲 提供 帮助 的 美军 人数 都 在 50 到 100 人 之间 菲律宾 星报 称 菲律宾 军方 发言人 帕迪拉 准将 10 日 证实 美军 介入 了 这场 战事 他 说 我们 没有 足够 的 侦察 装备 所以 请求 美军 提供 支持 在 被 问及 是否 违反 菲政府 不 允许 外国 军队 参与 该国 领土 上 战斗 的 禁令 时帕迪拉称 美军 的 帮助 属于 非战斗 援助 并 不 违反 禁令 根据 菲律宾 法律 和 政府 政策 禁止 外国 部队 直接参与 作战 菲 总统府 发言人 阿 贝拉 11 日 也 表示 反恐 不仅 是 菲律宾 和 美国 所 关注 的 也 是 世界 各国 共同 关注 的 事 菲律宾 曾 在 反恐 方面 帮助 了 其他 国家 那么 其他 国家 就 可以 帮助 菲律宾 除了 直接 派兵 帮助 菲律宾 反恐 战争 美国 还 帮助 菲律宾 打击 和 限制 极端分子 在 网上 发布 消息 CNN 称 在 菲律宾 与 效忠 IS 的 穆特 组织 等 恐怖组织 进行 的 战斗 在 地面 和 社交 媒体 上 同时 展开 报道 称 菲律宾 军方 10 日 呼吁 美国 脸书 网站 关闭 与 穆特 组织 有关 的 63 个 账户 对此 脸书 公司 发言人 没有 证实 是否 收到 菲律宾 的 请求 但 他 称 脸书 已经 删除 了 与 从事 恐怖活动 的 组织 或 人员 有关 的 任何 账户 或 支持 恐怖主义 的 帖子 环球时报 驻 菲律宾 德国 加拿大 特约记者 赵龙 青木 陶短房 环球时报 记者 郭孝伟 陈一',\n",
       " '中新网 南宁 6 月 23 日电 记者 林艳 华为 深入 实施 高校 招生 阳光工程 进一步 推动 考试 招生 工作 公开化 透明化 自觉 接受 社会 监督 今年 广西 继续 允许 考生 申请 成绩 复核 复核 主要 针对 统考 科目 的 成绩 复核 内容 为 考生 相关 信息 是否 正确 是否 考生 本人 答卷 是否 有漏 评小题 得分 是否 漏统 登 各小题 得分 合成 后 是否 与 提供 给 考生 的 成绩 一致 等 据介绍 考生 如需 申请 成绩 复核 可于 6 月 23 日至 6 月 24 日内 登录 广西 招生 考试院 官网 httpwwwgxeeacn 普通 高考 的 通知 公告 栏目 中 下载 并 填写 2017 年 高等学校 招生 全国 统一 考试成绩 复核 申请表 然后 持 第二代 居民身份证 普通 高考 准考证 到 本人 高考 报名 所在 县市 招生 考试院 招生办 指定 地点 或 高考 报名 站 申请 复核 逾期 不再 受理 广西 招生 考试院 将 于 6 月 27 日 1700 前 将 成绩 复核 结果 统一 反馈 给 各市 招生 考试院 招生办 各市 招生 考试院 招生办 将 复核 结果 通知 考生 通知 形式 由 各地 自行决定 若 考生 对 复核 结果 仍 有 异议 则 由 本人 于 6 月 28 日至 29 日 携 第二代 居民身份证 和 普通 高考 准考证 到 广西 招生 考试院 申请 仲裁 逾期 不再 受理 广西 招生 考试院 有关 负责人 表示 核分 并非 核卷 只 复核 是否 有漏 评漏 统分 以及 各道题 得分 相加 是否 正确 评分 细则 及其 执行 情况 不属 复核 内容 广西 网上 评卷 是 自动 分发 试卷 自动 统计 分数 的 对 每道题 是否 评阅 是否 统计 分数 有 严格 的 技术 控制 并 经过 多重 校验 以往 未 发现 有漏 评分 漏 统分 以及 分数 统计 错误 等 情况 完']"
      ]
     },
     "execution_count": 487,
     "metadata": {},
     "output_type": "execute_result"
    }
   ],
   "source": [
    "tokens = cut(sample)\n",
    "tokens[:5]"
   ]
  },
  {
   "cell_type": "code",
   "execution_count": 488,
   "metadata": {},
   "outputs": [],
   "source": [
    "with open('baidu_stop_word.txt', 'r') as f:\n",
    "    baidu_stop_words = f.read()\n",
    "baidu_stop_words = baidu_stop_words.split()"
   ]
  },
  {
   "cell_type": "code",
   "execution_count": 489,
   "metadata": {},
   "outputs": [
    {
     "name": "stderr",
     "output_type": "stream",
     "text": [
      "/anaconda3/lib/python3.7/site-packages/sklearn/feature_extraction/text.py:300: UserWarning: Your stop_words may be inconsistent with your preprocessing. Tokenizing the stop words generated tokens ['ain', 'aren', 'couldn', 'didn', 'doesn', 'don', 'hadn', 'hasn', 'haven', 'isn', 'll', 'mon', 'shouldn', 've', 'wasn', 'weren', 'won', 'wouldn'] not in stop_words.\n",
      "  'stop_words.' % sorted(inconsistent))\n"
     ]
    },
    {
     "data": {
      "text/plain": [
       "(5000, 69533)"
      ]
     },
     "execution_count": 489,
     "metadata": {},
     "output_type": "execute_result"
    }
   ],
   "source": [
    "vectorizer = TfidfVectorizer(stop_words = baidu_stop_words)\n",
    "X = vectorizer.fit_transform(tokens)\n",
    "X.shape"
   ]
  },
  {
   "cell_type": "code",
   "execution_count": 490,
   "metadata": {},
   "outputs": [],
   "source": [
    "#vectorizer.vocabulary_"
   ]
  },
  {
   "cell_type": "code",
   "execution_count": 491,
   "metadata": {},
   "outputs": [],
   "source": [
    "tf_idf_vector = X.toarray()"
   ]
  },
  {
   "cell_type": "code",
   "execution_count": 492,
   "metadata": {},
   "outputs": [
    {
     "data": {
      "text/plain": [
       "(5000, 69533)"
      ]
     },
     "execution_count": 492,
     "metadata": {},
     "output_type": "execute_result"
    }
   ],
   "source": [
    "tf_idf_vector.shape"
   ]
  },
  {
   "cell_type": "code",
   "execution_count": 493,
   "metadata": {},
   "outputs": [
    {
     "data": {
      "text/plain": [
       "62360"
      ]
     },
     "execution_count": 493,
     "metadata": {},
     "output_type": "execute_result"
    }
   ],
   "source": [
    "vectorizer.vocabulary_[\"这是\"]"
   ]
  },
  {
   "cell_type": "code",
   "execution_count": 494,
   "metadata": {},
   "outputs": [
    {
     "data": {
      "text/plain": [
       "(array([ 4850,  5054,  5663, 16076, 16101, 16595, 18457, 21179, 23529,\n",
       "        23831, 30478, 30750, 33193, 34890, 35688, 36223, 36310, 36768,\n",
       "        37499, 37629, 37662, 37926, 38259, 39417, 40159, 41740, 42748,\n",
       "        43209, 45457, 47554, 47556, 49269, 51288, 51291, 53282, 56911,\n",
       "        58850, 61692, 61696, 62038, 64064, 67334, 67336, 67513, 68489,\n",
       "        69188]),)"
      ]
     },
     "execution_count": 494,
     "metadata": {},
     "output_type": "execute_result"
    }
   ],
   "source": [
    "np.where(tf_idf_vector[0])"
   ]
  },
  {
   "cell_type": "code",
   "execution_count": 495,
   "metadata": {},
   "outputs": [
    {
     "data": {
      "text/plain": [
       "(5000, 100)"
      ]
     },
     "execution_count": 495,
     "metadata": {},
     "output_type": "execute_result"
    }
   ],
   "source": [
    "pca =  PCA(n_components = 100)\n",
    "#pca_train_x = tf_idf_vector - np.mean(tf_idf_vector)\n",
    "pca_train_x = pca.fit_transform(tf_idf_vector)\n",
    "pca_train_x.shape"
   ]
  },
  {
   "cell_type": "code",
   "execution_count": 496,
   "metadata": {},
   "outputs": [],
   "source": [
    "X_train, X_test, y_train, y_test = train_test_split(pca_train_x, y, test_size=0.33, random_state=42)"
   ]
  },
  {
   "cell_type": "code",
   "execution_count": 497,
   "metadata": {},
   "outputs": [],
   "source": [
    "def performance(y, y_hat):\n",
    "    print(\"precision: {}\".format(precision_score(y, y_hat)))\n",
    "    print(\"recall: {}\".format(recall_score(y, y_hat)))\n",
    "    print(\"roc_auc: {}\".format(roc_auc_score(y, y_hat)))"
   ]
  },
  {
   "cell_type": "code",
   "execution_count": 498,
   "metadata": {},
   "outputs": [],
   "source": [
    "class KNNCluster:\n",
    "    def __init__(self, train_x, train_y):\n",
    "        self.train_x = train_x\n",
    "        self.train_y = train_y\n",
    "        \n",
    "    def run(self, x):\n",
    "        x = x.reshape(1, -1)\n",
    "        idx = np.argmax(cosine_similarity(self.train_x, x))\n",
    "        return self.train_y[idx]\n",
    "    \n",
    "    def predict(self, test):\n",
    "        y_hat = []\n",
    "        for x in test:\n",
    "            y = self.run(x)\n",
    "            y_hat.append(y)\n",
    "        \n",
    "        return np.array(y_hat)\n",
    "    \n",
    "    def get_cos(self, v1, v2):\n",
    "        return cosine(v1, v2)"
   ]
  },
  {
   "cell_type": "code",
   "execution_count": 499,
   "metadata": {},
   "outputs": [],
   "source": [
    "knn = KNNCluster(X_train, y_train)"
   ]
  },
  {
   "cell_type": "code",
   "execution_count": 500,
   "metadata": {},
   "outputs": [],
   "source": [
    "knn_y_hat = knn.predict(X_test)"
   ]
  },
  {
   "cell_type": "code",
   "execution_count": 501,
   "metadata": {},
   "outputs": [
    {
     "name": "stdout",
     "output_type": "stream",
     "text": [
      "precision: 0.948959032907992\n",
      "recall: 0.942\n",
      "roc_auc: 0.7176666666666667\n"
     ]
    }
   ],
   "source": [
    "performance(y_test, knn_y_hat)"
   ]
  },
  {
   "cell_type": "code",
   "execution_count": 502,
   "metadata": {},
   "outputs": [],
   "source": [
    "from sklearn.neighbors import KNeighborsClassifier"
   ]
  },
  {
   "cell_type": "code",
   "execution_count": 503,
   "metadata": {},
   "outputs": [],
   "source": [
    "neigh = KNeighborsClassifier(n_neighbors=3)"
   ]
  },
  {
   "cell_type": "code",
   "execution_count": 504,
   "metadata": {},
   "outputs": [
    {
     "data": {
      "text/plain": [
       "KNeighborsClassifier(algorithm='auto', leaf_size=30, metric='minkowski',\n",
       "           metric_params=None, n_jobs=None, n_neighbors=3, p=2,\n",
       "           weights='uniform')"
      ]
     },
     "execution_count": 504,
     "metadata": {},
     "output_type": "execute_result"
    }
   ],
   "source": [
    "neigh.fit(X_train, y_train)"
   ]
  },
  {
   "cell_type": "code",
   "execution_count": 505,
   "metadata": {},
   "outputs": [],
   "source": [
    "sk_knn_y_hat = neigh.predict(X_test)"
   ]
  },
  {
   "cell_type": "code",
   "execution_count": 506,
   "metadata": {},
   "outputs": [
    {
     "name": "stdout",
     "output_type": "stream",
     "text": [
      "precision: 0.948959032907992\n",
      "recall: 0.942\n",
      "roc_auc: 0.7176666666666667\n"
     ]
    }
   ],
   "source": [
    "performance(y_test, sk_knn_y_hat)"
   ]
  },
  {
   "cell_type": "code",
   "execution_count": 43,
   "metadata": {},
   "outputs": [],
   "source": [
    "full_X_train, full_X_test, full_y_train, full_y_test = train_test_split(tf_idf_vector, y, test_size=0.33, random_state=42)"
   ]
  },
  {
   "cell_type": "markdown",
   "metadata": {},
   "source": [
    "## SVM"
   ]
  },
  {
   "cell_type": "code",
   "execution_count": 507,
   "metadata": {},
   "outputs": [],
   "source": [
    "from sklearn.svm import SVC"
   ]
  },
  {
   "cell_type": "code",
   "execution_count": 508,
   "metadata": {},
   "outputs": [],
   "source": [
    "clf = SVC(kernel = 'rbf')"
   ]
  },
  {
   "cell_type": "code",
   "execution_count": 509,
   "metadata": {},
   "outputs": [
    {
     "name": "stderr",
     "output_type": "stream",
     "text": [
      "/anaconda3/lib/python3.7/site-packages/sklearn/svm/base.py:196: FutureWarning: The default value of gamma will change from 'auto' to 'scale' in version 0.22 to account better for unscaled features. Set gamma explicitly to 'auto' or 'scale' to avoid this warning.\n",
      "  \"avoid this warning.\", FutureWarning)\n"
     ]
    },
    {
     "data": {
      "text/plain": [
       "SVC(C=1.0, cache_size=200, class_weight=None, coef0=0.0,\n",
       "  decision_function_shape='ovr', degree=3, gamma='auto_deprecated',\n",
       "  kernel='rbf', max_iter=-1, probability=False, random_state=None,\n",
       "  shrinking=True, tol=0.001, verbose=False)"
      ]
     },
     "execution_count": 509,
     "metadata": {},
     "output_type": "execute_result"
    }
   ],
   "source": [
    "clf.fit(X_train, y_train)"
   ]
  },
  {
   "cell_type": "code",
   "execution_count": 510,
   "metadata": {},
   "outputs": [],
   "source": [
    "svm_y_hat = clf.predict(X_test)"
   ]
  },
  {
   "cell_type": "code",
   "execution_count": 511,
   "metadata": {},
   "outputs": [
    {
     "name": "stdout",
     "output_type": "stream",
     "text": [
      "precision: 0.9090909090909091\n",
      "recall: 1.0\n",
      "roc_auc: 0.5\n"
     ]
    }
   ],
   "source": [
    "performance(y_test, svm_y_hat)"
   ]
  },
  {
   "cell_type": "markdown",
   "metadata": {},
   "source": [
    "## Bayes"
   ]
  },
  {
   "cell_type": "code",
   "execution_count": 512,
   "metadata": {},
   "outputs": [],
   "source": [
    "from sklearn.naive_bayes import GaussianNB"
   ]
  },
  {
   "cell_type": "code",
   "execution_count": 513,
   "metadata": {},
   "outputs": [],
   "source": [
    "clf = GaussianNB()"
   ]
  },
  {
   "cell_type": "code",
   "execution_count": 514,
   "metadata": {},
   "outputs": [
    {
     "data": {
      "text/plain": [
       "GaussianNB(priors=None, var_smoothing=1e-09)"
      ]
     },
     "execution_count": 514,
     "metadata": {},
     "output_type": "execute_result"
    }
   ],
   "source": [
    "clf.fit(X_train, y_train)"
   ]
  },
  {
   "cell_type": "code",
   "execution_count": 515,
   "metadata": {},
   "outputs": [],
   "source": [
    "bayes_y_hat = clf.predict(X_test)"
   ]
  },
  {
   "cell_type": "code",
   "execution_count": 516,
   "metadata": {},
   "outputs": [
    {
     "name": "stdout",
     "output_type": "stream",
     "text": [
      "precision: 0.9742319127849356\n",
      "recall: 0.6553333333333333\n",
      "roc_auc: 0.741\n"
     ]
    }
   ],
   "source": [
    "performance(y_test, bayes_y_hat)"
   ]
  },
  {
   "cell_type": "code",
   "execution_count": 517,
   "metadata": {},
   "outputs": [],
   "source": [
    "from scipy.stats import norm\n",
    "from sklearn import preprocessing"
   ]
  },
  {
   "cell_type": "code",
   "execution_count": 518,
   "metadata": {},
   "outputs": [],
   "source": [
    "classifier = set(y_train)"
   ]
  },
  {
   "cell_type": "code",
   "execution_count": 520,
   "metadata": {},
   "outputs": [],
   "source": [
    "class BayesClassifier:\n",
    "    def __init__(self, train_x, train_y):\n",
    "        self.train_x = train_x\n",
    "        self.train_y = train_y\n",
    "        \n",
    "        self.prepare()\n",
    "        \n",
    "    def prepare(self):\n",
    "        self.classifier = list(set(self.train_y))\n",
    "        \n",
    "        self.mean = [np.mean(self.train_x[self.train_y==cls, :], axis=0) for cls in self.classifier]\n",
    "        self.std = [np.std(self.train_x[self.train_y==cls, :], axis=0) for cls in self.classifier]\n",
    "        self.mean = np.array(self.mean)\n",
    "        self.std = np.array(self.std)\n",
    "    \n",
    "        self.p_classifier = [len(self.train_x[self.train_y==cls]) / len(self.train_x) for cls in self.classifier]\n",
    "        \n",
    "    def likehood(self, x, cls_idx):\n",
    "        mean = self.mean[cls_idx,:]\n",
    "        std = self.std[cls_idx,:]\n",
    "        p_cls = self.p_classifier[cls_idx]\n",
    "        \n",
    "        joint = -np.sum(np.log(np.sqrt(2 * np.pi) * std)) - \\\n",
    "                    np.sum(np.power(x - mean, 2) / (2 * np.power(std, 2)))\n",
    "\n",
    "        return joint + np.log(p_cls)\n",
    "    \n",
    "    def predict(self, test):\n",
    "        y_hat = []\n",
    "        \n",
    "        for vector in test: \n",
    "            p_y = [self.likehood(vector, i) for i in range(len(self.classifier))]\n",
    "        \n",
    "            y_hat.append(self.classifier[np.argmax(p_y)])\n",
    "                \n",
    "        return np.array(y_hat)"
   ]
  },
  {
   "cell_type": "code",
   "execution_count": 521,
   "metadata": {},
   "outputs": [],
   "source": [
    "bayes = BayesClassifier(X_train, y_train)"
   ]
  },
  {
   "cell_type": "code",
   "execution_count": 522,
   "metadata": {},
   "outputs": [
    {
     "data": {
      "text/plain": [
       "1009"
      ]
     },
     "execution_count": 522,
     "metadata": {},
     "output_type": "execute_result"
    }
   ],
   "source": [
    "bayes_y_hat = bayes.predict(X_test)\n",
    "sum(bayes_y_hat)"
   ]
  },
  {
   "cell_type": "code",
   "execution_count": 524,
   "metadata": {},
   "outputs": [
    {
     "name": "stdout",
     "output_type": "stream",
     "text": [
      "precision: 0.9742319127849356\n",
      "recall: 0.6553333333333333\n",
      "roc_auc: 0.741\n"
     ]
    }
   ],
   "source": [
    "performance(y_test, bayes_y_hat)"
   ]
  },
  {
   "cell_type": "markdown",
   "metadata": {},
   "source": [
    "## XGBoost"
   ]
  },
  {
   "cell_type": "code",
   "execution_count": 526,
   "metadata": {},
   "outputs": [],
   "source": [
    "import xgboost as xgb"
   ]
  },
  {
   "cell_type": "code",
   "execution_count": 560,
   "metadata": {},
   "outputs": [],
   "source": [
    "param_dist = {'objective':'binary:logistic', 'n_estimators':2}"
   ]
  },
  {
   "cell_type": "code",
   "execution_count": 566,
   "metadata": {},
   "outputs": [],
   "source": [
    "clf = xgb.XGBModel(**param_dist)"
   ]
  },
  {
   "cell_type": "code",
   "execution_count": 571,
   "metadata": {},
   "outputs": [
    {
     "data": {
      "text/plain": [
       "XGBModel(base_score=0.5, booster='gbtree', colsample_bylevel=1,\n",
       "     colsample_bynode=1, colsample_bytree=1, gamma=0,\n",
       "     importance_type='gain', learning_rate=0.1, max_delta_step=0,\n",
       "     max_depth=3, min_child_weight=1, missing=None, n_estimators=2,\n",
       "     n_jobs=1, nthread=None, objective='binary:logistic', random_state=0,\n",
       "     reg_alpha=0, reg_lambda=1, scale_pos_weight=1, seed=None, silent=None,\n",
       "     subsample=1, verbosity=1)"
      ]
     },
     "execution_count": 571,
     "metadata": {},
     "output_type": "execute_result"
    }
   ],
   "source": [
    "clf.fit(X_train, y_train,\n",
    "        eval_metric='auc')"
   ]
  },
  {
   "cell_type": "code",
   "execution_count": 616,
   "metadata": {},
   "outputs": [],
   "source": [
    "xgboost_y_hat = clf.predict(X_test)\n",
    "xgboost_y_hat = list(map(lambda y : int(y > 0.56), xgboost_y_hat))"
   ]
  },
  {
   "cell_type": "code",
   "execution_count": 615,
   "metadata": {},
   "outputs": [
    {
     "name": "stdout",
     "output_type": "stream",
     "text": [
      "precision: 0.9762470308788599\n",
      "recall: 0.822\n",
      "roc_auc: 0.8110000000000002\n"
     ]
    }
   ],
   "source": [
    "performance(y_test, xgboost_y_hat)"
   ]
  }
 ],
 "metadata": {
  "kernelspec": {
   "display_name": "Python 3",
   "language": "python",
   "name": "python3"
  },
  "language_info": {
   "codemirror_mode": {
    "name": "ipython",
    "version": 3
   },
   "file_extension": ".py",
   "mimetype": "text/x-python",
   "name": "python",
   "nbconvert_exporter": "python",
   "pygments_lexer": "ipython3",
   "version": "3.7.1"
  }
 },
 "nbformat": 4,
 "nbformat_minor": 2
}
