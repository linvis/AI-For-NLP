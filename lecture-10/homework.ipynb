{
 "cells": [
  {
   "cell_type": "code",
   "execution_count": 9,
   "metadata": {},
   "outputs": [],
   "source": [
    "import pandas as pd\n",
    "import re\n",
    "import jieba\n",
    "from sklearn.feature_extraction.text import TfidfVectorizer\n",
    "import numpy as np\n",
    "from sklearn.model_selection import train_test_split\n",
    "from sklearn.metrics import precision_score\n",
    "from sklearn.metrics import recall_score\n",
    "from sklearn.metrics import roc_auc_score\n",
    "from sklearn.metrics.pairwise import cosine_similarity\n",
    "from sklearn.decomposition import PCA"
   ]
  },
  {
   "cell_type": "code",
   "execution_count": 10,
   "metadata": {},
   "outputs": [],
   "source": [
    "news = pd.read_csv('sqlResult_1558435.csv', encoding='gb18030')"
   ]
  },
  {
   "cell_type": "code",
   "execution_count": 11,
   "metadata": {},
   "outputs": [
    {
     "data": {
      "text/html": [
       "<div>\n",
       "<style scoped>\n",
       "    .dataframe tbody tr th:only-of-type {\n",
       "        vertical-align: middle;\n",
       "    }\n",
       "\n",
       "    .dataframe tbody tr th {\n",
       "        vertical-align: top;\n",
       "    }\n",
       "\n",
       "    .dataframe thead th {\n",
       "        text-align: right;\n",
       "    }\n",
       "</style>\n",
       "<table border=\"1\" class=\"dataframe\">\n",
       "  <thead>\n",
       "    <tr style=\"text-align: right;\">\n",
       "      <th></th>\n",
       "      <th>id</th>\n",
       "      <th>author</th>\n",
       "      <th>source</th>\n",
       "      <th>content</th>\n",
       "      <th>feature</th>\n",
       "      <th>title</th>\n",
       "      <th>url</th>\n",
       "    </tr>\n",
       "  </thead>\n",
       "  <tbody>\n",
       "    <tr>\n",
       "      <th>0</th>\n",
       "      <td>89617</td>\n",
       "      <td>NaN</td>\n",
       "      <td>快科技@http://www.kkj.cn/</td>\n",
       "      <td>此外，自本周（6月12日）起，除小米手机6等15款机型外，其余机型已暂停更新发布（含开发版/...</td>\n",
       "      <td>{\"type\":\"科技\",\"site\":\"cnbeta\",\"commentNum\":\"37\"...</td>\n",
       "      <td>小米MIUI 9首批机型曝光：共计15款</td>\n",
       "      <td>http://www.cnbeta.com/articles/tech/623597.htm</td>\n",
       "    </tr>\n",
       "    <tr>\n",
       "      <th>1</th>\n",
       "      <td>89616</td>\n",
       "      <td>NaN</td>\n",
       "      <td>快科技@http://www.kkj.cn/</td>\n",
       "      <td>骁龙835作为唯一通过Windows 10桌面平台认证的ARM处理器，高通强调，不会因为只考...</td>\n",
       "      <td>{\"type\":\"科技\",\"site\":\"cnbeta\",\"commentNum\":\"15\"...</td>\n",
       "      <td>骁龙835在Windows 10上的性能表现有望改善</td>\n",
       "      <td>http://www.cnbeta.com/articles/tech/623599.htm</td>\n",
       "    </tr>\n",
       "    <tr>\n",
       "      <th>2</th>\n",
       "      <td>89615</td>\n",
       "      <td>NaN</td>\n",
       "      <td>快科技@http://www.kkj.cn/</td>\n",
       "      <td>此前的一加3T搭载的是3400mAh电池，DashCharge快充规格为5V/4A。\\r\\n...</td>\n",
       "      <td>{\"type\":\"科技\",\"site\":\"cnbeta\",\"commentNum\":\"18\"...</td>\n",
       "      <td>一加手机5细节曝光：3300mAh、充半小时用1天</td>\n",
       "      <td>http://www.cnbeta.com/articles/tech/623601.htm</td>\n",
       "    </tr>\n",
       "    <tr>\n",
       "      <th>3</th>\n",
       "      <td>89614</td>\n",
       "      <td>NaN</td>\n",
       "      <td>新华社</td>\n",
       "      <td>这是6月18日在葡萄牙中部大佩德罗冈地区拍摄的被森林大火烧毁的汽车。新华社记者张立云摄\\r\\n</td>\n",
       "      <td>{\"type\":\"国际新闻\",\"site\":\"环球\",\"commentNum\":\"0\",\"j...</td>\n",
       "      <td>葡森林火灾造成至少62人死亡 政府宣布进入紧急状态（组图）</td>\n",
       "      <td>http://world.huanqiu.com/hot/2017-06/10866126....</td>\n",
       "    </tr>\n",
       "    <tr>\n",
       "      <th>4</th>\n",
       "      <td>89613</td>\n",
       "      <td>胡淑丽_MN7479</td>\n",
       "      <td>深圳大件事</td>\n",
       "      <td>（原标题：44岁女子跑深圳约会网友被拒，暴雨中裸身奔走……）\\r\\n@深圳交警微博称：昨日清...</td>\n",
       "      <td>{\"type\":\"新闻\",\"site\":\"网易热门\",\"commentNum\":\"978\",...</td>\n",
       "      <td>44岁女子约网友被拒暴雨中裸奔 交警为其披衣相随</td>\n",
       "      <td>http://news.163.com/17/0618/00/CN617P3Q0001875...</td>\n",
       "    </tr>\n",
       "  </tbody>\n",
       "</table>\n",
       "</div>"
      ],
      "text/plain": [
       "      id      author                  source  \\\n",
       "0  89617         NaN  快科技@http://www.kkj.cn/   \n",
       "1  89616         NaN  快科技@http://www.kkj.cn/   \n",
       "2  89615         NaN  快科技@http://www.kkj.cn/   \n",
       "3  89614         NaN                     新华社   \n",
       "4  89613  胡淑丽_MN7479                   深圳大件事   \n",
       "\n",
       "                                             content  \\\n",
       "0  此外，自本周（6月12日）起，除小米手机6等15款机型外，其余机型已暂停更新发布（含开发版/...   \n",
       "1  骁龙835作为唯一通过Windows 10桌面平台认证的ARM处理器，高通强调，不会因为只考...   \n",
       "2  此前的一加3T搭载的是3400mAh电池，DashCharge快充规格为5V/4A。\\r\\n...   \n",
       "3    这是6月18日在葡萄牙中部大佩德罗冈地区拍摄的被森林大火烧毁的汽车。新华社记者张立云摄\\r\\n   \n",
       "4  （原标题：44岁女子跑深圳约会网友被拒，暴雨中裸身奔走……）\\r\\n@深圳交警微博称：昨日清...   \n",
       "\n",
       "                                             feature  \\\n",
       "0  {\"type\":\"科技\",\"site\":\"cnbeta\",\"commentNum\":\"37\"...   \n",
       "1  {\"type\":\"科技\",\"site\":\"cnbeta\",\"commentNum\":\"15\"...   \n",
       "2  {\"type\":\"科技\",\"site\":\"cnbeta\",\"commentNum\":\"18\"...   \n",
       "3  {\"type\":\"国际新闻\",\"site\":\"环球\",\"commentNum\":\"0\",\"j...   \n",
       "4  {\"type\":\"新闻\",\"site\":\"网易热门\",\"commentNum\":\"978\",...   \n",
       "\n",
       "                           title  \\\n",
       "0           小米MIUI 9首批机型曝光：共计15款   \n",
       "1     骁龙835在Windows 10上的性能表现有望改善   \n",
       "2      一加手机5细节曝光：3300mAh、充半小时用1天   \n",
       "3  葡森林火灾造成至少62人死亡 政府宣布进入紧急状态（组图）   \n",
       "4       44岁女子约网友被拒暴雨中裸奔 交警为其披衣相随   \n",
       "\n",
       "                                                 url  \n",
       "0     http://www.cnbeta.com/articles/tech/623597.htm  \n",
       "1     http://www.cnbeta.com/articles/tech/623599.htm  \n",
       "2     http://www.cnbeta.com/articles/tech/623601.htm  \n",
       "3  http://world.huanqiu.com/hot/2017-06/10866126....  \n",
       "4  http://news.163.com/17/0618/00/CN617P3Q0001875...  "
      ]
     },
     "execution_count": 11,
     "metadata": {},
     "output_type": "execute_result"
    }
   ],
   "source": [
    "news = news.dropna(subset=['content', 'source'])\n",
    "news[:5]"
   ]
  },
  {
   "cell_type": "code",
   "execution_count": 12,
   "metadata": {},
   "outputs": [],
   "source": [
    "news = news.sample(5000)"
   ]
  },
  {
   "cell_type": "code",
   "execution_count": 13,
   "metadata": {},
   "outputs": [
    {
     "data": {
      "text/html": [
       "<div>\n",
       "<style scoped>\n",
       "    .dataframe tbody tr th:only-of-type {\n",
       "        vertical-align: middle;\n",
       "    }\n",
       "\n",
       "    .dataframe tbody tr th {\n",
       "        vertical-align: top;\n",
       "    }\n",
       "\n",
       "    .dataframe thead th {\n",
       "        text-align: right;\n",
       "    }\n",
       "</style>\n",
       "<table border=\"1\" class=\"dataframe\">\n",
       "  <thead>\n",
       "    <tr style=\"text-align: right;\">\n",
       "      <th></th>\n",
       "      <th>id</th>\n",
       "      <th>author</th>\n",
       "      <th>source</th>\n",
       "      <th>content</th>\n",
       "      <th>feature</th>\n",
       "      <th>title</th>\n",
       "      <th>url</th>\n",
       "      <th>xinhua</th>\n",
       "    </tr>\n",
       "  </thead>\n",
       "  <tbody>\n",
       "    <tr>\n",
       "      <th>51233</th>\n",
       "      <td>38379</td>\n",
       "      <td>周咏缗</td>\n",
       "      <td>新华社</td>\n",
       "      <td>新华社图表，北京，2017年5月5日\\n图表：索马里霍乱疫情已造成618人死亡\\n新华社记者...</td>\n",
       "      <td>{\"type\":\"其它\",\"site\":\"新华社\",\"url\":\"http://home.x...</td>\n",
       "      <td>（图表）[国际]索马里霍乱疫情已造成618人死亡</td>\n",
       "      <td>http://home.xinhua-news.com/gdsdetailxhsnew/20...</td>\n",
       "      <td>1</td>\n",
       "    </tr>\n",
       "    <tr>\n",
       "      <th>59711</th>\n",
       "      <td>29901</td>\n",
       "      <td>王永卓</td>\n",
       "      <td>新华社</td>\n",
       "      <td>新华社图表，北京，2017年5月12日\\n图表：我国启动首个“文化和自然遗产日”\\n新华社记...</td>\n",
       "      <td>{\"type\":\"文化娱乐\",\"site\":\"新华社\",\"url\":\"http://home...</td>\n",
       "      <td>（图表）[文化和自然遗产日]我国启动首个“文化和自然遗产日”</td>\n",
       "      <td>http://home.xinhua-news.com/gdsdetailxhsnew/20...</td>\n",
       "      <td>1</td>\n",
       "    </tr>\n",
       "    <tr>\n",
       "      <th>72679</th>\n",
       "      <td>16933</td>\n",
       "      <td>李尕</td>\n",
       "      <td>新华社</td>\n",
       "      <td>新华社照片，益阳（湖南），2017年5月24日\\n校园T台上演最美校服秀\\n5月23日，模特...</td>\n",
       "      <td>{\"type\":\"文化娱乐\",\"site\":\"新华社\",\"url\":\"http://home...</td>\n",
       "      <td>（文化）（2）校园T台上演最美校服秀</td>\n",
       "      <td>http://home.xinhua-news.com/gdsdetailxhsnew/21...</td>\n",
       "      <td>1</td>\n",
       "    </tr>\n",
       "    <tr>\n",
       "      <th>14767</th>\n",
       "      <td>74845</td>\n",
       "      <td>JOHN MACDOUGALL</td>\n",
       "      <td>新华社</td>\n",
       "      <td>新华社照片，外代，2017年3月31日\\n（外代二线）花样滑冰——世锦赛双人滑：隋文静/韩聪...</td>\n",
       "      <td>{\"type\":\"体育\",\"site\":\"新华社\",\"url\":\"http://home.x...</td>\n",
       "      <td>[12]（外代二线）花样滑冰——世锦赛双人滑：隋文静/韩聪夺冠</td>\n",
       "      <td>http://home.xinhua-news.com/gdsdetailxhsnew/17...</td>\n",
       "      <td>1</td>\n",
       "    </tr>\n",
       "    <tr>\n",
       "      <th>69635</th>\n",
       "      <td>19977</td>\n",
       "      <td>张曼</td>\n",
       "      <td>新华社</td>\n",
       "      <td>新华社法国戛纳５月２０日电专访：中国艺术电影生存环境日益好转——访中国青年导演李睿珺\\n...</td>\n",
       "      <td>{\"type\":\"文化娱乐\",\"site\":\"新华社\",\"url\":\"http://home...</td>\n",
       "      <td>（文化）专访：中国艺术电影生存环境日益好转——访中国青年导演李睿珺</td>\n",
       "      <td>http://home.xinhua-news.com/gdsdetailxhsnew/21...</td>\n",
       "      <td>1</td>\n",
       "    </tr>\n",
       "  </tbody>\n",
       "</table>\n",
       "</div>"
      ],
      "text/plain": [
       "          id           author source  \\\n",
       "51233  38379              周咏缗    新华社   \n",
       "59711  29901              王永卓    新华社   \n",
       "72679  16933               李尕    新华社   \n",
       "14767  74845  JOHN MACDOUGALL    新华社   \n",
       "69635  19977               张曼    新华社   \n",
       "\n",
       "                                                 content  \\\n",
       "51233  新华社图表，北京，2017年5月5日\\n图表：索马里霍乱疫情已造成618人死亡\\n新华社记者...   \n",
       "59711  新华社图表，北京，2017年5月12日\\n图表：我国启动首个“文化和自然遗产日”\\n新华社记...   \n",
       "72679  新华社照片，益阳（湖南），2017年5月24日\\n校园T台上演最美校服秀\\n5月23日，模特...   \n",
       "14767  新华社照片，外代，2017年3月31日\\n（外代二线）花样滑冰——世锦赛双人滑：隋文静/韩聪...   \n",
       "69635  　　新华社法国戛纳５月２０日电专访：中国艺术电影生存环境日益好转——访中国青年导演李睿珺\\n...   \n",
       "\n",
       "                                                 feature  \\\n",
       "51233  {\"type\":\"其它\",\"site\":\"新华社\",\"url\":\"http://home.x...   \n",
       "59711  {\"type\":\"文化娱乐\",\"site\":\"新华社\",\"url\":\"http://home...   \n",
       "72679  {\"type\":\"文化娱乐\",\"site\":\"新华社\",\"url\":\"http://home...   \n",
       "14767  {\"type\":\"体育\",\"site\":\"新华社\",\"url\":\"http://home.x...   \n",
       "69635  {\"type\":\"文化娱乐\",\"site\":\"新华社\",\"url\":\"http://home...   \n",
       "\n",
       "                                   title  \\\n",
       "51233           （图表）[国际]索马里霍乱疫情已造成618人死亡   \n",
       "59711     （图表）[文化和自然遗产日]我国启动首个“文化和自然遗产日”   \n",
       "72679                 （文化）（2）校园T台上演最美校服秀   \n",
       "14767    [12]（外代二线）花样滑冰——世锦赛双人滑：隋文静/韩聪夺冠   \n",
       "69635  （文化）专访：中国艺术电影生存环境日益好转——访中国青年导演李睿珺   \n",
       "\n",
       "                                                     url  xinhua  \n",
       "51233  http://home.xinhua-news.com/gdsdetailxhsnew/20...       1  \n",
       "59711  http://home.xinhua-news.com/gdsdetailxhsnew/20...       1  \n",
       "72679  http://home.xinhua-news.com/gdsdetailxhsnew/21...       1  \n",
       "14767  http://home.xinhua-news.com/gdsdetailxhsnew/17...       1  \n",
       "69635  http://home.xinhua-news.com/gdsdetailxhsnew/21...       1  "
      ]
     },
     "execution_count": 13,
     "metadata": {},
     "output_type": "execute_result"
    }
   ],
   "source": [
    "news['xinhua'] = np.where(news['source'].str.contains('新华'), 1, 0)\n",
    "news[:5]"
   ]
  },
  {
   "cell_type": "code",
   "execution_count": 31,
   "metadata": {},
   "outputs": [],
   "source": [
    "y = news['xinhua'].tolist()\n",
    "y = np.array(y)"
   ]
  },
  {
   "cell_type": "code",
   "execution_count": 14,
   "metadata": {},
   "outputs": [
    {
     "data": {
      "text/plain": [
       "array([1, 1, 1, ..., 1, 1, 1])"
      ]
     },
     "execution_count": 14,
     "metadata": {},
     "output_type": "execute_result"
    }
   ],
   "source": [
    "np.where(news['source'].str.contains('新华'), 1, 0)"
   ]
  },
  {
   "cell_type": "code",
   "execution_count": 81,
   "metadata": {},
   "outputs": [
    {
     "data": {
      "text/plain": [
       "478"
      ]
     },
     "execution_count": 81,
     "metadata": {},
     "output_type": "execute_result"
    }
   ],
   "source": [
    "len(news[news['xinhua']==0])"
   ]
  },
  {
   "cell_type": "code",
   "execution_count": 16,
   "metadata": {},
   "outputs": [],
   "source": [
    "sample = news['content'].tolist()"
   ]
  },
  {
   "cell_type": "code",
   "execution_count": 17,
   "metadata": {},
   "outputs": [
    {
     "name": "stderr",
     "output_type": "stream",
     "text": [
      "Building prefix dict from the default dictionary ...\n",
      "Dumping model to file cache /var/folders/fv/1ndmyk4d1017_0c5l6w781240000gp/T/jieba.cache\n",
      "Loading model cost 0.978 seconds.\n",
      "Prefix dict has been built succesfully.\n"
     ]
    },
    {
     "data": {
      "text/plain": [
       "'新华社 图表 北京 2017 年 5 月 5 日 n 图表 索马里 霍乱 疫情 已 造成 618 人 死亡 n 新华社 记者 周咏 缗 编制 n'"
      ]
     },
     "execution_count": 17,
     "metadata": {},
     "output_type": "execute_result"
    }
   ],
   "source": [
    "a = ''.join(re.findall(re.compile('\\w|\\d'), sample[0]))\n",
    "b = ' '.join(jieba.cut(a))\n",
    "b"
   ]
  },
  {
   "cell_type": "code",
   "execution_count": 18,
   "metadata": {},
   "outputs": [],
   "source": [
    "def cut(content):\n",
    "    def remove_extra_char(content):\n",
    "        content =  [''.join(re.findall(re.compile('\\w|\\d'), con)) for con in content]\n",
    "        return content\n",
    "    \n",
    "    content = remove_extra_char(content)\n",
    "    \n",
    "    jieba.enable_parallel(4)\n",
    "    \n",
    "    return [' '.join(jieba.cut(con)) for con in content]"
   ]
  },
  {
   "cell_type": "code",
   "execution_count": 19,
   "metadata": {},
   "outputs": [
    {
     "data": {
      "text/plain": [
       "['新华社 图表 北京 2017 年 5 月 5 日 n 图表 索马里 霍乱 疫情 已 造成 618 人 死亡 n 新华社 记者 周咏 缗 编制 n',\n",
       " '新华社 图表 北京 2017 年 5 月 12 日 n 图表 我国 启动 首个 文化 和 自然遗产 日 n 新华社 记者 王永卓 编制',\n",
       " '新华社 照片 益阳 湖南 2017 年 5 月 24 日 n 校园 T台 上演 最美 校服 秀 n5 月 23 日 模特 在 展示 参赛 校服 设计 作品 n5 月 23 日 第二届 旭荣杯 最美 校服 设计 大赛 在 湖南 工艺美术 职业 学院 举行 由 学生 组成 的 模特 表演队 在 校园 T台 上 展示 19 个 系列 的 114 款 校服 这些 校服 大多 由 在校 师生 与 服装 企业 合作 设计 制作 是 校企 合作 职业 教育 模式 的 一次 成果 展示 n 新华社 记者 李尕摄',\n",
       " '新华社 照片 外代 2017 年 3 月 31 日 n 外代 二线 花样滑冰 世锦赛 双人滑 隋 文静 韩聪 夺冠 n3 月 30 日 中国 选手 隋 文静 左 韩聪 在 颁奖仪式 上 庆祝 n 当日 在 芬兰 赫尔辛基 举行 的 2017 年 花样滑冰 世锦赛 双人滑 比赛 决出 冠亚 季军 中国 选手 隋 文静 韩聪以 23206 分 的 总成绩 夺得 冠军 n 新华社 法新',\n",
       " '新华社 法国 戛纳 ５ 月 ２ ０ 日电 专访 中国 艺术 电影 生存环境 日益 好转 访 中国 青年 导演 李睿珺 n 新华社 记者 张曼 姜楠 n 中国 艺术 电影 生存环境 日益 好转 融资 和 发行 渠道 更加 畅通 给 了 年轻 导演 更 多 机会 中国 青年 导演 李睿珺 近日 在 第 ７ ０ 届 戛纳 电影节 期间 接受 新华社 记者 专访 时说 他 的 新作 路过 未来 入围 本届 戛纳 电影节 一种 关注 单元 n 李睿珺 从 ２ ０ ０ ６ 年 开始 导演 生涯 已经 数次 入围 重要 国际 电影节 ２ ０ １ ２ 年 其 作品 告诉 他们 我 乘 白鹤 去 了 入选 威尼斯 电影节 地平线 单元 ２ ０ １ ４ 年 其 作品 家 在 水草 丰茂 的 地方 入围 东京国际 电影节 主 竞赛 单元 路过 未来 是 他 的 第五部 作品 也 是 唯一 入围 本届 戛纳 电影节 的 华语 长片 n 路过 未来 聚焦 中国 第一代 农民工 及其 子女 的 生活 情感 ２ ０ 日 在 电影节 上 放映 后 获得 专家 和 观众 的 一致 好评 李睿珺 表示 对 自己 的 作品 能够 入选 戛纳 电影节 感到 十分 意外 和 荣幸 影片 既 是 探讨 中国 社会 问题 也 是 一个 关于 家庭 和 爱 的 故事 n 谈及 戛纳 电影节 主 竞赛 单元 华语 片 零 入围 李睿珺 认为 这 可能 是 艺术 电影 类型 导演 目前 处于 拍摄 和 制作 期 也 可能 是 随着 华语 电影 市场 日益 蓬勃发展 更 多 导演 转向 商业 电影 艺术 电影 从业者 流失 n 在 目前 中国 电影 市场 环境 下 李睿珺 把 商业片 和 艺术片 比作 杠铃 的 两头 和 中间 两头 大 中间 小 这 与 院线 发行 体系 和 整个 业态 环境 紧密 相关 n 在 他 看来 商业 电影 出发点 明确 创作 前会 了解 观众 期待 的 题材 流行 趋势 并 确定 目标 观众 及其 喜爱 的 明星 因此 商业 电影 是 一个 定制 的 概念 而 艺术 电影 的 拍摄 则 是 单纯 出于 创作 需求 我 拍电影 只是 单纯 想 拍 和 自我 表达 不会 提前 设定 目标 受众 n 李睿珺 认为 整体而言 中国 艺术 电影 生存环境 正在 往 良性 方向 发展 融资 和 发行 渠道 越来越 多 尤其 是 中国 艺术 电影 放映 联盟 的 成立 极大 改善 了 艺术 电影 的 生态环境 n 中国 艺术院 线 的 搭建 和 发展 是 一个 水到渠成 的 过程 他 认为 近十年 来 电影 观众 人数 增多 需求 多样化 市场 急需 细分 艺术 电影 放映 联盟 的 成立 有利于 培养 一批 艺术 电影 固定 观众 此外 对于 投资方 来说 艺术院 线 是 一个 回收 保障 的 渠道 意味着 年轻 导演 更 容易 获得 投资 n 谈到 自己 从事 艺术 电影 创作 十年 来 市场 环境 的 变化 李睿珺 说 十年 前 艺术 电影 的 投资 和 发行 相对 困难 在 创作 初期 只能 通过 各大 电影节 基金 创投 市场 基金 获得 部分 资金 还 得 不断 压缩 成本 且 影片 也 难以 发行 但 如今 院线 开始 给 艺术 电影 机会 良性 发展 也 给 年轻 导演 带来 更 多 投资 和 机会 以及 创作 的 可能性 n 艺术 电影 的 持续 良性 发展 并 不 容易 需要 各方 协同 努力 既 离不开 院线 的 支持 也 需要 国家 及 行业 机构 给予 艺术院 线 更加 制度化 的 扶持 措施 这样 中国 艺术 电影 才能 涌现出 更 多 佳作 李睿珺 说完']"
      ]
     },
     "execution_count": 19,
     "metadata": {},
     "output_type": "execute_result"
    }
   ],
   "source": [
    "tokens = cut(sample)\n",
    "tokens[:5]"
   ]
  },
  {
   "cell_type": "code",
   "execution_count": 20,
   "metadata": {},
   "outputs": [],
   "source": [
    "with open('baidu_stop_word.txt', 'r') as f:\n",
    "    baidu_stop_words = f.read()\n",
    "baidu_stop_words = baidu_stop_words.split()"
   ]
  },
  {
   "cell_type": "code",
   "execution_count": 21,
   "metadata": {},
   "outputs": [
    {
     "name": "stderr",
     "output_type": "stream",
     "text": [
      "/Users/lin/anaconda3/lib/python3.7/site-packages/sklearn/feature_extraction/text.py:301: UserWarning: Your stop_words may be inconsistent with your preprocessing. Tokenizing the stop words generated tokens ['ain', 'aren', 'couldn', 'didn', 'doesn', 'don', 'hadn', 'hasn', 'haven', 'isn', 'll', 'mon', 'shouldn', 've', 'wasn', 'weren', 'won', 'wouldn'] not in stop_words.\n",
      "  'stop_words.' % sorted(inconsistent))\n"
     ]
    },
    {
     "data": {
      "text/plain": [
       "(5000, 68987)"
      ]
     },
     "execution_count": 21,
     "metadata": {},
     "output_type": "execute_result"
    }
   ],
   "source": [
    "vectorizer = TfidfVectorizer(stop_words = baidu_stop_words)\n",
    "X = vectorizer.fit_transform(tokens)\n",
    "X.shape"
   ]
  },
  {
   "cell_type": "code",
   "execution_count": 21,
   "metadata": {},
   "outputs": [],
   "source": [
    "#vectorizer.vocabulary_"
   ]
  },
  {
   "cell_type": "code",
   "execution_count": 22,
   "metadata": {},
   "outputs": [],
   "source": [
    "tf_idf_vector = X.toarray()"
   ]
  },
  {
   "cell_type": "code",
   "execution_count": 23,
   "metadata": {},
   "outputs": [
    {
     "data": {
      "text/plain": [
       "(5000, 68987)"
      ]
     },
     "execution_count": 23,
     "metadata": {},
     "output_type": "execute_result"
    }
   ],
   "source": [
    "tf_idf_vector.shape"
   ]
  },
  {
   "cell_type": "code",
   "execution_count": 24,
   "metadata": {},
   "outputs": [
    {
     "data": {
      "text/plain": [
       "61935"
      ]
     },
     "execution_count": 24,
     "metadata": {},
     "output_type": "execute_result"
    }
   ],
   "source": [
    "vectorizer.vocabulary_[\"这是\"]"
   ]
  },
  {
   "cell_type": "code",
   "execution_count": 25,
   "metadata": {},
   "outputs": [
    {
     "data": {
      "text/plain": [
       "(array([  777,  1760, 16012, 20005, 21593, 36585, 41921, 48477, 52392,\n",
       "        53445, 58576, 66165]),)"
      ]
     },
     "execution_count": 25,
     "metadata": {},
     "output_type": "execute_result"
    }
   ],
   "source": [
    "np.where(tf_idf_vector[0])"
   ]
  },
  {
   "cell_type": "code",
   "execution_count": 26,
   "metadata": {},
   "outputs": [
    {
     "data": {
      "text/plain": [
       "(5000, 100)"
      ]
     },
     "execution_count": 26,
     "metadata": {},
     "output_type": "execute_result"
    }
   ],
   "source": [
    "pca =  PCA(n_components = 100)\n",
    "#pca_train_x = tf_idf_vector - np.mean(tf_idf_vector)\n",
    "pca_train_x = pca.fit_transform(tf_idf_vector)\n",
    "pca_train_x.shape"
   ]
  },
  {
   "cell_type": "code",
   "execution_count": 32,
   "metadata": {},
   "outputs": [],
   "source": [
    "X_train, X_test, y_train, y_test = train_test_split(pca_train_x, y, test_size=0.33, random_state=42)"
   ]
  },
  {
   "cell_type": "code",
   "execution_count": 33,
   "metadata": {},
   "outputs": [],
   "source": [
    "def performance(y, y_hat):\n",
    "    print(\"precision: {}\".format(precision_score(y, y_hat)))\n",
    "    print(\"recall: {}\".format(recall_score(y, y_hat)))\n",
    "    print(\"roc_auc: {}\".format(roc_auc_score(y, y_hat)))"
   ]
  },
  {
   "cell_type": "code",
   "execution_count": 34,
   "metadata": {},
   "outputs": [],
   "source": [
    "class KNNCluster:\n",
    "    def __init__(self, train_x, train_y):\n",
    "        self.train_x = train_x\n",
    "        self.train_y = train_y\n",
    "        \n",
    "    def run(self, x):\n",
    "        x = x.reshape(1, -1)\n",
    "        idx = np.argmax(cosine_similarity(self.train_x, x))\n",
    "        return self.train_y[idx]\n",
    "    \n",
    "    def predict(self, test):\n",
    "        y_hat = []\n",
    "        for x in test:\n",
    "            y = self.run(x)\n",
    "            y_hat.append(y)\n",
    "        \n",
    "        return np.array(y_hat)\n",
    "    \n",
    "    def get_cos(self, v1, v2):\n",
    "        return cosine(v1, v2)"
   ]
  },
  {
   "cell_type": "code",
   "execution_count": 35,
   "metadata": {},
   "outputs": [],
   "source": [
    "knn = KNNCluster(X_train, y_train)"
   ]
  },
  {
   "cell_type": "code",
   "execution_count": 36,
   "metadata": {},
   "outputs": [],
   "source": [
    "knn_y_hat = knn.predict(X_test)"
   ]
  },
  {
   "cell_type": "code",
   "execution_count": 37,
   "metadata": {},
   "outputs": [
    {
     "name": "stdout",
     "output_type": "stream",
     "text": [
      "precision: 0.9555256064690026\n",
      "recall: 0.9447035309793471\n",
      "roc_auc: 0.7508752554225594\n"
     ]
    }
   ],
   "source": [
    "performance(y_test, knn_y_hat)"
   ]
  },
  {
   "cell_type": "code",
   "execution_count": 38,
   "metadata": {},
   "outputs": [],
   "source": [
    "from sklearn.neighbors import KNeighborsClassifier"
   ]
  },
  {
   "cell_type": "code",
   "execution_count": 39,
   "metadata": {},
   "outputs": [],
   "source": [
    "neigh = KNeighborsClassifier(n_neighbors=3)"
   ]
  },
  {
   "cell_type": "code",
   "execution_count": 40,
   "metadata": {},
   "outputs": [
    {
     "data": {
      "text/plain": [
       "KNeighborsClassifier(algorithm='auto', leaf_size=30, metric='minkowski',\n",
       "           metric_params=None, n_jobs=None, n_neighbors=3, p=2,\n",
       "           weights='uniform')"
      ]
     },
     "execution_count": 40,
     "metadata": {},
     "output_type": "execute_result"
    }
   ],
   "source": [
    "neigh.fit(X_train, y_train)"
   ]
  },
  {
   "cell_type": "code",
   "execution_count": 41,
   "metadata": {},
   "outputs": [],
   "source": [
    "sk_knn_y_hat = neigh.predict(X_test)"
   ]
  },
  {
   "cell_type": "code",
   "execution_count": 42,
   "metadata": {},
   "outputs": [
    {
     "name": "stdout",
     "output_type": "stream",
     "text": [
      "precision: 0.9598366235534377\n",
      "recall: 0.9393737508327782\n",
      "roc_auc: 0.771700298235181\n"
     ]
    }
   ],
   "source": [
    "performance(y_test, sk_knn_y_hat)"
   ]
  },
  {
   "cell_type": "code",
   "execution_count": 43,
   "metadata": {},
   "outputs": [],
   "source": [
    "full_X_train, full_X_test, full_y_train, full_y_test = train_test_split(tf_idf_vector, y, test_size=0.33, random_state=42)"
   ]
  },
  {
   "cell_type": "markdown",
   "metadata": {},
   "source": [
    "## SVM"
   ]
  },
  {
   "cell_type": "code",
   "execution_count": 44,
   "metadata": {},
   "outputs": [],
   "source": [
    "from sklearn.svm import SVC"
   ]
  },
  {
   "cell_type": "code",
   "execution_count": 45,
   "metadata": {},
   "outputs": [],
   "source": [
    "clf = SVC(kernel = 'rbf')"
   ]
  },
  {
   "cell_type": "code",
   "execution_count": 46,
   "metadata": {},
   "outputs": [
    {
     "name": "stderr",
     "output_type": "stream",
     "text": [
      "/Users/lin/anaconda3/lib/python3.7/site-packages/sklearn/svm/base.py:196: FutureWarning: The default value of gamma will change from 'auto' to 'scale' in version 0.22 to account better for unscaled features. Set gamma explicitly to 'auto' or 'scale' to avoid this warning.\n",
      "  \"avoid this warning.\", FutureWarning)\n"
     ]
    },
    {
     "data": {
      "text/plain": [
       "SVC(C=1.0, cache_size=200, class_weight=None, coef0=0.0,\n",
       "  decision_function_shape='ovr', degree=3, gamma='auto_deprecated',\n",
       "  kernel='rbf', max_iter=-1, probability=False, random_state=None,\n",
       "  shrinking=True, tol=0.001, verbose=False)"
      ]
     },
     "execution_count": 46,
     "metadata": {},
     "output_type": "execute_result"
    }
   ],
   "source": [
    "clf.fit(X_train, y_train)"
   ]
  },
  {
   "cell_type": "code",
   "execution_count": 47,
   "metadata": {},
   "outputs": [],
   "source": [
    "svm_y_hat = clf.predict(X_test)"
   ]
  },
  {
   "cell_type": "code",
   "execution_count": 48,
   "metadata": {},
   "outputs": [
    {
     "name": "stdout",
     "output_type": "stream",
     "text": [
      "precision: 0.9096969696969697\n",
      "recall: 1.0\n",
      "roc_auc: 0.5\n"
     ]
    }
   ],
   "source": [
    "performance(y_test, svm_y_hat)"
   ]
  },
  {
   "cell_type": "markdown",
   "metadata": {},
   "source": [
    "## Bayes"
   ]
  },
  {
   "cell_type": "code",
   "execution_count": 49,
   "metadata": {},
   "outputs": [],
   "source": [
    "from sklearn.naive_bayes import GaussianNB"
   ]
  },
  {
   "cell_type": "code",
   "execution_count": 50,
   "metadata": {},
   "outputs": [],
   "source": [
    "clf = GaussianNB()"
   ]
  },
  {
   "cell_type": "code",
   "execution_count": 51,
   "metadata": {},
   "outputs": [
    {
     "data": {
      "text/plain": [
       "GaussianNB(priors=None, var_smoothing=1e-09)"
      ]
     },
     "execution_count": 51,
     "metadata": {},
     "output_type": "execute_result"
    }
   ],
   "source": [
    "clf.fit(X_train, y_train)"
   ]
  },
  {
   "cell_type": "code",
   "execution_count": 82,
   "metadata": {},
   "outputs": [],
   "source": [
    "bayes_y_hat = clf.predict(X_test)"
   ]
  },
  {
   "cell_type": "code",
   "execution_count": 83,
   "metadata": {},
   "outputs": [
    {
     "name": "stdout",
     "output_type": "stream",
     "text": [
      "precision: 0.974\n",
      "recall: 0.6489007328447701\n",
      "roc_auc: 0.737202044274734\n"
     ]
    }
   ],
   "source": [
    "performance(y_test, bayes_y_hat)"
   ]
  },
  {
   "cell_type": "code",
   "execution_count": 105,
   "metadata": {},
   "outputs": [],
   "source": [
    "from scipy.stats import norm\n",
    "from sklearn import preprocessing"
   ]
  },
  {
   "cell_type": "code",
   "execution_count": 106,
   "metadata": {},
   "outputs": [],
   "source": [
    "classifier = set(y_train)"
   ]
  },
  {
   "cell_type": "code",
   "execution_count": 110,
   "metadata": {},
   "outputs": [
    {
     "data": {
      "text/plain": [
       "[array([-7.99157530e-02, -1.05005705e-02, -1.25519140e-02, -2.41024762e-02,\n",
       "        -1.43547107e-02, -1.49137082e-02,  1.57758448e-02, -1.97748267e-02,\n",
       "        -2.11251492e-02,  4.68444938e-04, -1.28199192e-02, -1.34941658e-02,\n",
       "        -4.68386512e-04,  1.26226493e-02, -6.62611432e-03, -1.13250678e-03,\n",
       "        -3.22201872e-03, -9.67523920e-03,  1.38022116e-02,  2.32744543e-03,\n",
       "         3.43821410e-03, -3.55811929e-04, -3.10601043e-03, -1.97105065e-03,\n",
       "        -5.78621369e-04,  2.13909254e-03, -1.13873110e-03,  4.50713030e-03,\n",
       "         7.55622555e-04,  1.66086117e-03,  8.32591643e-03,  1.80330119e-03,\n",
       "        -2.80741227e-03,  2.28528851e-03,  3.98521187e-03, -5.76342827e-03,\n",
       "        -6.67700723e-03, -5.97966543e-03,  3.02082513e-03,  6.47509477e-04,\n",
       "        -3.31091714e-03,  7.75537074e-03,  7.76790967e-03, -2.67579298e-03,\n",
       "        -6.71288676e-03,  3.76017029e-03,  4.27594061e-03, -5.14653241e-04,\n",
       "        -9.16720674e-05,  3.52922949e-03,  4.89449679e-03,  3.51400188e-03,\n",
       "        -5.96520888e-04,  3.49650537e-04,  2.37576787e-03,  1.21442735e-03,\n",
       "        -1.62219473e-04,  5.03900021e-04,  3.28136335e-03,  7.29551432e-04,\n",
       "         1.51424606e-03,  3.16018122e-03, -2.34419087e-03, -1.89720585e-03,\n",
       "         2.85957126e-03,  5.25340621e-03,  4.70916560e-04,  2.86911507e-03,\n",
       "         1.38282803e-03,  9.40356107e-04,  3.24515361e-03, -3.28036610e-03,\n",
       "        -4.81075376e-03, -1.16496779e-03,  2.57596991e-03, -2.32503386e-03,\n",
       "        -4.11621142e-03, -3.36082286e-03, -1.80776784e-03,  2.70106056e-03,\n",
       "        -1.58931763e-04, -1.15493313e-03, -1.34048776e-03, -3.81933003e-03,\n",
       "        -4.95871609e-03,  3.85337114e-03, -1.56809740e-03, -2.39912104e-04,\n",
       "        -8.65511615e-04, -2.17164415e-03, -9.85451573e-04,  3.20076285e-03,\n",
       "        -2.17951224e-03,  3.20150516e-03, -2.74075721e-03,  2.57714082e-04,\n",
       "        -3.84699378e-03, -5.45640240e-03, -4.88082056e-03,  2.74186260e-03]),\n",
       " array([ 9.20051229e-03,  1.36636688e-03,  1.96898961e-03,  3.17274821e-03,\n",
       "         9.80251154e-04,  2.99589083e-03, -2.34699320e-03,  2.37151587e-03,\n",
       "         1.24240459e-03, -5.12367757e-04,  8.08886197e-04,  2.16390742e-03,\n",
       "        -1.26230367e-03, -1.44580117e-03,  6.56477739e-04,  6.96721433e-04,\n",
       "         1.19587853e-03,  8.15897797e-05, -1.37736366e-03, -1.14925632e-04,\n",
       "        -1.21854507e-04,  7.69760914e-04,  1.13236181e-03,  4.39950469e-04,\n",
       "         4.68771743e-04, -6.56150880e-04,  1.34608256e-03,  3.10417248e-05,\n",
       "        -9.87310593e-04,  5.80094798e-04, -6.98631765e-05,  3.41314329e-04,\n",
       "        -2.55522933e-04,  2.99217217e-04,  1.17183248e-05,  5.71716156e-04,\n",
       "         4.21826125e-04,  5.92812672e-04, -4.29850469e-04,  2.48269392e-04,\n",
       "        -1.79093364e-04, -7.42030689e-04, -3.72086875e-04,  3.51373392e-04,\n",
       "         7.62962682e-04, -8.16512695e-04, -1.39677934e-03, -7.71739889e-05,\n",
       "         9.05096056e-05, -3.24026579e-04, -1.26702988e-03, -1.03047219e-04,\n",
       "         3.36345639e-04,  2.00120765e-04, -3.58905192e-04, -2.60021501e-04,\n",
       "         7.57135195e-04, -1.03674614e-04,  3.34030330e-04, -3.09627577e-04,\n",
       "        -3.88170586e-04, -7.90135406e-04,  9.20098784e-04,  3.27239991e-04,\n",
       "        -7.18011631e-04, -5.36639721e-05, -2.50591106e-04,  7.68009177e-05,\n",
       "        -1.13024340e-04,  5.61461239e-04,  1.93813800e-04,  1.68942811e-04,\n",
       "         2.59742137e-04,  5.77221713e-04,  1.85465552e-05,  4.86013740e-04,\n",
       "        -1.97078030e-04,  1.66890094e-04,  6.42187946e-05, -2.38573776e-04,\n",
       "         2.42505321e-04,  8.89966382e-05,  3.91242330e-04,  2.58665190e-04,\n",
       "        -8.34014770e-05, -1.89247532e-04,  1.08038149e-04, -1.60791492e-04,\n",
       "         3.68568101e-04,  8.31648105e-04, -3.62905735e-04,  1.06375833e-04,\n",
       "         4.09635227e-05, -9.30172182e-05,  3.97021070e-04, -3.38205679e-04,\n",
       "         2.44558187e-04,  4.10801130e-04,  5.29496550e-05, -3.64888509e-04])]"
      ]
     },
     "execution_count": 110,
     "metadata": {},
     "output_type": "execute_result"
    }
   ],
   "source": [
    "mean = [np.mean(X_train[y_train==cls, :], axis=0) for cls in classifier]\n",
    "mean"
   ]
  },
  {
   "cell_type": "code",
   "execution_count": 165,
   "metadata": {},
   "outputs": [],
   "source": [
    "class BayesClassifier:\n",
    "    def __init__(self, train_x, train_y):\n",
    "        self.train_x = train_x\n",
    "        self.train_y = train_y\n",
    "        \n",
    "        self.prepare()\n",
    "        \n",
    "    def prepare(self):\n",
    "        self.classifier = list(set(self.train_y))\n",
    "        \n",
    "        self.mean = [np.mean(self.train_x[self.train_y==cls, :], axis=0) for cls in self.classifier]\n",
    "        self.std = [np.std(self.train_x[self.train_y==cls, :], axis=0) for cls in self.classifier]\n",
    "        self.mean = np.array(self.mean)\n",
    "        self.std = np.array(self.std)\n",
    "    \n",
    "        self.p_classifier = [len(self.train_x[self.train_y==cls]) / len(self.train_x) for cls in self.classifier]\n",
    "        \n",
    "    def likehood(self, x, cls_idx):\n",
    "        mean = self.mean[cls_idx,:]\n",
    "        std = self.std[cls_idx,:]\n",
    "        p_cls = self.p_classifier[cls_idx]\n",
    "        \n",
    "        joint = -np.sum(np.log(np.sqrt(2 * np.pi) * std)) - \\\n",
    "                    np.sum(np.power(x - mean, 2) / (2 * np.power(std, 2)))\n",
    "\n",
    "        return joint + np.log(p_cls)\n",
    "    \n",
    "    def predict(self, test):\n",
    "        y_hat = []\n",
    "        \n",
    "        for vector in test: \n",
    "            p_y = [self.likehood(vector, i) for i in range(len(self.classifier))]\n",
    "        \n",
    "            y_hat.append(self.classifier[np.argmax(p_y)])\n",
    "                \n",
    "        return np.array(y_hat)"
   ]
  },
  {
   "cell_type": "code",
   "execution_count": 166,
   "metadata": {},
   "outputs": [],
   "source": [
    "bayes = BayesClassifier(X_train, y_train)"
   ]
  },
  {
   "cell_type": "code",
   "execution_count": 167,
   "metadata": {},
   "outputs": [
    {
     "data": {
      "text/plain": [
       "1000"
      ]
     },
     "execution_count": 167,
     "metadata": {},
     "output_type": "execute_result"
    }
   ],
   "source": [
    "bayes_y_hat = bayes.predict(X_test)\n",
    "sum(bayes_y_hat)"
   ]
  },
  {
   "cell_type": "code",
   "execution_count": 168,
   "metadata": {},
   "outputs": [
    {
     "name": "stdout",
     "output_type": "stream",
     "text": [
      "precision: 0.974\n",
      "recall: 0.6489007328447701\n",
      "roc_auc: 0.737202044274734\n"
     ]
    }
   ],
   "source": [
    "performance(y_test, bayes_y_hat)"
   ]
  }
 ],
 "metadata": {
  "kernelspec": {
   "display_name": "Python 3",
   "language": "python",
   "name": "python3"
  },
  "language_info": {
   "codemirror_mode": {
    "name": "ipython",
    "version": 3
   },
   "file_extension": ".py",
   "mimetype": "text/x-python",
   "name": "python",
   "nbconvert_exporter": "python",
   "pygments_lexer": "ipython3",
   "version": "3.7.3"
  }
 },
 "nbformat": 4,
 "nbformat_minor": 2
}
