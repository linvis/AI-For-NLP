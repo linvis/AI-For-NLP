{
 "cells": [
  {
   "cell_type": "code",
   "execution_count": 6,
   "metadata": {},
   "outputs": [],
   "source": [
    "import pandas as pd\n",
    "import re\n",
    "import jieba\n",
    "from sklearn.feature_extraction.text import TfidfVectorizer\n",
    "import numpy as np\n",
    "from sklearn.model_selection import train_test_split\n",
    "from sklearn.metrics import precision_score\n",
    "from sklearn.metrics import recall_score\n",
    "from sklearn.metrics import roc_auc_score\n",
    "from sklearn.metrics.pairwise import cosine_similarity\n",
    "from sklearn.decomposition import PCA"
   ]
  },
  {
   "cell_type": "code",
   "execution_count": 7,
   "metadata": {},
   "outputs": [],
   "source": [
    "news = pd.read_csv('sqlResult_1558435.csv', encoding='gb18030')"
   ]
  },
  {
   "cell_type": "code",
   "execution_count": 165,
   "metadata": {},
   "outputs": [
    {
     "data": {
      "text/html": [
       "<div>\n",
       "<style scoped>\n",
       "    .dataframe tbody tr th:only-of-type {\n",
       "        vertical-align: middle;\n",
       "    }\n",
       "\n",
       "    .dataframe tbody tr th {\n",
       "        vertical-align: top;\n",
       "    }\n",
       "\n",
       "    .dataframe thead th {\n",
       "        text-align: right;\n",
       "    }\n",
       "</style>\n",
       "<table border=\"1\" class=\"dataframe\">\n",
       "  <thead>\n",
       "    <tr style=\"text-align: right;\">\n",
       "      <th></th>\n",
       "      <th>id</th>\n",
       "      <th>author</th>\n",
       "      <th>source</th>\n",
       "      <th>content</th>\n",
       "      <th>feature</th>\n",
       "      <th>title</th>\n",
       "      <th>url</th>\n",
       "      <th>xinhua</th>\n",
       "    </tr>\n",
       "  </thead>\n",
       "  <tbody>\n",
       "    <tr>\n",
       "      <th>0</th>\n",
       "      <td>89617</td>\n",
       "      <td>NaN</td>\n",
       "      <td>快科技@http://www.kkj.cn/</td>\n",
       "      <td>此外，自本周（6月12日）起，除小米手机6等15款机型外，其余机型已暂停更新发布（含开发版/...</td>\n",
       "      <td>{\"type\":\"科技\",\"site\":\"cnbeta\",\"commentNum\":\"37\"...</td>\n",
       "      <td>小米MIUI 9首批机型曝光：共计15款</td>\n",
       "      <td>http://www.cnbeta.com/articles/tech/623597.htm</td>\n",
       "      <td>0</td>\n",
       "    </tr>\n",
       "    <tr>\n",
       "      <th>1</th>\n",
       "      <td>89616</td>\n",
       "      <td>NaN</td>\n",
       "      <td>快科技@http://www.kkj.cn/</td>\n",
       "      <td>骁龙835作为唯一通过Windows 10桌面平台认证的ARM处理器，高通强调，不会因为只考...</td>\n",
       "      <td>{\"type\":\"科技\",\"site\":\"cnbeta\",\"commentNum\":\"15\"...</td>\n",
       "      <td>骁龙835在Windows 10上的性能表现有望改善</td>\n",
       "      <td>http://www.cnbeta.com/articles/tech/623599.htm</td>\n",
       "      <td>0</td>\n",
       "    </tr>\n",
       "    <tr>\n",
       "      <th>2</th>\n",
       "      <td>89615</td>\n",
       "      <td>NaN</td>\n",
       "      <td>快科技@http://www.kkj.cn/</td>\n",
       "      <td>此前的一加3T搭载的是3400mAh电池，DashCharge快充规格为5V/4A。\\r\\n...</td>\n",
       "      <td>{\"type\":\"科技\",\"site\":\"cnbeta\",\"commentNum\":\"18\"...</td>\n",
       "      <td>一加手机5细节曝光：3300mAh、充半小时用1天</td>\n",
       "      <td>http://www.cnbeta.com/articles/tech/623601.htm</td>\n",
       "      <td>0</td>\n",
       "    </tr>\n",
       "    <tr>\n",
       "      <th>3</th>\n",
       "      <td>89614</td>\n",
       "      <td>NaN</td>\n",
       "      <td>新华社</td>\n",
       "      <td>这是6月18日在葡萄牙中部大佩德罗冈地区拍摄的被森林大火烧毁的汽车。新华社记者张立云摄\\r\\n</td>\n",
       "      <td>{\"type\":\"国际新闻\",\"site\":\"环球\",\"commentNum\":\"0\",\"j...</td>\n",
       "      <td>葡森林火灾造成至少62人死亡 政府宣布进入紧急状态（组图）</td>\n",
       "      <td>http://world.huanqiu.com/hot/2017-06/10866126....</td>\n",
       "      <td>1</td>\n",
       "    </tr>\n",
       "    <tr>\n",
       "      <th>4</th>\n",
       "      <td>89613</td>\n",
       "      <td>胡淑丽_MN7479</td>\n",
       "      <td>深圳大件事</td>\n",
       "      <td>（原标题：44岁女子跑深圳约会网友被拒，暴雨中裸身奔走……）\\r\\n@深圳交警微博称：昨日清...</td>\n",
       "      <td>{\"type\":\"新闻\",\"site\":\"网易热门\",\"commentNum\":\"978\",...</td>\n",
       "      <td>44岁女子约网友被拒暴雨中裸奔 交警为其披衣相随</td>\n",
       "      <td>http://news.163.com/17/0618/00/CN617P3Q0001875...</td>\n",
       "      <td>0</td>\n",
       "    </tr>\n",
       "  </tbody>\n",
       "</table>\n",
       "</div>"
      ],
      "text/plain": [
       "      id      author                  source  \\\n",
       "0  89617         NaN  快科技@http://www.kkj.cn/   \n",
       "1  89616         NaN  快科技@http://www.kkj.cn/   \n",
       "2  89615         NaN  快科技@http://www.kkj.cn/   \n",
       "3  89614         NaN                     新华社   \n",
       "4  89613  胡淑丽_MN7479                   深圳大件事   \n",
       "\n",
       "                                             content  \\\n",
       "0  此外，自本周（6月12日）起，除小米手机6等15款机型外，其余机型已暂停更新发布（含开发版/...   \n",
       "1  骁龙835作为唯一通过Windows 10桌面平台认证的ARM处理器，高通强调，不会因为只考...   \n",
       "2  此前的一加3T搭载的是3400mAh电池，DashCharge快充规格为5V/4A。\\r\\n...   \n",
       "3    这是6月18日在葡萄牙中部大佩德罗冈地区拍摄的被森林大火烧毁的汽车。新华社记者张立云摄\\r\\n   \n",
       "4  （原标题：44岁女子跑深圳约会网友被拒，暴雨中裸身奔走……）\\r\\n@深圳交警微博称：昨日清...   \n",
       "\n",
       "                                             feature  \\\n",
       "0  {\"type\":\"科技\",\"site\":\"cnbeta\",\"commentNum\":\"37\"...   \n",
       "1  {\"type\":\"科技\",\"site\":\"cnbeta\",\"commentNum\":\"15\"...   \n",
       "2  {\"type\":\"科技\",\"site\":\"cnbeta\",\"commentNum\":\"18\"...   \n",
       "3  {\"type\":\"国际新闻\",\"site\":\"环球\",\"commentNum\":\"0\",\"j...   \n",
       "4  {\"type\":\"新闻\",\"site\":\"网易热门\",\"commentNum\":\"978\",...   \n",
       "\n",
       "                           title  \\\n",
       "0           小米MIUI 9首批机型曝光：共计15款   \n",
       "1     骁龙835在Windows 10上的性能表现有望改善   \n",
       "2      一加手机5细节曝光：3300mAh、充半小时用1天   \n",
       "3  葡森林火灾造成至少62人死亡 政府宣布进入紧急状态（组图）   \n",
       "4       44岁女子约网友被拒暴雨中裸奔 交警为其披衣相随   \n",
       "\n",
       "                                                 url  xinhua  \n",
       "0     http://www.cnbeta.com/articles/tech/623597.htm       0  \n",
       "1     http://www.cnbeta.com/articles/tech/623599.htm       0  \n",
       "2     http://www.cnbeta.com/articles/tech/623601.htm       0  \n",
       "3  http://world.huanqiu.com/hot/2017-06/10866126....       1  \n",
       "4  http://news.163.com/17/0618/00/CN617P3Q0001875...       0  "
      ]
     },
     "execution_count": 165,
     "metadata": {},
     "output_type": "execute_result"
    }
   ],
   "source": [
    "news = news.dropna(subset=['content', 'source'])\n",
    "news[:5]"
   ]
  },
  {
   "cell_type": "code",
   "execution_count": 166,
   "metadata": {},
   "outputs": [],
   "source": [
    "news = news.sample(5000)"
   ]
  },
  {
   "cell_type": "code",
   "execution_count": 167,
   "metadata": {},
   "outputs": [
    {
     "data": {
      "text/html": [
       "<div>\n",
       "<style scoped>\n",
       "    .dataframe tbody tr th:only-of-type {\n",
       "        vertical-align: middle;\n",
       "    }\n",
       "\n",
       "    .dataframe tbody tr th {\n",
       "        vertical-align: top;\n",
       "    }\n",
       "\n",
       "    .dataframe thead th {\n",
       "        text-align: right;\n",
       "    }\n",
       "</style>\n",
       "<table border=\"1\" class=\"dataframe\">\n",
       "  <thead>\n",
       "    <tr style=\"text-align: right;\">\n",
       "      <th></th>\n",
       "      <th>id</th>\n",
       "      <th>author</th>\n",
       "      <th>source</th>\n",
       "      <th>content</th>\n",
       "      <th>feature</th>\n",
       "      <th>title</th>\n",
       "      <th>url</th>\n",
       "      <th>xinhua</th>\n",
       "    </tr>\n",
       "  </thead>\n",
       "  <tbody>\n",
       "    <tr>\n",
       "      <th>38619</th>\n",
       "      <td>50993</td>\n",
       "      <td>崔畅（河南）</td>\n",
       "      <td>新华社</td>\n",
       "      <td>新华社照片，三门峡（河南），2017年4月23日\\n读书日寻找读书者\\n4月23日，在河南省...</td>\n",
       "      <td>{\"type\":\"生活方式与休闲\",\"site\":\"新华社\",\"url\":\"http://h...</td>\n",
       "      <td>#（社会）（4）读书日寻找读书者</td>\n",
       "      <td>http://home.xinhua-news.com/gdsdetailxhsnew/19...</td>\n",
       "      <td>1</td>\n",
       "    </tr>\n",
       "    <tr>\n",
       "      <th>70242</th>\n",
       "      <td>19370</td>\n",
       "      <td>IAN LANGSDON</td>\n",
       "      <td>新华社</td>\n",
       "      <td>新华社照片，外代，2017年5月22日\\n（外代二线）影片《每分钟120击》戛纳首映\\n5月...</td>\n",
       "      <td>{\"type\":\"电视、广播、电影\",\"site\":\"新华社\",\"url\":\"http://...</td>\n",
       "      <td>[3]（外代二线）影片《每分钟120击》戛纳首映</td>\n",
       "      <td>http://home.xinhua-news.com/gdsdetailxhsnew/21...</td>\n",
       "      <td>1</td>\n",
       "    </tr>\n",
       "    <tr>\n",
       "      <th>38316</th>\n",
       "      <td>51296</td>\n",
       "      <td>韩瑜庆</td>\n",
       "      <td>新华社</td>\n",
       "      <td>新华社照片，常州（江苏），2017年4月23日\\n（体育）（3）羽毛球——大师赛：川上纱惠奈...</td>\n",
       "      <td>{\"type\":\"羽毛球\",\"site\":\"新华社\",\"url\":\"http://home....</td>\n",
       "      <td>（体育）（3）羽毛球——大师赛：川上纱惠奈获亚军</td>\n",
       "      <td>http://home.xinhua-news.com/gdsdetailxhsnew/19...</td>\n",
       "      <td>1</td>\n",
       "    </tr>\n",
       "    <tr>\n",
       "      <th>34396</th>\n",
       "      <td>55216</td>\n",
       "      <td>杨舒怡</td>\n",
       "      <td>新华社</td>\n",
       "      <td>\\n\\n\\n　　冲绳美军普天间基地。（新华/法新）\\n\\n新华社北京4月20日新媒体专电（记...</td>\n",
       "      <td>{\"type\":\"其它\",\"site\":\"新华社\",\"url\":\"http://home.x...</td>\n",
       "      <td>普天间基地曝污染　美方拒绝日本调查</td>\n",
       "      <td>http://home.xinhua-news.com/gdsdetailxhsnew/19...</td>\n",
       "      <td>1</td>\n",
       "    </tr>\n",
       "    <tr>\n",
       "      <th>42673</th>\n",
       "      <td>46939</td>\n",
       "      <td>NaN</td>\n",
       "      <td>新华社</td>\n",
       "      <td>1961年4月25日，中国与老挝正式建交，56年来，在双方共同努力下，中老全面战略合作伙伴关...</td>\n",
       "      <td>{\"type\":\"其它\",\"site\":\"新华社\",\"url\":\"http://home.x...</td>\n",
       "      <td>“一带一路”全球行：中老铁路相联东盟</td>\n",
       "      <td>http://home.xinhua-news.com/gdsdetailxhsnew/19...</td>\n",
       "      <td>1</td>\n",
       "    </tr>\n",
       "  </tbody>\n",
       "</table>\n",
       "</div>"
      ],
      "text/plain": [
       "          id        author source  \\\n",
       "38619  50993        崔畅（河南）    新华社   \n",
       "70242  19370  IAN LANGSDON    新华社   \n",
       "38316  51296           韩瑜庆    新华社   \n",
       "34396  55216           杨舒怡    新华社   \n",
       "42673  46939           NaN    新华社   \n",
       "\n",
       "                                                 content  \\\n",
       "38619  新华社照片，三门峡（河南），2017年4月23日\\n读书日寻找读书者\\n4月23日，在河南省...   \n",
       "70242  新华社照片，外代，2017年5月22日\\n（外代二线）影片《每分钟120击》戛纳首映\\n5月...   \n",
       "38316  新华社照片，常州（江苏），2017年4月23日\\n（体育）（3）羽毛球——大师赛：川上纱惠奈...   \n",
       "34396  \\n\\n\\n　　冲绳美军普天间基地。（新华/法新）\\n\\n新华社北京4月20日新媒体专电（记...   \n",
       "42673  1961年4月25日，中国与老挝正式建交，56年来，在双方共同努力下，中老全面战略合作伙伴关...   \n",
       "\n",
       "                                                 feature  \\\n",
       "38619  {\"type\":\"生活方式与休闲\",\"site\":\"新华社\",\"url\":\"http://h...   \n",
       "70242  {\"type\":\"电视、广播、电影\",\"site\":\"新华社\",\"url\":\"http://...   \n",
       "38316  {\"type\":\"羽毛球\",\"site\":\"新华社\",\"url\":\"http://home....   \n",
       "34396  {\"type\":\"其它\",\"site\":\"新华社\",\"url\":\"http://home.x...   \n",
       "42673  {\"type\":\"其它\",\"site\":\"新华社\",\"url\":\"http://home.x...   \n",
       "\n",
       "                          title  \\\n",
       "38619          #（社会）（4）读书日寻找读书者   \n",
       "70242  [3]（外代二线）影片《每分钟120击》戛纳首映   \n",
       "38316  （体育）（3）羽毛球——大师赛：川上纱惠奈获亚军   \n",
       "34396         普天间基地曝污染　美方拒绝日本调查   \n",
       "42673        “一带一路”全球行：中老铁路相联东盟   \n",
       "\n",
       "                                                     url  xinhua  \n",
       "38619  http://home.xinhua-news.com/gdsdetailxhsnew/19...       1  \n",
       "70242  http://home.xinhua-news.com/gdsdetailxhsnew/21...       1  \n",
       "38316  http://home.xinhua-news.com/gdsdetailxhsnew/19...       1  \n",
       "34396  http://home.xinhua-news.com/gdsdetailxhsnew/19...       1  \n",
       "42673  http://home.xinhua-news.com/gdsdetailxhsnew/19...       1  "
      ]
     },
     "execution_count": 167,
     "metadata": {},
     "output_type": "execute_result"
    }
   ],
   "source": [
    "news['xinhua'] = np.where(news['source'].str.contains('新华'), 1, 0)\n",
    "news[:5]"
   ]
  },
  {
   "cell_type": "code",
   "execution_count": 168,
   "metadata": {},
   "outputs": [
    {
     "data": {
      "text/plain": [
       "array([1, 1, 1, ..., 1, 1, 1])"
      ]
     },
     "execution_count": 168,
     "metadata": {},
     "output_type": "execute_result"
    }
   ],
   "source": [
    "np.where(news['source'].str.contains('新华'), 1, 0)"
   ]
  },
  {
   "cell_type": "code",
   "execution_count": 171,
   "metadata": {},
   "outputs": [
    {
     "data": {
      "text/plain": [
       "497"
      ]
     },
     "execution_count": 171,
     "metadata": {},
     "output_type": "execute_result"
    }
   ],
   "source": [
    "len(news[news['xinhua']==0])"
   ]
  },
  {
   "cell_type": "code",
   "execution_count": 172,
   "metadata": {},
   "outputs": [],
   "source": [
    "sample = news['content'].tolist()"
   ]
  },
  {
   "cell_type": "code",
   "execution_count": 174,
   "metadata": {},
   "outputs": [
    {
     "data": {
      "text/plain": [
       "'新华社 照片 三门峡 河南 2017 年 4 月 23 日 n 读书 日 寻找 读书 者 n4 月 23 日 在 河南省 义马市 新区 办事处 千秋 村 95 岁 的 魏祖鹤 老人 右 与 59 岁 的 儿子 一同 阅览 书籍 古文观止 n 当日 是 世界 读书 日 n 新华社 发崔畅 摄'"
      ]
     },
     "execution_count": 174,
     "metadata": {},
     "output_type": "execute_result"
    }
   ],
   "source": [
    "a = ''.join(re.findall(re.compile('\\w|\\d'), sample[0]))\n",
    "b = ' '.join(jieba.cut(a))\n",
    "b"
   ]
  },
  {
   "cell_type": "code",
   "execution_count": 175,
   "metadata": {},
   "outputs": [],
   "source": [
    "def cut(content):\n",
    "    def remove_extra_char(content):\n",
    "        content =  [''.join(re.findall(re.compile('\\w|\\d'), con)) for con in content]\n",
    "        return content\n",
    "    \n",
    "    content = remove_extra_char(content)\n",
    "    \n",
    "    jieba.enable_parallel(4)\n",
    "    \n",
    "    return [' '.join(jieba.cut(con)) for con in content]"
   ]
  },
  {
   "cell_type": "code",
   "execution_count": 176,
   "metadata": {},
   "outputs": [
    {
     "data": {
      "text/plain": [
       "['新华社 照片 三门峡 河南 2017 年 4 月 23 日 n 读书 日 寻找 读书 者 n4 月 23 日 在 河南省 义马市 新区 办事处 千秋 村 95 岁 的 魏祖鹤 老人 右 与 59 岁 的 儿子 一同 阅览 书籍 古文观止 n 当日 是 世界 读书 日 n 新华社 发崔畅 摄',\n",
       " '新华社 照片 外代 2017 年 5 月 22 日 n 外代 二线 影片 每分钟 120 击 戛纳 首映 n5 月 20 日 在 法国 戛纳 美国 模特 肯德尔 詹娜 出席 影片 每分钟 120 击 首映式 n 金棕榈奖 入围 影片 每分钟 120 击 当日 在 第 70 届 戛纳 电影节 首映 n 新华社 欧新 n',\n",
       " '新华社 照片 常州 江苏 2017 年 4 月 23 日 n 体育 3 羽毛球 大师赛 川上 纱惠奈获 亚军 n4 月 23 日 日本 选手 川上 纱惠奈 在 比赛 中 回球 n 当日 在 江苏 常州 举行 的 2017 中国羽毛球 大师赛 女单 决赛 中 日本 选手 川上 纱惠奈以 1 比 2 不敌 队友 大堀彩 获得 亚军 n 新华社 记者 韩瑜庆摄 nn',\n",
       " 'nnn 冲绳 美军 普天间基地 新华 法新 nn 新华社 北京 4 月 20 日新 媒体 专电 记者 杨舒怡据 日本 官员 透露 冲绳 美军 普天间基地 的 地下水 发现 两种 致癌物质 浓度 超标 由于 美方 拒绝 日方 派 人 进行 彻查 眼下 无法 准确 判断 污染物 的 来源 n 不过 这 两种 致癌物 被 用于 制造 灭火剂 航空 润滑油 等 嫌疑 矛头 直指 驻日 美军基地 n 日方 查出 污染 n 今日 俄罗斯电视台 网站 19 日 援引 日本 冲绳县 政府 环保部门 的 一份 声明 报道 根据 该 部门 2016 年 8 月 2017 年 1 月 的 两次 地下水 检测 美军 普天间基地 及 周边地区 的 地下水 中 发现 高浓度 的 全氟 辛基 磺酸 化合物 PFOS 全氟 辛酸 类化合物 PFOA 两种 有毒 物质 n 冲绳县 环保部门 负责 水质 检测 的 官员 宫平吉成 音译 说 在 普天间基地 附近 的 大山 喜友名 两处 区域 的 地下水 均 检测 到 高浓度 的 毒物 引起 日方 警觉 n 日本 自 2010 年 以来 禁止 生产 和 进口 PFOSPFOA 两种 物质 但是 最近 仍然 从 冲绳县 的 美军 普天间基地 和 嘉手纳 基地 检测 到 这类 污染 n 例如 在 2016 年 8 月 的 地下水 质 调查 中 日方 发现 35 处 监测点 中有 3 处 的 PFOS 浓度 超过 了 每 升水 007 微克 的 饮用水 安全 上限 其 浓度 分别 为 13 微克 021 微克 071 微克 值得注意 的 是 这 3 处 地点 均 位于 嘉手纳 基地 的 下游 地带 n 在 2017 年 1 月 的 地下水 质 调查 中 冲绳县 41 处 监测点 中有 6 处 发现 PFOS 其 浓度 在 每 升水 011 微克 至 088 微克 不 等 nn 宜野湾 美军 鱼鹰 运输机 起飞 向 普天间基地 飞去 新华 路透 nn 美方 阻挠 调查 n 据 了解 PFOSPFOA 均 为 人工 化合物 被 用于 制造 消防 泡沫 航空 润滑油 防水材料 等 一旦 泄漏 可能 引发 人体 肿瘤 等 病变 以及 造成 动物 死亡 n 按照 宫平 的 说法 这些 有毒 物质 浓度 在 美军基地 的 下游 地带 尤其 偏高 相比之下 在 美军基地 的 上游 地带 毒物 浓度 相对 较 低 n 眼下 尚 不 清楚 这些 毒物 的 具体 来源 美国 星条旗 报 报道 日本 冲绳县 官员 有意 进入 美军基地 进行 彻查 但 遭 美国 海军陆战队 拒绝 n 宫平 透露 我们 要求 美国国防部 提供 过往 使用 这 类物质 的 相关 记录 并 希望 由 冲绳县 政府 展开 实地调查 然而 美方 答复 说 美军 按规定 使用 这 类物质 没有 必要 由 日方 进行 调查 n 颇为 蹊跷 的 是 就 在 日方 检测 出 嘉手纳 基地 下游 存在 污染 时 美军 宣布 将弃 用 原先 材料 改为 使用 另 一款 更为 环保 的 消防 泡沫 材料 n 去年 4 月 公开 的 一批 文件 显示 在 此前 15 年间 美军 普天间基地 多次 发生 消防 泡沫 泄漏 总量 达到 至少 21 万升 不过 泄漏 物 并非 全是 有毒 物质 n',\n",
       " '1961 年 4 月 25 日 中国 与 老挝 正式 建交 56 年 来 在 双方 共同努力 下中 老 全面 战略 合作伙伴 关系 日益 深化 双方 高层 互访 频繁 经贸合作 成果 丰硕 当 老挝 的 变陆 锁国 为 陆联国 战略 遇到 中国 的 一带 一路 倡议 两 国 共同 发展 的 命运 便 更加 紧密 地 结合 在 一起 n 视频 编辑 邓寒思 刘 袁媛 n 合成 张振江 n 编辑 尚亚楠 n 中国 新华 新闻 电视网 n']"
      ]
     },
     "execution_count": 176,
     "metadata": {},
     "output_type": "execute_result"
    },
    {
     "name": "stderr",
     "output_type": "stream",
     "text": [
      "Process ForkPoolWorker-15:\n",
      "Process ForkPoolWorker-13:\n",
      "Process ForkPoolWorker-14:\n",
      "Process ForkPoolWorker-16:\n",
      "Traceback (most recent call last):\n",
      "Traceback (most recent call last):\n",
      "  File \"/anaconda3/lib/python3.7/multiprocessing/process.py\", line 297, in _bootstrap\n",
      "    self.run()\n",
      "  File \"/anaconda3/lib/python3.7/multiprocessing/process.py\", line 297, in _bootstrap\n",
      "    self.run()\n",
      "  File \"/anaconda3/lib/python3.7/multiprocessing/process.py\", line 99, in run\n",
      "    self._target(*self._args, **self._kwargs)\n",
      "  File \"/anaconda3/lib/python3.7/multiprocessing/process.py\", line 99, in run\n",
      "    self._target(*self._args, **self._kwargs)\n",
      "Traceback (most recent call last):\n",
      "  File \"/anaconda3/lib/python3.7/multiprocessing/pool.py\", line 110, in worker\n",
      "    task = get()\n",
      "  File \"/anaconda3/lib/python3.7/multiprocessing/pool.py\", line 110, in worker\n",
      "    task = get()\n",
      "Traceback (most recent call last):\n",
      "  File \"/anaconda3/lib/python3.7/multiprocessing/queues.py\", line 351, in get\n",
      "    with self._rlock:\n",
      "  File \"/anaconda3/lib/python3.7/multiprocessing/process.py\", line 297, in _bootstrap\n",
      "    self.run()\n",
      "  File \"/anaconda3/lib/python3.7/multiprocessing/queues.py\", line 352, in get\n",
      "    res = self._reader.recv_bytes()\n",
      "  File \"/anaconda3/lib/python3.7/multiprocessing/connection.py\", line 216, in recv_bytes\n",
      "    buf = self._recv_bytes(maxlength)\n",
      "  File \"/anaconda3/lib/python3.7/multiprocessing/synchronize.py\", line 95, in __enter__\n",
      "    return self._semlock.__enter__()\n",
      "  File \"/anaconda3/lib/python3.7/multiprocessing/process.py\", line 99, in run\n",
      "    self._target(*self._args, **self._kwargs)\n",
      "  File \"/anaconda3/lib/python3.7/multiprocessing/process.py\", line 297, in _bootstrap\n",
      "    self.run()\n",
      "KeyboardInterrupt\n",
      "  File \"/anaconda3/lib/python3.7/multiprocessing/connection.py\", line 407, in _recv_bytes\n",
      "    buf = self._recv(4)\n",
      "  File \"/anaconda3/lib/python3.7/multiprocessing/pool.py\", line 110, in worker\n",
      "    task = get()\n",
      "  File \"/anaconda3/lib/python3.7/multiprocessing/process.py\", line 99, in run\n",
      "    self._target(*self._args, **self._kwargs)\n",
      "  File \"/anaconda3/lib/python3.7/multiprocessing/connection.py\", line 379, in _recv\n",
      "    chunk = read(handle, remaining)\n",
      "  File \"/anaconda3/lib/python3.7/multiprocessing/queues.py\", line 351, in get\n",
      "    with self._rlock:\n",
      "  File \"/anaconda3/lib/python3.7/multiprocessing/pool.py\", line 110, in worker\n",
      "    task = get()\n",
      "KeyboardInterrupt\n",
      "  File \"/anaconda3/lib/python3.7/multiprocessing/synchronize.py\", line 95, in __enter__\n",
      "    return self._semlock.__enter__()\n",
      "  File \"/anaconda3/lib/python3.7/multiprocessing/queues.py\", line 351, in get\n",
      "    with self._rlock:\n",
      "KeyboardInterrupt\n",
      "  File \"/anaconda3/lib/python3.7/multiprocessing/synchronize.py\", line 95, in __enter__\n",
      "    return self._semlock.__enter__()\n",
      "KeyboardInterrupt\n"
     ]
    }
   ],
   "source": [
    "tokens = cut(sample)\n",
    "tokens[:5]"
   ]
  },
  {
   "cell_type": "code",
   "execution_count": 177,
   "metadata": {},
   "outputs": [],
   "source": [
    "with open('baidu_stop_word.txt', 'r') as f:\n",
    "    baidu_stop_words = f.read()\n",
    "baidu_stop_words = baidu_stop_words.split()"
   ]
  },
  {
   "cell_type": "code",
   "execution_count": 178,
   "metadata": {},
   "outputs": [
    {
     "name": "stderr",
     "output_type": "stream",
     "text": [
      "/anaconda3/lib/python3.7/site-packages/sklearn/feature_extraction/text.py:300: UserWarning: Your stop_words may be inconsistent with your preprocessing. Tokenizing the stop words generated tokens ['ain', 'aren', 'couldn', 'didn', 'doesn', 'don', 'hadn', 'hasn', 'haven', 'isn', 'll', 'mon', 'shouldn', 've', 'wasn', 'weren', 'won', 'wouldn'] not in stop_words.\n",
      "  'stop_words.' % sorted(inconsistent))\n"
     ]
    },
    {
     "data": {
      "text/plain": [
       "(5000, 69040)"
      ]
     },
     "execution_count": 178,
     "metadata": {},
     "output_type": "execute_result"
    }
   ],
   "source": [
    "vectorizer = TfidfVectorizer(stop_words = baidu_stop_words)\n",
    "X = vectorizer.fit_transform(tokens)\n",
    "X.shape"
   ]
  },
  {
   "cell_type": "code",
   "execution_count": 21,
   "metadata": {},
   "outputs": [],
   "source": [
    "#vectorizer.vocabulary_"
   ]
  },
  {
   "cell_type": "code",
   "execution_count": 179,
   "metadata": {},
   "outputs": [],
   "source": [
    "tf_idf_vector = X.toarray()"
   ]
  },
  {
   "cell_type": "code",
   "execution_count": 180,
   "metadata": {},
   "outputs": [
    {
     "data": {
      "text/plain": [
       "(5000, 69040)"
      ]
     },
     "execution_count": 180,
     "metadata": {},
     "output_type": "execute_result"
    }
   ],
   "source": [
    "tf_idf_vector.shape"
   ]
  },
  {
   "cell_type": "code",
   "execution_count": 181,
   "metadata": {},
   "outputs": [
    {
     "data": {
      "text/plain": [
       "61986"
      ]
     },
     "execution_count": 181,
     "metadata": {},
     "output_type": "execute_result"
    }
   ],
   "source": [
    "vectorizer.vocabulary_[\"这是\"]"
   ]
  },
  {
   "cell_type": "code",
   "execution_count": 182,
   "metadata": {},
   "outputs": [
    {
     "data": {
      "text/plain": [
       "(array([  711,   838,  1566,  2024,  2737,  3447,  4503,  5481,  7212,\n",
       "         7703, 11708, 15424, 16505, 18132, 18650, 26770, 30586, 36612,\n",
       "        36615, 43413, 43419, 46208, 54164, 59272, 64859, 68330]),)"
      ]
     },
     "execution_count": 182,
     "metadata": {},
     "output_type": "execute_result"
    }
   ],
   "source": [
    "np.where(tf_idf_vector[0])"
   ]
  },
  {
   "cell_type": "code",
   "execution_count": 183,
   "metadata": {},
   "outputs": [
    {
     "data": {
      "text/plain": [
       "(5000, 100)"
      ]
     },
     "execution_count": 183,
     "metadata": {},
     "output_type": "execute_result"
    }
   ],
   "source": [
    "pca =  PCA(n_components = 100)\n",
    "#pca_train_x = tf_idf_vector - np.mean(tf_idf_vector)\n",
    "pca_train_x = pca.fit_transform(tf_idf_vector)\n",
    "pca_train_x.shape"
   ]
  },
  {
   "cell_type": "code",
   "execution_count": 185,
   "metadata": {},
   "outputs": [],
   "source": [
    "X_train, X_test, y_train, y_test = train_test_split(pca_train_x, y, test_size=0.33, random_state=42)"
   ]
  },
  {
   "cell_type": "code",
   "execution_count": 360,
   "metadata": {},
   "outputs": [],
   "source": [
    "def performance(y, y_hat):\n",
    "    print(\"precision: {}\".format(precision_score(y, y_hat)))\n",
    "    print(\"recall: {}\".format(recall_score(y, y_hat)))\n",
    "    print(\"roc_auc: {}\".format(roc_auc_score(y, y_hat)))"
   ]
  },
  {
   "cell_type": "code",
   "execution_count": 187,
   "metadata": {},
   "outputs": [],
   "source": [
    "class KNNCluster:\n",
    "    def __init__(self, train_x, train_y):\n",
    "        self.train_x = train_x\n",
    "        self.train_y = train_y\n",
    "        \n",
    "    def run(self, x):\n",
    "        x = x.reshape(1, -1)\n",
    "        idx = np.argmax(cosine_similarity(self.train_x, x))\n",
    "        return self.train_y[idx]\n",
    "    \n",
    "    def predict(self, test):\n",
    "        y_hat = []\n",
    "        for x in test:\n",
    "            y = self.run(x)\n",
    "            y_hat.append(y)\n",
    "        \n",
    "        return np.array(y_hat)\n",
    "    \n",
    "    def get_cos(self, v1, v2):\n",
    "        return cosine(v1, v2)"
   ]
  },
  {
   "cell_type": "code",
   "execution_count": 188,
   "metadata": {},
   "outputs": [],
   "source": [
    "knn = KNNCluster(X_train, y_train)"
   ]
  },
  {
   "cell_type": "code",
   "execution_count": 189,
   "metadata": {},
   "outputs": [],
   "source": [
    "knn_y_hat = knn.predict(X_test)"
   ]
  },
  {
   "cell_type": "code",
   "execution_count": 190,
   "metadata": {},
   "outputs": [
    {
     "name": "stdout",
     "output_type": "stream",
     "text": [
      "precision: 0.937204591492235\n",
      "recall: 0.940379403794038\n",
      "roc_auc: 0.7029483225866742\n"
     ]
    }
   ],
   "source": [
    "performance(y_test, knn_y_hat)"
   ]
  },
  {
   "cell_type": "code",
   "execution_count": 191,
   "metadata": {},
   "outputs": [],
   "source": [
    "from sklearn.neighbors import KNeighborsClassifier"
   ]
  },
  {
   "cell_type": "code",
   "execution_count": 192,
   "metadata": {},
   "outputs": [],
   "source": [
    "neigh = KNeighborsClassifier(n_neighbors=3)"
   ]
  },
  {
   "cell_type": "code",
   "execution_count": 193,
   "metadata": {},
   "outputs": [
    {
     "data": {
      "text/plain": [
       "KNeighborsClassifier(algorithm='auto', leaf_size=30, metric='minkowski',\n",
       "           metric_params=None, n_jobs=None, n_neighbors=3, p=2,\n",
       "           weights='uniform')"
      ]
     },
     "execution_count": 193,
     "metadata": {},
     "output_type": "execute_result"
    }
   ],
   "source": [
    "neigh.fit(X_train, y_train)"
   ]
  },
  {
   "cell_type": "code",
   "execution_count": 194,
   "metadata": {},
   "outputs": [],
   "source": [
    "sk_knn_y_hat = neigh.predict(X_test)"
   ]
  },
  {
   "cell_type": "code",
   "execution_count": 195,
   "metadata": {},
   "outputs": [
    {
     "name": "stdout",
     "output_type": "stream",
     "text": [
      "precision: 0.942450914014895\n",
      "recall: 0.943089430894309\n",
      "roc_auc: 0.727291841883936\n"
     ]
    }
   ],
   "source": [
    "performance(y_test, sk_knn_y_hat)"
   ]
  },
  {
   "cell_type": "code",
   "execution_count": 196,
   "metadata": {},
   "outputs": [],
   "source": [
    "full_X_train, full_X_test, full_y_train, full_y_test = train_test_split(tf_idf_vector, y, test_size=0.33, random_state=42)"
   ]
  },
  {
   "cell_type": "markdown",
   "metadata": {},
   "source": [
    "## SVM"
   ]
  },
  {
   "cell_type": "code",
   "execution_count": 197,
   "metadata": {},
   "outputs": [],
   "source": [
    "from sklearn.svm import SVC"
   ]
  },
  {
   "cell_type": "code",
   "execution_count": 209,
   "metadata": {},
   "outputs": [],
   "source": [
    "clf = SVC(kernel = 'rbf')"
   ]
  },
  {
   "cell_type": "code",
   "execution_count": 210,
   "metadata": {},
   "outputs": [
    {
     "name": "stderr",
     "output_type": "stream",
     "text": [
      "/anaconda3/lib/python3.7/site-packages/sklearn/svm/base.py:196: FutureWarning: The default value of gamma will change from 'auto' to 'scale' in version 0.22 to account better for unscaled features. Set gamma explicitly to 'auto' or 'scale' to avoid this warning.\n",
      "  \"avoid this warning.\", FutureWarning)\n"
     ]
    },
    {
     "data": {
      "text/plain": [
       "SVC(C=1.0, cache_size=200, class_weight=None, coef0=0.0,\n",
       "  decision_function_shape='ovr', degree=3, gamma='auto_deprecated',\n",
       "  kernel='rbf', max_iter=-1, probability=False, random_state=None,\n",
       "  shrinking=True, tol=0.001, verbose=False)"
      ]
     },
     "execution_count": 210,
     "metadata": {},
     "output_type": "execute_result"
    }
   ],
   "source": [
    "clf.fit(X_train, y_train)"
   ]
  },
  {
   "cell_type": "code",
   "execution_count": 211,
   "metadata": {},
   "outputs": [],
   "source": [
    "svm_y_hat = clf.predict(X_test)"
   ]
  },
  {
   "cell_type": "code",
   "execution_count": 212,
   "metadata": {},
   "outputs": [
    {
     "name": "stdout",
     "output_type": "stream",
     "text": [
      "precision: 0.8945454545454545\n",
      "recall: 1.0\n",
      "roc_auc: 0.5\n"
     ]
    }
   ],
   "source": [
    "performance(y_test, svm_y_hat)"
   ]
  },
  {
   "cell_type": "markdown",
   "metadata": {},
   "source": [
    "## Bayes"
   ]
  },
  {
   "cell_type": "code",
   "execution_count": 321,
   "metadata": {},
   "outputs": [],
   "source": [
    "from sklearn.naive_bayes import GaussianNB"
   ]
  },
  {
   "cell_type": "code",
   "execution_count": 322,
   "metadata": {},
   "outputs": [],
   "source": [
    "clf = GaussianNB()"
   ]
  },
  {
   "cell_type": "code",
   "execution_count": 323,
   "metadata": {},
   "outputs": [
    {
     "data": {
      "text/plain": [
       "GaussianNB(priors=None, var_smoothing=1e-09)"
      ]
     },
     "execution_count": 323,
     "metadata": {},
     "output_type": "execute_result"
    }
   ],
   "source": [
    "clf.fit(X_train, y_train)"
   ]
  },
  {
   "cell_type": "code",
   "execution_count": 324,
   "metadata": {},
   "outputs": [],
   "source": [
    "bayes_y_hat = clf.predict(X_test)"
   ]
  },
  {
   "cell_type": "code",
   "execution_count": 325,
   "metadata": {},
   "outputs": [
    {
     "name": "stdout",
     "output_type": "stream",
     "text": [
      "precision: 0.9675834970530451\n",
      "recall: 0.6673441734417345\n",
      "roc_auc: 0.7388445005139707\n"
     ]
    }
   ],
   "source": [
    "performance(y_test, bayes_y_hat)"
   ]
  },
  {
   "cell_type": "code",
   "execution_count": 384,
   "metadata": {},
   "outputs": [],
   "source": [
    "from scipy.stats import norm\n",
    "from sklearn import preprocessing"
   ]
  },
  {
   "cell_type": "code",
   "execution_count": 470,
   "metadata": {},
   "outputs": [],
   "source": [
    "class BayesCluster:\n",
    "    def __init__(self, train_x, train_y):\n",
    "        self.train_x = preprocessing.normalize(train_x)\n",
    "        self.train_y = train_y\n",
    "        \n",
    "        self.prepare()\n",
    "        \n",
    "    def prepare(self):\n",
    "        self.y_true_x_mean = np.mean(self.train_x[self.train_y==1,:], axis=0,)\n",
    "        self.y_true_x_std = np.std(self.train_x[self.train_y==1,:], axis=0,)\n",
    "        \n",
    "        #print(self.y_true_x_mean)\n",
    "        #print(self.y_true_x_std)\n",
    "        \n",
    "        self.y_false_x_mean = np.mean(self.train_x[self.train_y==0,:], axis=0,)\n",
    "        self.y_false_x_std = np.std(self.train_x[self.train_y==0,:], axis=0,)\n",
    "        \n",
    "        #print(self.y_false_x_mean)\n",
    "        #print(self.y_false_x_std)\n",
    "    \n",
    "        self.y_true = len(self.train_x[self.train_y==1]) / len(self.train_x)\n",
    "        self.y_false = len(self.train_x[self.train_y==0]) / len(self.train_x)\n",
    "\n",
    "        \n",
    "    \n",
    "    def predict(self, test):\n",
    "        y_hat = []\n",
    "        p_y_true = 1\n",
    "        p_y_false = 1\n",
    "        for vector in test:\n",
    "            #print(vector)\n",
    "            for idx, v in enumerate(vector):\n",
    "                #print(idx)\n",
    "                p_y_true *= norm.cdf(v, loc = self.y_true_x_mean[idx], scale = self.y_true_x_std[idx])\n",
    "                p_y_false *= norm.cdf(v, loc = self.y_false_x_mean[idx], scale = self.y_false_x_std[idx])\n",
    "            \n",
    "                if p_y_true < 1e-100:\n",
    "                    p_y_true *= 1e10\n",
    "                if p_y_false < 1e-100:\n",
    "                    p_y_false *= 1e10\n",
    "                #print(p_y_true)\n",
    "                #print(p_y_false)\n",
    "            \n",
    "            p_y_true *= self.y_true\n",
    "            p_y_false *= self.y_false\n",
    "            \n",
    "            #print(p_y_true)\n",
    "            #print(p_y_false)\n",
    "            #print('----------------')\n",
    "            if p_y_true > p_y_false:\n",
    "                y_hat.append(1)\n",
    "            else:\n",
    "                y_hat.append(0)\n",
    "                \n",
    "        return np.array(y_hat)"
   ]
  },
  {
   "cell_type": "code",
   "execution_count": 471,
   "metadata": {},
   "outputs": [],
   "source": [
    "bayes = BayesCluster(X_train, y_train)"
   ]
  },
  {
   "cell_type": "code",
   "execution_count": 472,
   "metadata": {},
   "outputs": [
    {
     "data": {
      "text/plain": [
       "array([1, 1, 0, ..., 0, 0, 1])"
      ]
     },
     "execution_count": 472,
     "metadata": {},
     "output_type": "execute_result"
    }
   ],
   "source": [
    "bayes_y_hat = bayes.predict(preprocessing.normalize(X_test))\n",
    "bayes_y_hat"
   ]
  },
  {
   "cell_type": "code",
   "execution_count": 473,
   "metadata": {},
   "outputs": [
    {
     "name": "stdout",
     "output_type": "stream",
     "text": [
      "precision: 0.895397489539749\n",
      "recall: 0.5799457994579946\n",
      "roc_auc: 0.5026165778899169\n"
     ]
    }
   ],
   "source": [
    "performance(y_test, bayes_y_hat)"
   ]
  }
 ],
 "metadata": {
  "kernelspec": {
   "display_name": "Python 3",
   "language": "python",
   "name": "python3"
  },
  "language_info": {
   "codemirror_mode": {
    "name": "ipython",
    "version": 3
   },
   "file_extension": ".py",
   "mimetype": "text/x-python",
   "name": "python",
   "nbconvert_exporter": "python",
   "pygments_lexer": "ipython3",
   "version": "3.7.1"
  }
 },
 "nbformat": 4,
 "nbformat_minor": 2
}
